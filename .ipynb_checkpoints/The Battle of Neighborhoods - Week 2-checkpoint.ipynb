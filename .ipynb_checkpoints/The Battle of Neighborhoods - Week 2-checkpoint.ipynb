{
 "cells": [
  {
   "cell_type": "markdown",
   "metadata": {},
   "source": [
    "# Capstone Project - The Battle of the Neighborhoods (Week 2)\n",
    "### Applied Data Science Capstone by IBM/Coursera"
   ]
  },
  {
   "cell_type": "markdown",
   "metadata": {},
   "source": [
    "## Table of contents\n",
    "* [Introduction: Business Problem](#introduction)\n",
    "* [Data](#data)\n",
    "* [Methodology](#methodology)\n",
    "* [Analysis](#analysis)\n",
    "* [Results and Discussion](#results)\n",
    "* [Conclusion](#conclusion)"
   ]
  },
  {
   "cell_type": "markdown",
   "metadata": {},
   "source": [
    "## Introduction: Business Problem <a name=\"introduction\"></a>"
   ]
  },
  {
   "cell_type": "markdown",
   "metadata": {},
   "source": [
    "In this project we will try to find an optimal location for a restaurant. Specifically, this report will be targeted to stakeholders interested in opening an **Vegan restaurant** in **Goiânia**, Brazil.\n",
    "\n",
    "Since there aren't many vegan restaurants in Goiânia we will try to detect **locations that are mostly likely to receive well a new vegan restaurant** looking to places that alreary are this kind of restaurant and detecting similar neighborhoods. We are also particularly interested in **areas close to city center as possible**.\n",
    "\n",
    "We will use our data science powers to generate a few most promissing neighborhoods based os this criteria. Advantages of each area will then be clearly expressed so that best possible final location can be chosen by stakeholders."
   ]
  },
  {
   "cell_type": "markdown",
   "metadata": {},
   "source": [
    "## Data <a name=\"data\"></a>"
   ]
  },
  {
   "cell_type": "markdown",
   "metadata": {},
   "source": [
    "Based on definition of our problem, factors that will influence our decision are:\n",
    "\n",
    "* number of existing restaurantes in the neighborhood (any type of restaurant)\n",
    "* number of Vegan restaurants int he neighborhood, if any\n",
    "* similarity between neighborhoods\n",
    "* distance of neighborhood form city center\n",
    "    \n",
    "Following data sources will be neede to extract/generate the required information:\n",
    "\n",
    "* centers of candidate areas will be generated algoritmically and approximate addresses fo centers of those areas will be obtained using **Google Maps API reverse geocoding**\n",
    "* number of restaurantes and their tpe and location in every neighborhood will be obtained using Foursquare API\n",
    "* coordinate of Berlin center will be obtained using Google Maps API geocoding"
   ]
  },
  {
   "cell_type": "markdown",
   "metadata": {},
   "source": [
    "### Neighborhood Candidates"
   ]
  },
  {
   "cell_type": "markdown",
   "metadata": {},
   "source": [
    "1. Scraping the page [https://nominatim.openstreetmap.org/details.php?osmtype=R&osmid=334547&class=boundary] to importing Goiânia borough data\n",
    "2. Pre-prosesing Borough data\n",
    "3. Getting Borough data Coordinates\n",
    "4. Pre-prosessing Coodinates data"
   ]
  },
  {
   "cell_type": "markdown",
   "metadata": {},
   "source": [
    "#### 1. Scraping page to import Goiânia borough data"
   ]
  },
  {
   "cell_type": "markdown",
   "metadata": {},
   "source": [
    "Importing necessary Libraries"
   ]
  },
  {
   "cell_type": "code",
   "execution_count": 1,
   "metadata": {},
   "outputs": [],
   "source": [
    "from selenium import webdriver\n",
    "from bs4 import BeautifulSoup\n",
    "from selenium.webdriver.firefox.options import Options\n",
    "\n",
    "import pandas as pd\n",
    "import numpy as np"
   ]
  },
  {
   "cell_type": "markdown",
   "metadata": {},
   "source": [
    "Scraping and cleaning the pages"
   ]
  },
  {
   "cell_type": "code",
   "execution_count": 2,
   "metadata": {},
   "outputs": [],
   "source": [
    "   # Set the path to chromedriver\n",
    "url = r\"https://nominatim.openstreetmap.org/details.php?osmtype=R&osmid=334547&class=boundary\"\n",
    "    \n",
    "driver = webdriver.Chrome(r\"C:\\Users\\ErikaS\\Documents\\Projetos Érika\\Coursera__Capstone/chromedriver\")\n",
    "\n",
    "    # Get the url\n",
    "driver.get(url)\n",
    "\n",
    "    # Select the div correct and extrating the table in html format\n",
    "driver.find_element_by_xpath(\"/html/body/div[2]/div[3]/div/table\").click()\n",
    "element = driver.find_element_by_xpath(\"/html/body/div[2]/div[3]/div/table\")\n",
    "html_content = element.get_attribute('outerHTML')\n",
    "\n",
    "    # Close the browser\n",
    "driver.quit()\n",
    "    \n",
    "    # Tranforming\n",
    "soup = BeautifulSoup(html_content, 'html.parser')\n",
    "table = soup.find(name = 'table')\n",
    "\n",
    "    # Using pandas to structure the table in a DataFrame\n",
    "df_full = pd.read_html(str(table))[0]\n"
   ]
  },
  {
   "cell_type": "code",
   "execution_count": 3,
   "metadata": {},
   "outputs": [
    {
     "data": {
      "text/html": [
       "<div>\n",
       "<style scoped>\n",
       "    .dataframe tbody tr th:only-of-type {\n",
       "        vertical-align: middle;\n",
       "    }\n",
       "\n",
       "    .dataframe tbody tr th {\n",
       "        vertical-align: top;\n",
       "    }\n",
       "\n",
       "    .dataframe thead th {\n",
       "        text-align: right;\n",
       "    }\n",
       "</style>\n",
       "<table border=\"1\" class=\"dataframe\">\n",
       "  <thead>\n",
       "    <tr style=\"text-align: right;\">\n",
       "      <th></th>\n",
       "      <th>Local name</th>\n",
       "      <th>Type</th>\n",
       "      <th>OSM</th>\n",
       "      <th>Address rank</th>\n",
       "      <th>Admin level</th>\n",
       "      <th>Distance</th>\n",
       "      <th>Unnamed: 6</th>\n",
       "    </tr>\n",
       "  </thead>\n",
       "  <tbody>\n",
       "    <tr>\n",
       "      <th>0</th>\n",
       "      <td>Goiânia</td>\n",
       "      <td>boundary:administrative</td>\n",
       "      <td>relation 334547</td>\n",
       "      <td>16.0</td>\n",
       "      <td>8.0</td>\n",
       "      <td>0</td>\n",
       "      <td>details &gt;</td>\n",
       "    </tr>\n",
       "    <tr>\n",
       "      <th>1</th>\n",
       "      <td>Microrregião de Goiânia</td>\n",
       "      <td>boundary:administrative</td>\n",
       "      <td>relation 4857379</td>\n",
       "      <td>14.0</td>\n",
       "      <td>7.0</td>\n",
       "      <td>0.1012</td>\n",
       "      <td>details &gt;</td>\n",
       "    </tr>\n",
       "    <tr>\n",
       "      <th>2</th>\n",
       "      <td>Região Geográfica Intermediária de Goiânia</td>\n",
       "      <td>boundary:administrative</td>\n",
       "      <td>relation 4873222</td>\n",
       "      <td>10.0</td>\n",
       "      <td>5.0</td>\n",
       "      <td>0.8761</td>\n",
       "      <td>details &gt;</td>\n",
       "    </tr>\n",
       "    <tr>\n",
       "      <th>3</th>\n",
       "      <td>Goiás</td>\n",
       "      <td>boundary:administrative(state)</td>\n",
       "      <td>relation 334443</td>\n",
       "      <td>8.0</td>\n",
       "      <td>4.0</td>\n",
       "      <td>0.7385</td>\n",
       "      <td>details &gt;</td>\n",
       "    </tr>\n",
       "    <tr>\n",
       "      <th>4</th>\n",
       "      <td>Região Centro-Oeste</td>\n",
       "      <td>boundary:administrative</td>\n",
       "      <td>relation 3359944</td>\n",
       "      <td>6.0</td>\n",
       "      <td>3.0</td>\n",
       "      <td>5.2385</td>\n",
       "      <td>details &gt;</td>\n",
       "    </tr>\n",
       "  </tbody>\n",
       "</table>\n",
       "</div>"
      ],
      "text/plain": [
       "                                   Local name                            Type  \\\n",
       "0                                     Goiânia         boundary:administrative   \n",
       "1                     Microrregião de Goiânia         boundary:administrative   \n",
       "2  Região Geográfica Intermediária de Goiânia         boundary:administrative   \n",
       "3                                       Goiás  boundary:administrative(state)   \n",
       "4                         Região Centro-Oeste         boundary:administrative   \n",
       "\n",
       "                OSM  Address rank  Admin level Distance Unnamed: 6  \n",
       "0   relation 334547          16.0          8.0        0  details >  \n",
       "1  relation 4857379          14.0          7.0   0.1012  details >  \n",
       "2  relation 4873222          10.0          5.0   0.8761  details >  \n",
       "3   relation 334443           8.0          4.0   0.7385  details >  \n",
       "4  relation 3359944           6.0          3.0   5.2385  details >  "
      ]
     },
     "execution_count": 3,
     "metadata": {},
     "output_type": "execute_result"
    }
   ],
   "source": [
    "df_full.head()"
   ]
  },
  {
   "cell_type": "markdown",
   "metadata": {},
   "source": [
    "#### 2. Pre-prosesing Borough data"
   ]
  },
  {
   "cell_type": "code",
   "execution_count": 4,
   "metadata": {},
   "outputs": [
    {
     "data": {
      "text/html": [
       "<div>\n",
       "<style scoped>\n",
       "    .dataframe tbody tr th:only-of-type {\n",
       "        vertical-align: middle;\n",
       "    }\n",
       "\n",
       "    .dataframe tbody tr th {\n",
       "        vertical-align: top;\n",
       "    }\n",
       "\n",
       "    .dataframe thead th {\n",
       "        text-align: right;\n",
       "    }\n",
       "</style>\n",
       "<table border=\"1\" class=\"dataframe\">\n",
       "  <thead>\n",
       "    <tr style=\"text-align: right;\">\n",
       "      <th></th>\n",
       "      <th>Local name</th>\n",
       "      <th>Distance</th>\n",
       "    </tr>\n",
       "  </thead>\n",
       "  <tbody>\n",
       "    <tr>\n",
       "      <th>0</th>\n",
       "      <td>Aldeia do Vale</td>\n",
       "      <td>8.7</td>\n",
       "    </tr>\n",
       "    <tr>\n",
       "      <th>1</th>\n",
       "      <td>Alphaville Flamboyant Residencial Araguaia</td>\n",
       "      <td>3.8</td>\n",
       "    </tr>\n",
       "    <tr>\n",
       "      <th>2</th>\n",
       "      <td>Bairro Boa Vista</td>\n",
       "      <td>13.6</td>\n",
       "    </tr>\n",
       "    <tr>\n",
       "      <th>3</th>\n",
       "      <td>Bairro Capuava</td>\n",
       "      <td>6.6</td>\n",
       "    </tr>\n",
       "    <tr>\n",
       "      <th>4</th>\n",
       "      <td>Bairro Feliz</td>\n",
       "      <td>3.0</td>\n",
       "    </tr>\n",
       "  </tbody>\n",
       "</table>\n",
       "</div>"
      ],
      "text/plain": [
       "                                   Local name  Distance\n",
       "0                              Aldeia do Vale       8.7\n",
       "1  Alphaville Flamboyant Residencial Araguaia       3.8\n",
       "2                            Bairro Boa Vista      13.6\n",
       "3                              Bairro Capuava       6.6\n",
       "4                                Bairro Feliz       3.0"
      ]
     },
     "execution_count": 4,
     "metadata": {},
     "output_type": "execute_result"
    }
   ],
   "source": [
    "# Selecting only the borough\n",
    "borough_gyn = df_full[df_full[ 'Address rank'] > 17.0] .sort_values(\"Local name\")\n",
    "\n",
    "# Selecting useful columns\n",
    "borough_gyn = borough_gyn.loc[:, ['Local name', 'Distance']]\n",
    "\n",
    "# Cleaning column Distance\n",
    "borough_gyn['Distance'] = borough_gyn['Distance'].str.replace(\" km\", \"\").str.replace(\"~\", \"\").str.replace(\" m\", \"\").astype(float)\n",
    "\n",
    "# Excluding duplicate data \n",
    "borough_gyn = borough_gyn.groupby('Local name').max()\n",
    "borough_gyn.reset_index(level=0, inplace=True)\n",
    "\n",
    "borough_gyn.head()"
   ]
  },
  {
   "cell_type": "code",
   "execution_count": 5,
   "metadata": {},
   "outputs": [
    {
     "data": {
      "text/plain": [
       "(333, 2)"
      ]
     },
     "execution_count": 5,
     "metadata": {},
     "output_type": "execute_result"
    }
   ],
   "source": [
    "borough_gyn.shape"
   ]
  },
  {
   "cell_type": "markdown",
   "metadata": {},
   "source": [
    "Saving the data to use later"
   ]
  },
  {
   "cell_type": "code",
   "execution_count": 6,
   "metadata": {},
   "outputs": [],
   "source": [
    "borough_gyn.to_csv(\"bairros_gyn.csv\", index=False)"
   ]
  },
  {
   "cell_type": "markdown",
   "metadata": {},
   "source": [
    "#### Importing Borough data"
   ]
  },
  {
   "cell_type": "code",
   "execution_count": null,
   "metadata": {},
   "outputs": [],
   "source": [
    "borough_gyn = pd.read_csv(\"bairros_gyn.csv\")\n",
    "Endere = borough_gyn['BAIRRO'] + \", \" + borough_gyn['CIDADE/ESTADO'] \n",
    "Endere.head()"
   ]
  },
  {
   "cell_type": "markdown",
   "metadata": {},
   "source": [
    "#### 2. Data coordinates"
   ]
  },
  {
   "cell_type": "markdown",
   "metadata": {},
   "source": [
    "Importing libraries to get geocoordinates"
   ]
  },
  {
   "cell_type": "code",
   "execution_count": null,
   "metadata": {},
   "outputs": [],
   "source": [
    "import geopandas as gpd\n",
    "import pandas as pd"
   ]
  },
  {
   "cell_type": "markdown",
   "metadata": {},
   "source": [
    "Using Nominatim API to get the coordinates"
   ]
  },
  {
   "cell_type": "code",
   "execution_count": null,
   "metadata": {},
   "outputs": [],
   "source": [
    "# Testing\n",
    "gpd.tools.geocode(\"Jardim Califórnia, Goiânia, GO\", provider = 'nominatim', user_agent=\"imp geocode\")"
   ]
  },
  {
   "cell_type": "code",
   "execution_count": null,
   "metadata": {},
   "outputs": [],
   "source": [
    "coor"
   ]
  },
  {
   "cell_type": "markdown",
   "metadata": {},
   "source": [
    "### Foursquare"
   ]
  },
  {
   "cell_type": "code",
   "execution_count": null,
   "metadata": {},
   "outputs": [],
   "source": []
  },
  {
   "cell_type": "markdown",
   "metadata": {},
   "source": [
    "## Methodology <a name=\"methodology\"></a>"
   ]
  },
  {
   "cell_type": "code",
   "execution_count": null,
   "metadata": {},
   "outputs": [],
   "source": []
  },
  {
   "cell_type": "markdown",
   "metadata": {},
   "source": [
    "## Analysis <a name=\"analysis\"></a>"
   ]
  },
  {
   "cell_type": "code",
   "execution_count": null,
   "metadata": {},
   "outputs": [],
   "source": []
  },
  {
   "cell_type": "markdown",
   "metadata": {},
   "source": [
    "## Results and Discussion <a name=\"results\"></a>"
   ]
  },
  {
   "cell_type": "code",
   "execution_count": null,
   "metadata": {},
   "outputs": [],
   "source": []
  }
 ],
 "metadata": {
  "kernelspec": {
   "display_name": "Python 3",
   "language": "python",
   "name": "python3"
  },
  "language_info": {
   "codemirror_mode": {
    "name": "ipython",
    "version": 3
   },
   "file_extension": ".py",
   "mimetype": "text/x-python",
   "name": "python",
   "nbconvert_exporter": "python",
   "pygments_lexer": "ipython3",
   "version": "3.6.5"
  }
 },
 "nbformat": 4,
 "nbformat_minor": 2
}
