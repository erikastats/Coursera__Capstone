{
 "cells": [
  {
   "cell_type": "markdown",
   "metadata": {},
   "source": [
    "# Exploring and clustering the neighborhoods in Toronto"
   ]
  },
  {
   "cell_type": "markdown",
   "metadata": {},
   "source": [
    "## Introduction"
   ]
  },
  {
   "cell_type": "markdown",
   "metadata": {},
   "source": [
    "The porpuse of this lab is to examine and clusterize de beighborhoods in Toronto. \n"
   ]
  },
  {
   "cell_type": "markdown",
   "metadata": {},
   "source": [
    "## Table of Contents"
   ]
  },
  {
   "cell_type": "markdown",
   "metadata": {},
   "source": [
    "* 1. Scrape the Wikipedia page [https://en.wikipedia.org/wiki/List_of_postal_codes_of_Canada:_M]\n",
    "* 2. Pre-prossessing the data\n",
    "* 3. Get the latitude and the longitude coordinates of each neighborhood\n",
    "* 4. Explore and cluster the neighborhood in Toronto"
   ]
  },
  {
   "cell_type": "markdown",
   "metadata": {},
   "source": [
    "### 1. Scraping the Wikipedia page"
   ]
  },
  {
   "cell_type": "markdown",
   "metadata": {},
   "source": [
    "Importing necessary Libraries"
   ]
  },
  {
   "cell_type": "code",
   "execution_count": 1,
   "metadata": {},
   "outputs": [],
   "source": [
    "from selenium import webdriver\n",
    "from selenium.webdriver.firefox.options import Options\n",
    "from bs4 import BeautifulSoup\n",
    "\n",
    "import pandas as pd\n",
    "import numpy as np"
   ]
  },
  {
   "cell_type": "code",
   "execution_count": 2,
   "metadata": {},
   "outputs": [],
   "source": [
    "# Set the path to chromedriver\n",
    "url = r\"https://en.wikipedia.org/wiki/List_of_postal_codes_of_Canada:_M\"\n",
    "\n",
    "option = Options()\n",
    "option.headless = True\n",
    "driver = webdriver.Chrome(r\"C:\\Users\\ErikaS\\Documents\\Projetos Érika\\Coursera__Capstone/chromedriver\")\n",
    "\n",
    "# Get the url\n",
    "driver.get(url)\n",
    "\n",
    "# Select the div correct and extrating the table in html format\n",
    "driver.find_element_by_xpath(\"/html/body/div[3]/div[3]/div[4]/div/table[1]\").click()\n",
    "element = driver.find_element_by_xpath(\"/html/body/div[3]/div[3]/div[4]/div/table[1]\")\n",
    "html_content = element.get_attribute('outerHTML')\n",
    "\n",
    "# Close the browser\n",
    "driver.quit()\n"
   ]
  },
  {
   "cell_type": "code",
   "execution_count": 3,
   "metadata": {},
   "outputs": [
    {
     "data": {
      "text/html": [
       "<div>\n",
       "<style scoped>\n",
       "    .dataframe tbody tr th:only-of-type {\n",
       "        vertical-align: middle;\n",
       "    }\n",
       "\n",
       "    .dataframe tbody tr th {\n",
       "        vertical-align: top;\n",
       "    }\n",
       "\n",
       "    .dataframe thead th {\n",
       "        text-align: right;\n",
       "    }\n",
       "</style>\n",
       "<table border=\"1\" class=\"dataframe\">\n",
       "  <thead>\n",
       "    <tr style=\"text-align: right;\">\n",
       "      <th></th>\n",
       "      <th>Postal Code</th>\n",
       "      <th>Borough</th>\n",
       "      <th>Neighborhood</th>\n",
       "    </tr>\n",
       "  </thead>\n",
       "  <tbody>\n",
       "    <tr>\n",
       "      <th>0</th>\n",
       "      <td>M1A</td>\n",
       "      <td>Not assigned</td>\n",
       "      <td>NaN</td>\n",
       "    </tr>\n",
       "    <tr>\n",
       "      <th>1</th>\n",
       "      <td>M2A</td>\n",
       "      <td>Not assigned</td>\n",
       "      <td>NaN</td>\n",
       "    </tr>\n",
       "    <tr>\n",
       "      <th>2</th>\n",
       "      <td>M3A</td>\n",
       "      <td>North York</td>\n",
       "      <td>Parkwoods</td>\n",
       "    </tr>\n",
       "    <tr>\n",
       "      <th>3</th>\n",
       "      <td>M4A</td>\n",
       "      <td>North York</td>\n",
       "      <td>Victoria Village</td>\n",
       "    </tr>\n",
       "    <tr>\n",
       "      <th>4</th>\n",
       "      <td>M5A</td>\n",
       "      <td>Downtown Toronto</td>\n",
       "      <td>Regent Park, Harbourfront</td>\n",
       "    </tr>\n",
       "  </tbody>\n",
       "</table>\n",
       "</div>"
      ],
      "text/plain": [
       "  Postal Code           Borough               Neighborhood\n",
       "0         M1A      Not assigned                        NaN\n",
       "1         M2A      Not assigned                        NaN\n",
       "2         M3A        North York                  Parkwoods\n",
       "3         M4A        North York           Victoria Village\n",
       "4         M5A  Downtown Toronto  Regent Park, Harbourfront"
      ]
     },
     "execution_count": 3,
     "metadata": {},
     "output_type": "execute_result"
    }
   ],
   "source": [
    "# Tranforming\n",
    "soup = BeautifulSoup(html_content, 'html.parser')\n",
    "table = soup.find(name = 'table')\n",
    "\n",
    "# Using pandas to structure the table in a DataFrame\n",
    "df_full = pd.read_html(str(table))[0]\n",
    "\n",
    "# First 5 elements\n",
    "df_full.head()"
   ]
  },
  {
   "cell_type": "markdown",
   "metadata": {},
   "source": [
    "### 2. Pre-prossessing the data"
   ]
  },
  {
   "cell_type": "markdown",
   "metadata": {},
   "source": [
    "Importing necessary Libraries"
   ]
  },
  {
   "cell_type": "markdown",
   "metadata": {},
   "source": [
    "To create the dataframe\n",
    "\n",
    "* The dataframe will consist of three columns: PostalCode, Borough, and Neighborhood\n",
    "* Only process the cells that have an assigned borough. Ignore cells with a borough that is Not assigned.\n",
    "* More than one neighborhood can exist in one postal code area. For example, in the table on the Wikipedia page, you will notice that M5A is listed twice and has two neighborhoods: Harbourfront and Regent Park. These two rows will be combined into one row with the neighborhoods separated with a comma as shown in row 11 in the above table.\n",
    "* If a cell has a borough but a Not assigned neighborhood, then the neighborhood will be the same as the borough.\n",
    "* Clean your Notebook and add Markdown cells to explain your work and any assumptions you are making.\n",
    "* In the last cell of your notebook, use the .shape method to print the number of rows of your dataframe."
   ]
  },
  {
   "cell_type": "code",
   "execution_count": 4,
   "metadata": {},
   "outputs": [
    {
     "data": {
      "text/html": [
       "<div>\n",
       "<style scoped>\n",
       "    .dataframe tbody tr th:only-of-type {\n",
       "        vertical-align: middle;\n",
       "    }\n",
       "\n",
       "    .dataframe tbody tr th {\n",
       "        vertical-align: top;\n",
       "    }\n",
       "\n",
       "    .dataframe thead th {\n",
       "        text-align: right;\n",
       "    }\n",
       "</style>\n",
       "<table border=\"1\" class=\"dataframe\">\n",
       "  <thead>\n",
       "    <tr style=\"text-align: right;\">\n",
       "      <th></th>\n",
       "      <th>Postal Code</th>\n",
       "      <th>Borough</th>\n",
       "      <th>Neighborhood</th>\n",
       "    </tr>\n",
       "  </thead>\n",
       "  <tbody>\n",
       "    <tr>\n",
       "      <th>2</th>\n",
       "      <td>M3A</td>\n",
       "      <td>North York</td>\n",
       "      <td>Parkwoods</td>\n",
       "    </tr>\n",
       "    <tr>\n",
       "      <th>3</th>\n",
       "      <td>M4A</td>\n",
       "      <td>North York</td>\n",
       "      <td>Victoria Village</td>\n",
       "    </tr>\n",
       "    <tr>\n",
       "      <th>4</th>\n",
       "      <td>M5A</td>\n",
       "      <td>Downtown Toronto</td>\n",
       "      <td>Regent Park, Harbourfront</td>\n",
       "    </tr>\n",
       "    <tr>\n",
       "      <th>5</th>\n",
       "      <td>M6A</td>\n",
       "      <td>North York</td>\n",
       "      <td>Lawrence Manor, Lawrence Heights</td>\n",
       "    </tr>\n",
       "    <tr>\n",
       "      <th>6</th>\n",
       "      <td>M7A</td>\n",
       "      <td>Downtown Toronto</td>\n",
       "      <td>Queen's Park, Ontario Provincial Government</td>\n",
       "    </tr>\n",
       "  </tbody>\n",
       "</table>\n",
       "</div>"
      ],
      "text/plain": [
       "  Postal Code           Borough                                 Neighborhood\n",
       "2         M3A        North York                                    Parkwoods\n",
       "3         M4A        North York                             Victoria Village\n",
       "4         M5A  Downtown Toronto                    Regent Park, Harbourfront\n",
       "5         M6A        North York             Lawrence Manor, Lawrence Heights\n",
       "6         M7A  Downtown Toronto  Queen's Park, Ontario Provincial Government"
      ]
     },
     "execution_count": 4,
     "metadata": {},
     "output_type": "execute_result"
    }
   ],
   "source": [
    "# Getting the cells with a borough that is NOt Assigned\n",
    "isnot_NotAssigned = df_full['Borough'] != \"Not assigned\"\n",
    "\n",
    "# Filtering the DataFrame\n",
    "df = df_full[isnot_NotAssigned]\n",
    "\n",
    "# First 5 rows\n",
    "df.head()\n"
   ]
  },
  {
   "cell_type": "markdown",
   "metadata": {},
   "source": [
    "It was filtered to get only data with Vorough assigned"
   ]
  },
  {
   "cell_type": "code",
   "execution_count": 5,
   "metadata": {},
   "outputs": [
    {
     "name": "stdout",
     "output_type": "stream",
     "text": [
      "Row number:  103\n",
      "Number of unique Postal Code:  103\n",
      "There is no Postal Code Area with more than one neighborhood associated\n"
     ]
    }
   ],
   "source": [
    "# Verifying if there are two neighborhoods with the same postal code\n",
    "# In this case, first I will compare the rows number with the number of unique Postal Code. \n",
    "# If they werw the same, there aren't duplicated Postal Code, so there's no necessity to do something.\n",
    "print(\"Row number: \", df.shape[0])\n",
    "print(\"Number of unique Postal Code: \", pd.unique(df['Postal Code']).shape[0])\n",
    "if df.shape[0] == pd.unique(df['Postal Code']).shape[0]:\n",
    "    print('There is no Postal Code Area with more than one neighborhood associated')\n",
    "else:\n",
    "    print('There is at least one postal Code Area with more than one neighborhood associated. Please combine the neighborhoods in one line.')"
   ]
  },
  {
   "cell_type": "markdown",
   "metadata": {},
   "source": [
    "In this case, there's no need to do any modification in the df, because all the **Postal Code** are unique. The data already is in the correct format."
   ]
  },
  {
   "cell_type": "code",
   "execution_count": 6,
   "metadata": {},
   "outputs": [
    {
     "name": "stdout",
     "output_type": "stream",
     "text": [
      "There is no NaN in Neigborhood\n"
     ]
    }
   ],
   "source": [
    "# Identifyng if there are any Not assigned neighborhood\n",
    "\n",
    "if sum(df['Neighborhood'].isnull()) == 0 :\n",
    "    print(\"There is no NaN in Neigborhood\")\n",
    "else:\n",
    "    print(\"There is at least one Neigborhood Not assigned. Please, assigned the borough in the neighborhood place.\")\n"
   ]
  },
  {
   "cell_type": "markdown",
   "metadata": {},
   "source": [
    "We can see that there is no NaN in Neigborhood, so we don't need to assigned the borough in the neighborhood place"
   ]
  },
  {
   "cell_type": "code",
   "execution_count": 7,
   "metadata": {},
   "outputs": [
    {
     "data": {
      "text/plain": [
       "(103, 3)"
      ]
     },
     "execution_count": 7,
     "metadata": {},
     "output_type": "execute_result"
    }
   ],
   "source": [
    "# Printing the number of rows\n",
    "df.shape"
   ]
  },
  {
   "cell_type": "markdown",
   "metadata": {},
   "source": [
    "### 3. Getting the coordinates of each neighborhood"
   ]
  },
  {
   "cell_type": "code",
   "execution_count": 8,
   "metadata": {},
   "outputs": [
    {
     "data": {
      "text/plain": [
       "Postal Code     object\n",
       "Latitude       float64\n",
       "Longitude      float64\n",
       "dtype: object"
      ]
     },
     "execution_count": 8,
     "metadata": {},
     "output_type": "execute_result"
    }
   ],
   "source": [
    "# Importing the coordinates dataframe\n",
    "coord_PC = pd.read_csv('Geospatial_Coordinates.csv')\n",
    "#coord_PC.head()\n",
    "coord_PC.dtypes"
   ]
  },
  {
   "cell_type": "code",
   "execution_count": 9,
   "metadata": {},
   "outputs": [
    {
     "data": {
      "text/html": [
       "<div>\n",
       "<style scoped>\n",
       "    .dataframe tbody tr th:only-of-type {\n",
       "        vertical-align: middle;\n",
       "    }\n",
       "\n",
       "    .dataframe tbody tr th {\n",
       "        vertical-align: top;\n",
       "    }\n",
       "\n",
       "    .dataframe thead th {\n",
       "        text-align: right;\n",
       "    }\n",
       "</style>\n",
       "<table border=\"1\" class=\"dataframe\">\n",
       "  <thead>\n",
       "    <tr style=\"text-align: right;\">\n",
       "      <th></th>\n",
       "      <th>Postal Code</th>\n",
       "      <th>Borough</th>\n",
       "      <th>Neighborhood</th>\n",
       "      <th>Latitude</th>\n",
       "      <th>Longitude</th>\n",
       "    </tr>\n",
       "  </thead>\n",
       "  <tbody>\n",
       "    <tr>\n",
       "      <th>0</th>\n",
       "      <td>M3A</td>\n",
       "      <td>North York</td>\n",
       "      <td>Parkwoods</td>\n",
       "      <td>43.753259</td>\n",
       "      <td>-79.329656</td>\n",
       "    </tr>\n",
       "    <tr>\n",
       "      <th>1</th>\n",
       "      <td>M4A</td>\n",
       "      <td>North York</td>\n",
       "      <td>Victoria Village</td>\n",
       "      <td>43.725882</td>\n",
       "      <td>-79.315572</td>\n",
       "    </tr>\n",
       "    <tr>\n",
       "      <th>2</th>\n",
       "      <td>M5A</td>\n",
       "      <td>Downtown Toronto</td>\n",
       "      <td>Regent Park, Harbourfront</td>\n",
       "      <td>43.654260</td>\n",
       "      <td>-79.360636</td>\n",
       "    </tr>\n",
       "    <tr>\n",
       "      <th>3</th>\n",
       "      <td>M6A</td>\n",
       "      <td>North York</td>\n",
       "      <td>Lawrence Manor, Lawrence Heights</td>\n",
       "      <td>43.718518</td>\n",
       "      <td>-79.464763</td>\n",
       "    </tr>\n",
       "    <tr>\n",
       "      <th>4</th>\n",
       "      <td>M7A</td>\n",
       "      <td>Downtown Toronto</td>\n",
       "      <td>Queen's Park, Ontario Provincial Government</td>\n",
       "      <td>43.662301</td>\n",
       "      <td>-79.389494</td>\n",
       "    </tr>\n",
       "  </tbody>\n",
       "</table>\n",
       "</div>"
      ],
      "text/plain": [
       "  Postal Code           Borough                                 Neighborhood  \\\n",
       "0         M3A        North York                                    Parkwoods   \n",
       "1         M4A        North York                             Victoria Village   \n",
       "2         M5A  Downtown Toronto                    Regent Park, Harbourfront   \n",
       "3         M6A        North York             Lawrence Manor, Lawrence Heights   \n",
       "4         M7A  Downtown Toronto  Queen's Park, Ontario Provincial Government   \n",
       "\n",
       "    Latitude  Longitude  \n",
       "0  43.753259 -79.329656  \n",
       "1  43.725882 -79.315572  \n",
       "2  43.654260 -79.360636  \n",
       "3  43.718518 -79.464763  \n",
       "4  43.662301 -79.389494  "
      ]
     },
     "execution_count": 9,
     "metadata": {},
     "output_type": "execute_result"
    }
   ],
   "source": [
    "# Joing the dataframes\n",
    "df = pd.merge(df, \n",
    "                 coord_PC,\n",
    "                 left_on = 'Postal Code', \n",
    "                 right_on = 'Postal Code',\n",
    "                 how = 'left')\n",
    "\n",
    "# First 5 rows\n",
    "df.head()"
   ]
  },
  {
   "cell_type": "code",
   "execution_count": 10,
   "metadata": {},
   "outputs": [
    {
     "data": {
      "text/plain": [
       "(103, 5)"
      ]
     },
     "execution_count": 10,
     "metadata": {},
     "output_type": "execute_result"
    }
   ],
   "source": [
    "df.shape"
   ]
  },
  {
   "cell_type": "markdown",
   "metadata": {},
   "source": [
    "### 4. Exploring and clustering the neighborhood in Toronto"
   ]
  },
  {
   "cell_type": "markdown",
   "metadata": {},
   "source": [
    "Just make sure:\n",
    "\n",
    "* to add enough Markdown cells to explain what you decided to do and to report any observations you make.\n",
    "* to generate maps to visualize your neighborhoods and how they cluster together."
   ]
  },
  {
   "cell_type": "markdown",
   "metadata": {},
   "source": [
    "Counting how many borough of each are in it"
   ]
  },
  {
   "cell_type": "code",
   "execution_count": 11,
   "metadata": {},
   "outputs": [
    {
     "data": {
      "text/plain": [
       "North York          24\n",
       "Downtown Toronto    19\n",
       "Scarborough         17\n",
       "Etobicoke           12\n",
       "Central Toronto      9\n",
       "West Toronto         6\n",
       "East York            5\n",
       "East Toronto         5\n",
       "York                 5\n",
       "Mississauga          1\n",
       "Name: Borough, dtype: int64"
      ]
     },
     "execution_count": 11,
     "metadata": {},
     "output_type": "execute_result"
    }
   ],
   "source": [
    "df['Borough'].value_counts()"
   ]
  },
  {
   "cell_type": "markdown",
   "metadata": {},
   "source": [
    "Filtering the boroughs that contain the word Toronto"
   ]
  },
  {
   "cell_type": "code",
   "execution_count": 12,
   "metadata": {},
   "outputs": [
    {
     "data": {
      "text/plain": [
       "Downtown Toronto    19\n",
       "Central Toronto      9\n",
       "West Toronto         6\n",
       "East Toronto         5\n",
       "Name: Borough, dtype: int64"
      ]
     },
     "execution_count": 12,
     "metadata": {},
     "output_type": "execute_result"
    }
   ],
   "source": [
    "in_To = df['Borough'].str.contains(pat = \"Toronto\")\n",
    "df_Toronto = df[in_To]\n",
    "df_Toronto['Borough'].value_counts()"
   ]
  },
  {
   "cell_type": "markdown",
   "metadata": {},
   "source": [
    "Importing Libraries"
   ]
  },
  {
   "cell_type": "code",
   "execution_count": 13,
   "metadata": {},
   "outputs": [],
   "source": [
    "# for plot\n",
    "import matplotlib.cm as cm\n",
    "import matplotlib.colors as colors\n",
    "\n",
    "# for clustering\n",
    "from sklearn.cluster import KMeans\n",
    "\n",
    "# for create a map\n",
    "import folium\n",
    "\n",
    "# Convert address into coordinates\n",
    "from geopy.geocoders import Nominatim\n",
    "\n",
    "# Library to handle JSON files\n",
    "import json\n",
    "\n",
    "# Library to handle requests\n",
    "import requests\n",
    "from pandas.io.json import json_normalize"
   ]
  },
  {
   "cell_type": "markdown",
   "metadata": {},
   "source": [
    "**Using geopy library to get the latitude and longitude values of Toronto**"
   ]
  },
  {
   "cell_type": "code",
   "execution_count": 14,
   "metadata": {},
   "outputs": [
    {
     "name": "stdout",
     "output_type": "stream",
     "text": [
      "The geograpical coordinate of Toronto are 43.6534817, -79.3839347.\n"
     ]
    }
   ],
   "source": [
    "\n",
    "geolocator = Nominatim(user_agent = 'my_explorer', timeout = 3)\n",
    "location = geolocator.geocode('toronto')\n",
    "latitude = location.latitude\n",
    "longitude = location.longitude\n",
    "print('The geograpical coordinate of Toronto are {}, {}.'.format(latitude, longitude))"
   ]
  },
  {
   "cell_type": "code",
   "execution_count": 15,
   "metadata": {},
   "outputs": [
    {
     "data": {
      "text/html": [
       "<div style=\"width:100%;\"><div style=\"position:relative;width:100%;height:0;padding-bottom:60%;\"><span style=\"color:#565656\">Make this Notebook Trusted to load map: File -> Trust Notebook</span><iframe src=\"about:blank\" style=\"position:absolute;width:100%;height:100%;left:0;top:0;border:none !important;\" data-html=PCFET0NUWVBFIGh0bWw+CjxoZWFkPiAgICAKICAgIDxtZXRhIGh0dHAtZXF1aXY9ImNvbnRlbnQtdHlwZSIgY29udGVudD0idGV4dC9odG1sOyBjaGFyc2V0PVVURi04IiAvPgogICAgCiAgICAgICAgPHNjcmlwdD4KICAgICAgICAgICAgTF9OT19UT1VDSCA9IGZhbHNlOwogICAgICAgICAgICBMX0RJU0FCTEVfM0QgPSBmYWxzZTsKICAgICAgICA8L3NjcmlwdD4KICAgIAogICAgPHNjcmlwdCBzcmM9Imh0dHBzOi8vY2RuLmpzZGVsaXZyLm5ldC9ucG0vbGVhZmxldEAxLjYuMC9kaXN0L2xlYWZsZXQuanMiPjwvc2NyaXB0PgogICAgPHNjcmlwdCBzcmM9Imh0dHBzOi8vY29kZS5qcXVlcnkuY29tL2pxdWVyeS0xLjEyLjQubWluLmpzIj48L3NjcmlwdD4KICAgIDxzY3JpcHQgc3JjPSJodHRwczovL21heGNkbi5ib290c3RyYXBjZG4uY29tL2Jvb3RzdHJhcC8zLjIuMC9qcy9ib290c3RyYXAubWluLmpzIj48L3NjcmlwdD4KICAgIDxzY3JpcHQgc3JjPSJodHRwczovL2NkbmpzLmNsb3VkZmxhcmUuY29tL2FqYXgvbGlicy9MZWFmbGV0LmF3ZXNvbWUtbWFya2Vycy8yLjAuMi9sZWFmbGV0LmF3ZXNvbWUtbWFya2Vycy5qcyI+PC9zY3JpcHQ+CiAgICA8bGluayByZWw9InN0eWxlc2hlZXQiIGhyZWY9Imh0dHBzOi8vY2RuLmpzZGVsaXZyLm5ldC9ucG0vbGVhZmxldEAxLjYuMC9kaXN0L2xlYWZsZXQuY3NzIi8+CiAgICA8bGluayByZWw9InN0eWxlc2hlZXQiIGhyZWY9Imh0dHBzOi8vbWF4Y2RuLmJvb3RzdHJhcGNkbi5jb20vYm9vdHN0cmFwLzMuMi4wL2Nzcy9ib290c3RyYXAubWluLmNzcyIvPgogICAgPGxpbmsgcmVsPSJzdHlsZXNoZWV0IiBocmVmPSJodHRwczovL21heGNkbi5ib290c3RyYXBjZG4uY29tL2Jvb3RzdHJhcC8zLjIuMC9jc3MvYm9vdHN0cmFwLXRoZW1lLm1pbi5jc3MiLz4KICAgIDxsaW5rIHJlbD0ic3R5bGVzaGVldCIgaHJlZj0iaHR0cHM6Ly9tYXhjZG4uYm9vdHN0cmFwY2RuLmNvbS9mb250LWF3ZXNvbWUvNC42LjMvY3NzL2ZvbnQtYXdlc29tZS5taW4uY3NzIi8+CiAgICA8bGluayByZWw9InN0eWxlc2hlZXQiIGhyZWY9Imh0dHBzOi8vY2RuanMuY2xvdWRmbGFyZS5jb20vYWpheC9saWJzL0xlYWZsZXQuYXdlc29tZS1tYXJrZXJzLzIuMC4yL2xlYWZsZXQuYXdlc29tZS1tYXJrZXJzLmNzcyIvPgogICAgPGxpbmsgcmVsPSJzdHlsZXNoZWV0IiBocmVmPSJodHRwczovL3Jhd2Nkbi5naXRoYWNrLmNvbS9weXRob24tdmlzdWFsaXphdGlvbi9mb2xpdW0vbWFzdGVyL2ZvbGl1bS90ZW1wbGF0ZXMvbGVhZmxldC5hd2Vzb21lLnJvdGF0ZS5jc3MiLz4KICAgIDxzdHlsZT5odG1sLCBib2R5IHt3aWR0aDogMTAwJTtoZWlnaHQ6IDEwMCU7bWFyZ2luOiAwO3BhZGRpbmc6IDA7fTwvc3R5bGU+CiAgICA8c3R5bGU+I21hcCB7cG9zaXRpb246YWJzb2x1dGU7dG9wOjA7Ym90dG9tOjA7cmlnaHQ6MDtsZWZ0OjA7fTwvc3R5bGU+CiAgICAKICAgICAgICAgICAgPG1ldGEgbmFtZT0idmlld3BvcnQiIGNvbnRlbnQ9IndpZHRoPWRldmljZS13aWR0aCwKICAgICAgICAgICAgICAgIGluaXRpYWwtc2NhbGU9MS4wLCBtYXhpbXVtLXNjYWxlPTEuMCwgdXNlci1zY2FsYWJsZT1ubyIgLz4KICAgICAgICAgICAgPHN0eWxlPgogICAgICAgICAgICAgICAgI21hcF83Njk1MjcyM2MxZWE0ZDJiYjVlOTgxZmRiYzI0MDAwYyB7CiAgICAgICAgICAgICAgICAgICAgcG9zaXRpb246IHJlbGF0aXZlOwogICAgICAgICAgICAgICAgICAgIHdpZHRoOiAxMDAuMCU7CiAgICAgICAgICAgICAgICAgICAgaGVpZ2h0OiAxMDAuMCU7CiAgICAgICAgICAgICAgICAgICAgbGVmdDogMC4wJTsKICAgICAgICAgICAgICAgICAgICB0b3A6IDAuMCU7CiAgICAgICAgICAgICAgICB9CiAgICAgICAgICAgIDwvc3R5bGU+CiAgICAgICAgCjwvaGVhZD4KPGJvZHk+ICAgIAogICAgCiAgICAgICAgICAgIDxkaXYgY2xhc3M9ImZvbGl1bS1tYXAiIGlkPSJtYXBfNzY5NTI3MjNjMWVhNGQyYmI1ZTk4MWZkYmMyNDAwMGMiID48L2Rpdj4KICAgICAgICAKPC9ib2R5Pgo8c2NyaXB0PiAgICAKICAgIAogICAgICAgICAgICB2YXIgbWFwXzc2OTUyNzIzYzFlYTRkMmJiNWU5ODFmZGJjMjQwMDBjID0gTC5tYXAoCiAgICAgICAgICAgICAgICAibWFwXzc2OTUyNzIzYzFlYTRkMmJiNWU5ODFmZGJjMjQwMDBjIiwKICAgICAgICAgICAgICAgIHsKICAgICAgICAgICAgICAgICAgICBjZW50ZXI6IFs0My42NTM0ODE3LCAtNzkuMzgzOTM0N10sCiAgICAgICAgICAgICAgICAgICAgY3JzOiBMLkNSUy5FUFNHMzg1NywKICAgICAgICAgICAgICAgICAgICB6b29tOiAxMSwKICAgICAgICAgICAgICAgICAgICB6b29tQ29udHJvbDogdHJ1ZSwKICAgICAgICAgICAgICAgICAgICBwcmVmZXJDYW52YXM6IGZhbHNlLAogICAgICAgICAgICAgICAgfQogICAgICAgICAgICApOwoKICAgICAgICAgICAgCgogICAgICAgIAogICAgCiAgICAgICAgICAgIHZhciB0aWxlX2xheWVyXzQ5ZDM4OWU5NGJlYzQ1YjlhYzQyMmMxZDA0Y2Q1ZDE2ID0gTC50aWxlTGF5ZXIoCiAgICAgICAgICAgICAgICAiaHR0cHM6Ly97c30udGlsZS5vcGVuc3RyZWV0bWFwLm9yZy97en0ve3h9L3t5fS5wbmciLAogICAgICAgICAgICAgICAgeyJhdHRyaWJ1dGlvbiI6ICJEYXRhIGJ5IFx1MDAyNmNvcHk7IFx1MDAzY2EgaHJlZj1cImh0dHA6Ly9vcGVuc3RyZWV0bWFwLm9yZ1wiXHUwMDNlT3BlblN0cmVldE1hcFx1MDAzYy9hXHUwMDNlLCB1bmRlciBcdTAwM2NhIGhyZWY9XCJodHRwOi8vd3d3Lm9wZW5zdHJlZXRtYXAub3JnL2NvcHlyaWdodFwiXHUwMDNlT0RiTFx1MDAzYy9hXHUwMDNlLiIsICJkZXRlY3RSZXRpbmEiOiBmYWxzZSwgIm1heE5hdGl2ZVpvb20iOiAxOCwgIm1heFpvb20iOiAxOCwgIm1pblpvb20iOiAwLCAibm9XcmFwIjogZmFsc2UsICJvcGFjaXR5IjogMSwgInN1YmRvbWFpbnMiOiAiYWJjIiwgInRtcyI6IGZhbHNlfQogICAgICAgICAgICApLmFkZFRvKG1hcF83Njk1MjcyM2MxZWE0ZDJiYjVlOTgxZmRiYzI0MDAwYyk7CiAgICAgICAgCiAgICAKICAgICAgICAgICAgdmFyIGNpcmNsZV9tYXJrZXJfNzA4NDdlMTJhNGVkNDk2NWI5MTE2NzYyNWRlZjBhMDQgPSBMLmNpcmNsZU1hcmtlcigKICAgICAgICAgICAgICAgIFs0My42NTQyNTk5LCAtNzkuMzYwNjM1OV0sCiAgICAgICAgICAgICAgICB7ImJ1YmJsaW5nTW91c2VFdmVudHMiOiB0cnVlLCAiY29sb3IiOiAiYmx1ZSIsICJkYXNoQXJyYXkiOiBudWxsLCAiZGFzaE9mZnNldCI6IG51bGwsICJmaWxsIjogdHJ1ZSwgImZpbGxDb2xvciI6ICIjMzE4NmNjIiwgImZpbGxPcGFjaXR5IjogMC43LCAiZmlsbFJ1bGUiOiAiZXZlbm9kZCIsICJsaW5lQ2FwIjogInJvdW5kIiwgImxpbmVKb2luIjogInJvdW5kIiwgIm9wYWNpdHkiOiAxLjAsICJyYWRpdXMiOiA1LCAic3Ryb2tlIjogdHJ1ZSwgIndlaWdodCI6IDN9CiAgICAgICAgICAgICkuYWRkVG8obWFwXzc2OTUyNzIzYzFlYTRkMmJiNWU5ODFmZGJjMjQwMDBjKTsKICAgICAgICAKICAgIAogICAgICAgIHZhciBwb3B1cF9lNTNlZjM4YjhiNzY0OGRlODI4MjQ2NmVhZWE5ZTQzOCA9IEwucG9wdXAoeyJtYXhXaWR0aCI6ICIxMDAlIn0pOwoKICAgICAgICAKICAgICAgICAgICAgdmFyIGh0bWxfNDc3ZTcxZjVhNmJhNDhhNTljMGZhMzY3NzBiMDE0MzQgPSAkKGA8ZGl2IGlkPSJodG1sXzQ3N2U3MWY1YTZiYTQ4YTU5YzBmYTM2NzcwYjAxNDM0IiBzdHlsZT0id2lkdGg6IDEwMC4wJTsgaGVpZ2h0OiAxMDAuMCU7Ij5SZWdlbnQgUGFyaywgSGFyYm91cmZyb250LCBEb3dudG93biBUb3JvbnRvPC9kaXY+YClbMF07CiAgICAgICAgICAgIHBvcHVwX2U1M2VmMzhiOGI3NjQ4ZGU4MjgyNDY2ZWFlYTllNDM4LnNldENvbnRlbnQoaHRtbF80NzdlNzFmNWE2YmE0OGE1OWMwZmEzNjc3MGIwMTQzNCk7CiAgICAgICAgCgogICAgICAgIGNpcmNsZV9tYXJrZXJfNzA4NDdlMTJhNGVkNDk2NWI5MTE2NzYyNWRlZjBhMDQuYmluZFBvcHVwKHBvcHVwX2U1M2VmMzhiOGI3NjQ4ZGU4MjgyNDY2ZWFlYTllNDM4KQogICAgICAgIDsKCiAgICAgICAgCiAgICAKICAgIAogICAgICAgICAgICB2YXIgY2lyY2xlX21hcmtlcl82Zjg4ZjQ5OTljOTk0ZDM5OTlmOGVlMjI0Y2MzOGNkNyA9IEwuY2lyY2xlTWFya2VyKAogICAgICAgICAgICAgICAgWzQzLjY2MjMwMTUsIC03OS4zODk0OTM4XSwKICAgICAgICAgICAgICAgIHsiYnViYmxpbmdNb3VzZUV2ZW50cyI6IHRydWUsICJjb2xvciI6ICJibHVlIiwgImRhc2hBcnJheSI6IG51bGwsICJkYXNoT2Zmc2V0IjogbnVsbCwgImZpbGwiOiB0cnVlLCAiZmlsbENvbG9yIjogIiMzMTg2Y2MiLCAiZmlsbE9wYWNpdHkiOiAwLjcsICJmaWxsUnVsZSI6ICJldmVub2RkIiwgImxpbmVDYXAiOiAicm91bmQiLCAibGluZUpvaW4iOiAicm91bmQiLCAib3BhY2l0eSI6IDEuMCwgInJhZGl1cyI6IDUsICJzdHJva2UiOiB0cnVlLCAid2VpZ2h0IjogM30KICAgICAgICAgICAgKS5hZGRUbyhtYXBfNzY5NTI3MjNjMWVhNGQyYmI1ZTk4MWZkYmMyNDAwMGMpOwogICAgICAgIAogICAgCiAgICAgICAgdmFyIHBvcHVwXzQ4MWNiMzIwZGQ5NTQ1YzFiM2RiZjgyM2FmY2UzNzc1ID0gTC5wb3B1cCh7Im1heFdpZHRoIjogIjEwMCUifSk7CgogICAgICAgIAogICAgICAgICAgICB2YXIgaHRtbF84YjhkZGUwMTExNTA0NjJiYWEzZTk2OWJkMWJkYWQxNSA9ICQoYDxkaXYgaWQ9Imh0bWxfOGI4ZGRlMDExMTUwNDYyYmFhM2U5NjliZDFiZGFkMTUiIHN0eWxlPSJ3aWR0aDogMTAwLjAlOyBoZWlnaHQ6IDEwMC4wJTsiPlF1ZWVuJiMzOTtzIFBhcmssIE9udGFyaW8gUHJvdmluY2lhbCBHb3Zlcm5tZW50LCBEb3dudG93biBUb3JvbnRvPC9kaXY+YClbMF07CiAgICAgICAgICAgIHBvcHVwXzQ4MWNiMzIwZGQ5NTQ1YzFiM2RiZjgyM2FmY2UzNzc1LnNldENvbnRlbnQoaHRtbF84YjhkZGUwMTExNTA0NjJiYWEzZTk2OWJkMWJkYWQxNSk7CiAgICAgICAgCgogICAgICAgIGNpcmNsZV9tYXJrZXJfNmY4OGY0OTk5Yzk5NGQzOTk5ZjhlZTIyNGNjMzhjZDcuYmluZFBvcHVwKHBvcHVwXzQ4MWNiMzIwZGQ5NTQ1YzFiM2RiZjgyM2FmY2UzNzc1KQogICAgICAgIDsKCiAgICAgICAgCiAgICAKICAgIAogICAgICAgICAgICB2YXIgY2lyY2xlX21hcmtlcl83NTQ4ZDE5OGI5MDk0OWNlOTZhZjc3YTQwMTQ5YmUyZiA9IEwuY2lyY2xlTWFya2VyKAogICAgICAgICAgICAgICAgWzQzLjY1NzE2MTgsIC03OS4zNzg5MzcwOTk5OTk5OV0sCiAgICAgICAgICAgICAgICB7ImJ1YmJsaW5nTW91c2VFdmVudHMiOiB0cnVlLCAiY29sb3IiOiAiYmx1ZSIsICJkYXNoQXJyYXkiOiBudWxsLCAiZGFzaE9mZnNldCI6IG51bGwsICJmaWxsIjogdHJ1ZSwgImZpbGxDb2xvciI6ICIjMzE4NmNjIiwgImZpbGxPcGFjaXR5IjogMC43LCAiZmlsbFJ1bGUiOiAiZXZlbm9kZCIsICJsaW5lQ2FwIjogInJvdW5kIiwgImxpbmVKb2luIjogInJvdW5kIiwgIm9wYWNpdHkiOiAxLjAsICJyYWRpdXMiOiA1LCAic3Ryb2tlIjogdHJ1ZSwgIndlaWdodCI6IDN9CiAgICAgICAgICAgICkuYWRkVG8obWFwXzc2OTUyNzIzYzFlYTRkMmJiNWU5ODFmZGJjMjQwMDBjKTsKICAgICAgICAKICAgIAogICAgICAgIHZhciBwb3B1cF9kMWIwOTBhMzQwMDI0OGYzYTdmOGYwODg4ZmM0YWZmMCA9IEwucG9wdXAoeyJtYXhXaWR0aCI6ICIxMDAlIn0pOwoKICAgICAgICAKICAgICAgICAgICAgdmFyIGh0bWxfYWMzNTFkYWI5NGU3NGFlY2JlOWRhZDRlZWQ4ZmRiOTEgPSAkKGA8ZGl2IGlkPSJodG1sX2FjMzUxZGFiOTRlNzRhZWNiZTlkYWQ0ZWVkOGZkYjkxIiBzdHlsZT0id2lkdGg6IDEwMC4wJTsgaGVpZ2h0OiAxMDAuMCU7Ij5HYXJkZW4gRGlzdHJpY3QsIFJ5ZXJzb24sIERvd250b3duIFRvcm9udG88L2Rpdj5gKVswXTsKICAgICAgICAgICAgcG9wdXBfZDFiMDkwYTM0MDAyNDhmM2E3ZjhmMDg4OGZjNGFmZjAuc2V0Q29udGVudChodG1sX2FjMzUxZGFiOTRlNzRhZWNiZTlkYWQ0ZWVkOGZkYjkxKTsKICAgICAgICAKCiAgICAgICAgY2lyY2xlX21hcmtlcl83NTQ4ZDE5OGI5MDk0OWNlOTZhZjc3YTQwMTQ5YmUyZi5iaW5kUG9wdXAocG9wdXBfZDFiMDkwYTM0MDAyNDhmM2E3ZjhmMDg4OGZjNGFmZjApCiAgICAgICAgOwoKICAgICAgICAKICAgIAogICAgCiAgICAgICAgICAgIHZhciBjaXJjbGVfbWFya2VyX2ViNWNjZjgwOTFkZDRkZTZhZDI2NWFiNzNkN2MyZmI4ID0gTC5jaXJjbGVNYXJrZXIoCiAgICAgICAgICAgICAgICBbNDMuNjUxNDkzOSwgLTc5LjM3NTQxNzldLAogICAgICAgICAgICAgICAgeyJidWJibGluZ01vdXNlRXZlbnRzIjogdHJ1ZSwgImNvbG9yIjogImJsdWUiLCAiZGFzaEFycmF5IjogbnVsbCwgImRhc2hPZmZzZXQiOiBudWxsLCAiZmlsbCI6IHRydWUsICJmaWxsQ29sb3IiOiAiIzMxODZjYyIsICJmaWxsT3BhY2l0eSI6IDAuNywgImZpbGxSdWxlIjogImV2ZW5vZGQiLCAibGluZUNhcCI6ICJyb3VuZCIsICJsaW5lSm9pbiI6ICJyb3VuZCIsICJvcGFjaXR5IjogMS4wLCAicmFkaXVzIjogNSwgInN0cm9rZSI6IHRydWUsICJ3ZWlnaHQiOiAzfQogICAgICAgICAgICApLmFkZFRvKG1hcF83Njk1MjcyM2MxZWE0ZDJiYjVlOTgxZmRiYzI0MDAwYyk7CiAgICAgICAgCiAgICAKICAgICAgICB2YXIgcG9wdXBfMjJlZTYyYmY1MWJhNGEwNmEyMTBkZmRhNmI5N2IzYTcgPSBMLnBvcHVwKHsibWF4V2lkdGgiOiAiMTAwJSJ9KTsKCiAgICAgICAgCiAgICAgICAgICAgIHZhciBodG1sXzEzODNlMzVmNTVjYzQwZjhhNzQyNmM3MmU1NTg3NzNlID0gJChgPGRpdiBpZD0iaHRtbF8xMzgzZTM1ZjU1Y2M0MGY4YTc0MjZjNzJlNTU4NzczZSIgc3R5bGU9IndpZHRoOiAxMDAuMCU7IGhlaWdodDogMTAwLjAlOyI+U3QuIEphbWVzIFRvd24sIERvd250b3duIFRvcm9udG88L2Rpdj5gKVswXTsKICAgICAgICAgICAgcG9wdXBfMjJlZTYyYmY1MWJhNGEwNmEyMTBkZmRhNmI5N2IzYTcuc2V0Q29udGVudChodG1sXzEzODNlMzVmNTVjYzQwZjhhNzQyNmM3MmU1NTg3NzNlKTsKICAgICAgICAKCiAgICAgICAgY2lyY2xlX21hcmtlcl9lYjVjY2Y4MDkxZGQ0ZGU2YWQyNjVhYjczZDdjMmZiOC5iaW5kUG9wdXAocG9wdXBfMjJlZTYyYmY1MWJhNGEwNmEyMTBkZmRhNmI5N2IzYTcpCiAgICAgICAgOwoKICAgICAgICAKICAgIAogICAgCiAgICAgICAgICAgIHZhciBjaXJjbGVfbWFya2VyX2Q3YTIyNGI3MjRjNDQwODNhOWJjNmNmMDg1MmM2YmI4ID0gTC5jaXJjbGVNYXJrZXIoCiAgICAgICAgICAgICAgICBbNDMuNjc2MzU3Mzk5OTk5OTksIC03OS4yOTMwMzEyXSwKICAgICAgICAgICAgICAgIHsiYnViYmxpbmdNb3VzZUV2ZW50cyI6IHRydWUsICJjb2xvciI6ICJibHVlIiwgImRhc2hBcnJheSI6IG51bGwsICJkYXNoT2Zmc2V0IjogbnVsbCwgImZpbGwiOiB0cnVlLCAiZmlsbENvbG9yIjogIiMzMTg2Y2MiLCAiZmlsbE9wYWNpdHkiOiAwLjcsICJmaWxsUnVsZSI6ICJldmVub2RkIiwgImxpbmVDYXAiOiAicm91bmQiLCAibGluZUpvaW4iOiAicm91bmQiLCAib3BhY2l0eSI6IDEuMCwgInJhZGl1cyI6IDUsICJzdHJva2UiOiB0cnVlLCAid2VpZ2h0IjogM30KICAgICAgICAgICAgKS5hZGRUbyhtYXBfNzY5NTI3MjNjMWVhNGQyYmI1ZTk4MWZkYmMyNDAwMGMpOwogICAgICAgIAogICAgCiAgICAgICAgdmFyIHBvcHVwXzc1MTQ3ZDhlOWQ4ODQ4NDk4NzU5NzUzNjMzZWM2YTRkID0gTC5wb3B1cCh7Im1heFdpZHRoIjogIjEwMCUifSk7CgogICAgICAgIAogICAgICAgICAgICB2YXIgaHRtbF85OTkwYWQzZTg0YmE0NThjOTIwYzg3YmU4NmI1M2FhMiA9ICQoYDxkaXYgaWQ9Imh0bWxfOTk5MGFkM2U4NGJhNDU4YzkyMGM4N2JlODZiNTNhYTIiIHN0eWxlPSJ3aWR0aDogMTAwLjAlOyBoZWlnaHQ6IDEwMC4wJTsiPlRoZSBCZWFjaGVzLCBFYXN0IFRvcm9udG88L2Rpdj5gKVswXTsKICAgICAgICAgICAgcG9wdXBfNzUxNDdkOGU5ZDg4NDg0OTg3NTk3NTM2MzNlYzZhNGQuc2V0Q29udGVudChodG1sXzk5OTBhZDNlODRiYTQ1OGM5MjBjODdiZTg2YjUzYWEyKTsKICAgICAgICAKCiAgICAgICAgY2lyY2xlX21hcmtlcl9kN2EyMjRiNzI0YzQ0MDgzYTliYzZjZjA4NTJjNmJiOC5iaW5kUG9wdXAocG9wdXBfNzUxNDdkOGU5ZDg4NDg0OTg3NTk3NTM2MzNlYzZhNGQpCiAgICAgICAgOwoKICAgICAgICAKICAgIAogICAgCiAgICAgICAgICAgIHZhciBjaXJjbGVfbWFya2VyX2Y1ZjNmYmYwY2RiNDRlY2FiOWI1ZWFlOWZiNTQyNzdjID0gTC5jaXJjbGVNYXJrZXIoCiAgICAgICAgICAgICAgICBbNDMuNjQ0NzcwNzk5OTk5OTk2LCAtNzkuMzczMzA2NF0sCiAgICAgICAgICAgICAgICB7ImJ1YmJsaW5nTW91c2VFdmVudHMiOiB0cnVlLCAiY29sb3IiOiAiYmx1ZSIsICJkYXNoQXJyYXkiOiBudWxsLCAiZGFzaE9mZnNldCI6IG51bGwsICJmaWxsIjogdHJ1ZSwgImZpbGxDb2xvciI6ICIjMzE4NmNjIiwgImZpbGxPcGFjaXR5IjogMC43LCAiZmlsbFJ1bGUiOiAiZXZlbm9kZCIsICJsaW5lQ2FwIjogInJvdW5kIiwgImxpbmVKb2luIjogInJvdW5kIiwgIm9wYWNpdHkiOiAxLjAsICJyYWRpdXMiOiA1LCAic3Ryb2tlIjogdHJ1ZSwgIndlaWdodCI6IDN9CiAgICAgICAgICAgICkuYWRkVG8obWFwXzc2OTUyNzIzYzFlYTRkMmJiNWU5ODFmZGJjMjQwMDBjKTsKICAgICAgICAKICAgIAogICAgICAgIHZhciBwb3B1cF9kZmQ2Y2MzOTE5NGI0ZTcwOGIwMzEwZDU4MzZiOGZhMiA9IEwucG9wdXAoeyJtYXhXaWR0aCI6ICIxMDAlIn0pOwoKICAgICAgICAKICAgICAgICAgICAgdmFyIGh0bWxfNmU1NjA4ZTQyZDAxNDAyZTlkYjI4ODEzNGU2Mjg5NjggPSAkKGA8ZGl2IGlkPSJodG1sXzZlNTYwOGU0MmQwMTQwMmU5ZGIyODgxMzRlNjI4OTY4IiBzdHlsZT0id2lkdGg6IDEwMC4wJTsgaGVpZ2h0OiAxMDAuMCU7Ij5CZXJjenkgUGFyaywgRG93bnRvd24gVG9yb250bzwvZGl2PmApWzBdOwogICAgICAgICAgICBwb3B1cF9kZmQ2Y2MzOTE5NGI0ZTcwOGIwMzEwZDU4MzZiOGZhMi5zZXRDb250ZW50KGh0bWxfNmU1NjA4ZTQyZDAxNDAyZTlkYjI4ODEzNGU2Mjg5NjgpOwogICAgICAgIAoKICAgICAgICBjaXJjbGVfbWFya2VyX2Y1ZjNmYmYwY2RiNDRlY2FiOWI1ZWFlOWZiNTQyNzdjLmJpbmRQb3B1cChwb3B1cF9kZmQ2Y2MzOTE5NGI0ZTcwOGIwMzEwZDU4MzZiOGZhMikKICAgICAgICA7CgogICAgICAgIAogICAgCiAgICAKICAgICAgICAgICAgdmFyIGNpcmNsZV9tYXJrZXJfYzFiMzYxNzY0ZWEyNDdkMjkyODFlYWI5YTVkZDY1YWUgPSBMLmNpcmNsZU1hcmtlcigKICAgICAgICAgICAgICAgIFs0My42NTc5NTI0LCAtNzkuMzg3MzgyNl0sCiAgICAgICAgICAgICAgICB7ImJ1YmJsaW5nTW91c2VFdmVudHMiOiB0cnVlLCAiY29sb3IiOiAiYmx1ZSIsICJkYXNoQXJyYXkiOiBudWxsLCAiZGFzaE9mZnNldCI6IG51bGwsICJmaWxsIjogdHJ1ZSwgImZpbGxDb2xvciI6ICIjMzE4NmNjIiwgImZpbGxPcGFjaXR5IjogMC43LCAiZmlsbFJ1bGUiOiAiZXZlbm9kZCIsICJsaW5lQ2FwIjogInJvdW5kIiwgImxpbmVKb2luIjogInJvdW5kIiwgIm9wYWNpdHkiOiAxLjAsICJyYWRpdXMiOiA1LCAic3Ryb2tlIjogdHJ1ZSwgIndlaWdodCI6IDN9CiAgICAgICAgICAgICkuYWRkVG8obWFwXzc2OTUyNzIzYzFlYTRkMmJiNWU5ODFmZGJjMjQwMDBjKTsKICAgICAgICAKICAgIAogICAgICAgIHZhciBwb3B1cF9hNzQ2MGM4NDg3ZjU0NWQ5YWM5OGYzMWM2ZTI5MzA0ZCA9IEwucG9wdXAoeyJtYXhXaWR0aCI6ICIxMDAlIn0pOwoKICAgICAgICAKICAgICAgICAgICAgdmFyIGh0bWxfOTliNDZjZjllMzFlNGJmNmIzM2RkYTcxYmVhY2UzZDMgPSAkKGA8ZGl2IGlkPSJodG1sXzk5YjQ2Y2Y5ZTMxZTRiZjZiMzNkZGE3MWJlYWNlM2QzIiBzdHlsZT0id2lkdGg6IDEwMC4wJTsgaGVpZ2h0OiAxMDAuMCU7Ij5DZW50cmFsIEJheSBTdHJlZXQsIERvd250b3duIFRvcm9udG88L2Rpdj5gKVswXTsKICAgICAgICAgICAgcG9wdXBfYTc0NjBjODQ4N2Y1NDVkOWFjOThmMzFjNmUyOTMwNGQuc2V0Q29udGVudChodG1sXzk5YjQ2Y2Y5ZTMxZTRiZjZiMzNkZGE3MWJlYWNlM2QzKTsKICAgICAgICAKCiAgICAgICAgY2lyY2xlX21hcmtlcl9jMWIzNjE3NjRlYTI0N2QyOTI4MWVhYjlhNWRkNjVhZS5iaW5kUG9wdXAocG9wdXBfYTc0NjBjODQ4N2Y1NDVkOWFjOThmMzFjNmUyOTMwNGQpCiAgICAgICAgOwoKICAgICAgICAKICAgIAogICAgCiAgICAgICAgICAgIHZhciBjaXJjbGVfbWFya2VyX2E4OWY2ZjhjNjBlMzQ1MGY5ZjAyYzk4YmY3ZjM5ZjNlID0gTC5jaXJjbGVNYXJrZXIoCiAgICAgICAgICAgICAgICBbNDMuNjY5NTQyLCAtNzkuNDIyNTYzN10sCiAgICAgICAgICAgICAgICB7ImJ1YmJsaW5nTW91c2VFdmVudHMiOiB0cnVlLCAiY29sb3IiOiAiYmx1ZSIsICJkYXNoQXJyYXkiOiBudWxsLCAiZGFzaE9mZnNldCI6IG51bGwsICJmaWxsIjogdHJ1ZSwgImZpbGxDb2xvciI6ICIjMzE4NmNjIiwgImZpbGxPcGFjaXR5IjogMC43LCAiZmlsbFJ1bGUiOiAiZXZlbm9kZCIsICJsaW5lQ2FwIjogInJvdW5kIiwgImxpbmVKb2luIjogInJvdW5kIiwgIm9wYWNpdHkiOiAxLjAsICJyYWRpdXMiOiA1LCAic3Ryb2tlIjogdHJ1ZSwgIndlaWdodCI6IDN9CiAgICAgICAgICAgICkuYWRkVG8obWFwXzc2OTUyNzIzYzFlYTRkMmJiNWU5ODFmZGJjMjQwMDBjKTsKICAgICAgICAKICAgIAogICAgICAgIHZhciBwb3B1cF80ODAzY2VjNWY3ZjA0N2I2YjA0NmYyOTE1MTE4MTE3OSA9IEwucG9wdXAoeyJtYXhXaWR0aCI6ICIxMDAlIn0pOwoKICAgICAgICAKICAgICAgICAgICAgdmFyIGh0bWxfYjUwYWZhNzllZTdjNDNmNGE2MGU1NTY2ZjMxMWQyNTMgPSAkKGA8ZGl2IGlkPSJodG1sX2I1MGFmYTc5ZWU3YzQzZjRhNjBlNTU2NmYzMTFkMjUzIiBzdHlsZT0id2lkdGg6IDEwMC4wJTsgaGVpZ2h0OiAxMDAuMCU7Ij5DaHJpc3RpZSwgRG93bnRvd24gVG9yb250bzwvZGl2PmApWzBdOwogICAgICAgICAgICBwb3B1cF80ODAzY2VjNWY3ZjA0N2I2YjA0NmYyOTE1MTE4MTE3OS5zZXRDb250ZW50KGh0bWxfYjUwYWZhNzllZTdjNDNmNGE2MGU1NTY2ZjMxMWQyNTMpOwogICAgICAgIAoKICAgICAgICBjaXJjbGVfbWFya2VyX2E4OWY2ZjhjNjBlMzQ1MGY5ZjAyYzk4YmY3ZjM5ZjNlLmJpbmRQb3B1cChwb3B1cF80ODAzY2VjNWY3ZjA0N2I2YjA0NmYyOTE1MTE4MTE3OSkKICAgICAgICA7CgogICAgICAgIAogICAgCiAgICAKICAgICAgICAgICAgdmFyIGNpcmNsZV9tYXJrZXJfZWU5YjE2Y2UxYTJiNDM0YzhmYjdkNDljOTdiMDE3YTMgPSBMLmNpcmNsZU1hcmtlcigKICAgICAgICAgICAgICAgIFs0My42NTA1NzEyMDAwMDAwMSwgLTc5LjM4NDU2NzVdLAogICAgICAgICAgICAgICAgeyJidWJibGluZ01vdXNlRXZlbnRzIjogdHJ1ZSwgImNvbG9yIjogImJsdWUiLCAiZGFzaEFycmF5IjogbnVsbCwgImRhc2hPZmZzZXQiOiBudWxsLCAiZmlsbCI6IHRydWUsICJmaWxsQ29sb3IiOiAiIzMxODZjYyIsICJmaWxsT3BhY2l0eSI6IDAuNywgImZpbGxSdWxlIjogImV2ZW5vZGQiLCAibGluZUNhcCI6ICJyb3VuZCIsICJsaW5lSm9pbiI6ICJyb3VuZCIsICJvcGFjaXR5IjogMS4wLCAicmFkaXVzIjogNSwgInN0cm9rZSI6IHRydWUsICJ3ZWlnaHQiOiAzfQogICAgICAgICAgICApLmFkZFRvKG1hcF83Njk1MjcyM2MxZWE0ZDJiYjVlOTgxZmRiYzI0MDAwYyk7CiAgICAgICAgCiAgICAKICAgICAgICB2YXIgcG9wdXBfMmRjOWU5NjVlYTFjNDFmZmI4ZjI3ODNjMTQwMjUxOWUgPSBMLnBvcHVwKHsibWF4V2lkdGgiOiAiMTAwJSJ9KTsKCiAgICAgICAgCiAgICAgICAgICAgIHZhciBodG1sXzViYTZhZjRiYjdiMjRlMTA4Yjc3YWVjYzM1ODk1NmIzID0gJChgPGRpdiBpZD0iaHRtbF81YmE2YWY0YmI3YjI0ZTEwOGI3N2FlY2MzNTg5NTZiMyIgc3R5bGU9IndpZHRoOiAxMDAuMCU7IGhlaWdodDogMTAwLjAlOyI+UmljaG1vbmQsIEFkZWxhaWRlLCBLaW5nLCBEb3dudG93biBUb3JvbnRvPC9kaXY+YClbMF07CiAgICAgICAgICAgIHBvcHVwXzJkYzllOTY1ZWExYzQxZmZiOGYyNzgzYzE0MDI1MTllLnNldENvbnRlbnQoaHRtbF81YmE2YWY0YmI3YjI0ZTEwOGI3N2FlY2MzNTg5NTZiMyk7CiAgICAgICAgCgogICAgICAgIGNpcmNsZV9tYXJrZXJfZWU5YjE2Y2UxYTJiNDM0YzhmYjdkNDljOTdiMDE3YTMuYmluZFBvcHVwKHBvcHVwXzJkYzllOTY1ZWExYzQxZmZiOGYyNzgzYzE0MDI1MTllKQogICAgICAgIDsKCiAgICAgICAgCiAgICAKICAgIAogICAgICAgICAgICB2YXIgY2lyY2xlX21hcmtlcl8zNWIyZmU4Njg3Zjk0YjU4YjI1ZWQyMzU3NTI3ZTZmYyA9IEwuY2lyY2xlTWFya2VyKAogICAgICAgICAgICAgICAgWzQzLjY2OTAwNTEwMDAwMDAxLCAtNzkuNDQyMjU5M10sCiAgICAgICAgICAgICAgICB7ImJ1YmJsaW5nTW91c2VFdmVudHMiOiB0cnVlLCAiY29sb3IiOiAiYmx1ZSIsICJkYXNoQXJyYXkiOiBudWxsLCAiZGFzaE9mZnNldCI6IG51bGwsICJmaWxsIjogdHJ1ZSwgImZpbGxDb2xvciI6ICIjMzE4NmNjIiwgImZpbGxPcGFjaXR5IjogMC43LCAiZmlsbFJ1bGUiOiAiZXZlbm9kZCIsICJsaW5lQ2FwIjogInJvdW5kIiwgImxpbmVKb2luIjogInJvdW5kIiwgIm9wYWNpdHkiOiAxLjAsICJyYWRpdXMiOiA1LCAic3Ryb2tlIjogdHJ1ZSwgIndlaWdodCI6IDN9CiAgICAgICAgICAgICkuYWRkVG8obWFwXzc2OTUyNzIzYzFlYTRkMmJiNWU5ODFmZGJjMjQwMDBjKTsKICAgICAgICAKICAgIAogICAgICAgIHZhciBwb3B1cF80OGY3ZjZkMzY1ZDU0NTM4ODg0NmU4ZDVmMGIxYWYwNyA9IEwucG9wdXAoeyJtYXhXaWR0aCI6ICIxMDAlIn0pOwoKICAgICAgICAKICAgICAgICAgICAgdmFyIGh0bWxfOWE4YTM5NDgyMmFjNDQ5NzgyY2I2OWU3NGQ2MGU0YTYgPSAkKGA8ZGl2IGlkPSJodG1sXzlhOGEzOTQ4MjJhYzQ0OTc4MmNiNjllNzRkNjBlNGE2IiBzdHlsZT0id2lkdGg6IDEwMC4wJTsgaGVpZ2h0OiAxMDAuMCU7Ij5EdWZmZXJpbiwgRG92ZXJjb3VydCBWaWxsYWdlLCBXZXN0IFRvcm9udG88L2Rpdj5gKVswXTsKICAgICAgICAgICAgcG9wdXBfNDhmN2Y2ZDM2NWQ1NDUzODg4NDZlOGQ1ZjBiMWFmMDcuc2V0Q29udGVudChodG1sXzlhOGEzOTQ4MjJhYzQ0OTc4MmNiNjllNzRkNjBlNGE2KTsKICAgICAgICAKCiAgICAgICAgY2lyY2xlX21hcmtlcl8zNWIyZmU4Njg3Zjk0YjU4YjI1ZWQyMzU3NTI3ZTZmYy5iaW5kUG9wdXAocG9wdXBfNDhmN2Y2ZDM2NWQ1NDUzODg4NDZlOGQ1ZjBiMWFmMDcpCiAgICAgICAgOwoKICAgICAgICAKICAgIAogICAgCiAgICAgICAgICAgIHZhciBjaXJjbGVfbWFya2VyX2M2NTJhYzNmODMzNDQzYjI5ZjRjMTU3MTY0NDg5ZmQ1ID0gTC5jaXJjbGVNYXJrZXIoCiAgICAgICAgICAgICAgICBbNDMuNjQwODE1NywgLTc5LjM4MTc1MjI5OTk5OTk5XSwKICAgICAgICAgICAgICAgIHsiYnViYmxpbmdNb3VzZUV2ZW50cyI6IHRydWUsICJjb2xvciI6ICJibHVlIiwgImRhc2hBcnJheSI6IG51bGwsICJkYXNoT2Zmc2V0IjogbnVsbCwgImZpbGwiOiB0cnVlLCAiZmlsbENvbG9yIjogIiMzMTg2Y2MiLCAiZmlsbE9wYWNpdHkiOiAwLjcsICJmaWxsUnVsZSI6ICJldmVub2RkIiwgImxpbmVDYXAiOiAicm91bmQiLCAibGluZUpvaW4iOiAicm91bmQiLCAib3BhY2l0eSI6IDEuMCwgInJhZGl1cyI6IDUsICJzdHJva2UiOiB0cnVlLCAid2VpZ2h0IjogM30KICAgICAgICAgICAgKS5hZGRUbyhtYXBfNzY5NTI3MjNjMWVhNGQyYmI1ZTk4MWZkYmMyNDAwMGMpOwogICAgICAgIAogICAgCiAgICAgICAgdmFyIHBvcHVwX2U4M2IxOGFhM2VlNzRjYzZiMjYwNjdmZjAwODA1M2JiID0gTC5wb3B1cCh7Im1heFdpZHRoIjogIjEwMCUifSk7CgogICAgICAgIAogICAgICAgICAgICB2YXIgaHRtbF9kMGIzZjhlOTlkNjc0ZjVmYmYyZjg5NDVkOWNjMWE5NiA9ICQoYDxkaXYgaWQ9Imh0bWxfZDBiM2Y4ZTk5ZDY3NGY1ZmJmMmY4OTQ1ZDljYzFhOTYiIHN0eWxlPSJ3aWR0aDogMTAwLjAlOyBoZWlnaHQ6IDEwMC4wJTsiPkhhcmJvdXJmcm9udCBFYXN0LCBVbmlvbiBTdGF0aW9uLCBUb3JvbnRvIElzbGFuZHMsIERvd250b3duIFRvcm9udG88L2Rpdj5gKVswXTsKICAgICAgICAgICAgcG9wdXBfZTgzYjE4YWEzZWU3NGNjNmIyNjA2N2ZmMDA4MDUzYmIuc2V0Q29udGVudChodG1sX2QwYjNmOGU5OWQ2NzRmNWZiZjJmODk0NWQ5Y2MxYTk2KTsKICAgICAgICAKCiAgICAgICAgY2lyY2xlX21hcmtlcl9jNjUyYWMzZjgzMzQ0M2IyOWY0YzE1NzE2NDQ4OWZkNS5iaW5kUG9wdXAocG9wdXBfZTgzYjE4YWEzZWU3NGNjNmIyNjA2N2ZmMDA4MDUzYmIpCiAgICAgICAgOwoKICAgICAgICAKICAgIAogICAgCiAgICAgICAgICAgIHZhciBjaXJjbGVfbWFya2VyXzdhMGI4MDU2ZDQ4YzRhY2U5MjRjZjZmNTJiNTU4ZGEwID0gTC5jaXJjbGVNYXJrZXIoCiAgICAgICAgICAgICAgICBbNDMuNjQ3OTI2NzAwMDAwMDA2LCAtNzkuNDE5NzQ5N10sCiAgICAgICAgICAgICAgICB7ImJ1YmJsaW5nTW91c2VFdmVudHMiOiB0cnVlLCAiY29sb3IiOiAiYmx1ZSIsICJkYXNoQXJyYXkiOiBudWxsLCAiZGFzaE9mZnNldCI6IG51bGwsICJmaWxsIjogdHJ1ZSwgImZpbGxDb2xvciI6ICIjMzE4NmNjIiwgImZpbGxPcGFjaXR5IjogMC43LCAiZmlsbFJ1bGUiOiAiZXZlbm9kZCIsICJsaW5lQ2FwIjogInJvdW5kIiwgImxpbmVKb2luIjogInJvdW5kIiwgIm9wYWNpdHkiOiAxLjAsICJyYWRpdXMiOiA1LCAic3Ryb2tlIjogdHJ1ZSwgIndlaWdodCI6IDN9CiAgICAgICAgICAgICkuYWRkVG8obWFwXzc2OTUyNzIzYzFlYTRkMmJiNWU5ODFmZGJjMjQwMDBjKTsKICAgICAgICAKICAgIAogICAgICAgIHZhciBwb3B1cF8xMDM5MjgyZGYzNjc0Y2I0YTFhYTYwNWY2YjQ0NmNmMyA9IEwucG9wdXAoeyJtYXhXaWR0aCI6ICIxMDAlIn0pOwoKICAgICAgICAKICAgICAgICAgICAgdmFyIGh0bWxfOTQ3OTBjNTYwZjZjNDJmYjk5MTY1MDE5ZjRmNDQ2YjAgPSAkKGA8ZGl2IGlkPSJodG1sXzk0NzkwYzU2MGY2YzQyZmI5OTE2NTAxOWY0ZjQ0NmIwIiBzdHlsZT0id2lkdGg6IDEwMC4wJTsgaGVpZ2h0OiAxMDAuMCU7Ij5MaXR0bGUgUG9ydHVnYWwsIFRyaW5pdHksIFdlc3QgVG9yb250bzwvZGl2PmApWzBdOwogICAgICAgICAgICBwb3B1cF8xMDM5MjgyZGYzNjc0Y2I0YTFhYTYwNWY2YjQ0NmNmMy5zZXRDb250ZW50KGh0bWxfOTQ3OTBjNTYwZjZjNDJmYjk5MTY1MDE5ZjRmNDQ2YjApOwogICAgICAgIAoKICAgICAgICBjaXJjbGVfbWFya2VyXzdhMGI4MDU2ZDQ4YzRhY2U5MjRjZjZmNTJiNTU4ZGEwLmJpbmRQb3B1cChwb3B1cF8xMDM5MjgyZGYzNjc0Y2I0YTFhYTYwNWY2YjQ0NmNmMykKICAgICAgICA7CgogICAgICAgIAogICAgCiAgICAKICAgICAgICAgICAgdmFyIGNpcmNsZV9tYXJrZXJfZGM2ZGIyMGM0ZTA1NGY5OGEyZjllMWYzZWM4ZmViZTkgPSBMLmNpcmNsZU1hcmtlcigKICAgICAgICAgICAgICAgIFs0My42Nzk1NTcxLCAtNzkuMzUyMTg4XSwKICAgICAgICAgICAgICAgIHsiYnViYmxpbmdNb3VzZUV2ZW50cyI6IHRydWUsICJjb2xvciI6ICJibHVlIiwgImRhc2hBcnJheSI6IG51bGwsICJkYXNoT2Zmc2V0IjogbnVsbCwgImZpbGwiOiB0cnVlLCAiZmlsbENvbG9yIjogIiMzMTg2Y2MiLCAiZmlsbE9wYWNpdHkiOiAwLjcsICJmaWxsUnVsZSI6ICJldmVub2RkIiwgImxpbmVDYXAiOiAicm91bmQiLCAibGluZUpvaW4iOiAicm91bmQiLCAib3BhY2l0eSI6IDEuMCwgInJhZGl1cyI6IDUsICJzdHJva2UiOiB0cnVlLCAid2VpZ2h0IjogM30KICAgICAgICAgICAgKS5hZGRUbyhtYXBfNzY5NTI3MjNjMWVhNGQyYmI1ZTk4MWZkYmMyNDAwMGMpOwogICAgICAgIAogICAgCiAgICAgICAgdmFyIHBvcHVwX2Y5NjllMTZhNGVmMzQwZTBiZWM0YjY5ZTFhMzVhZGM2ID0gTC5wb3B1cCh7Im1heFdpZHRoIjogIjEwMCUifSk7CgogICAgICAgIAogICAgICAgICAgICB2YXIgaHRtbF9mMjYwNjQwNDliZjg0NjAyYTJmNTEyM2MxMDVmYjU3NSA9ICQoYDxkaXYgaWQ9Imh0bWxfZjI2MDY0MDQ5YmY4NDYwMmEyZjUxMjNjMTA1ZmI1NzUiIHN0eWxlPSJ3aWR0aDogMTAwLjAlOyBoZWlnaHQ6IDEwMC4wJTsiPlRoZSBEYW5mb3J0aCBXZXN0LCBSaXZlcmRhbGUsIEVhc3QgVG9yb250bzwvZGl2PmApWzBdOwogICAgICAgICAgICBwb3B1cF9mOTY5ZTE2YTRlZjM0MGUwYmVjNGI2OWUxYTM1YWRjNi5zZXRDb250ZW50KGh0bWxfZjI2MDY0MDQ5YmY4NDYwMmEyZjUxMjNjMTA1ZmI1NzUpOwogICAgICAgIAoKICAgICAgICBjaXJjbGVfbWFya2VyX2RjNmRiMjBjNGUwNTRmOThhMmY5ZTFmM2VjOGZlYmU5LmJpbmRQb3B1cChwb3B1cF9mOTY5ZTE2YTRlZjM0MGUwYmVjNGI2OWUxYTM1YWRjNikKICAgICAgICA7CgogICAgICAgIAogICAgCiAgICAKICAgICAgICAgICAgdmFyIGNpcmNsZV9tYXJrZXJfYzYxNTAyNmRlZjU4NDQ5MzhmYzcwMmZkOGRiMmEwOWIgPSBMLmNpcmNsZU1hcmtlcigKICAgICAgICAgICAgICAgIFs0My42NDcxNzY4LCAtNzkuMzgxNTc2NDAwMDAwMDFdLAogICAgICAgICAgICAgICAgeyJidWJibGluZ01vdXNlRXZlbnRzIjogdHJ1ZSwgImNvbG9yIjogImJsdWUiLCAiZGFzaEFycmF5IjogbnVsbCwgImRhc2hPZmZzZXQiOiBudWxsLCAiZmlsbCI6IHRydWUsICJmaWxsQ29sb3IiOiAiIzMxODZjYyIsICJmaWxsT3BhY2l0eSI6IDAuNywgImZpbGxSdWxlIjogImV2ZW5vZGQiLCAibGluZUNhcCI6ICJyb3VuZCIsICJsaW5lSm9pbiI6ICJyb3VuZCIsICJvcGFjaXR5IjogMS4wLCAicmFkaXVzIjogNSwgInN0cm9rZSI6IHRydWUsICJ3ZWlnaHQiOiAzfQogICAgICAgICAgICApLmFkZFRvKG1hcF83Njk1MjcyM2MxZWE0ZDJiYjVlOTgxZmRiYzI0MDAwYyk7CiAgICAgICAgCiAgICAKICAgICAgICB2YXIgcG9wdXBfOTg1NTNkN2YwOGRiNDM5NDg0ZmVhNzgzODQ1NGVjNjAgPSBMLnBvcHVwKHsibWF4V2lkdGgiOiAiMTAwJSJ9KTsKCiAgICAgICAgCiAgICAgICAgICAgIHZhciBodG1sXzdjNjdhOGVlNTBlZTQyMDViN2I4NzU3ODg1YmViZmFkID0gJChgPGRpdiBpZD0iaHRtbF83YzY3YThlZTUwZWU0MjA1YjdiODc1Nzg4NWJlYmZhZCIgc3R5bGU9IndpZHRoOiAxMDAuMCU7IGhlaWdodDogMTAwLjAlOyI+VG9yb250byBEb21pbmlvbiBDZW50cmUsIERlc2lnbiBFeGNoYW5nZSwgRG93bnRvd24gVG9yb250bzwvZGl2PmApWzBdOwogICAgICAgICAgICBwb3B1cF85ODU1M2Q3ZjA4ZGI0Mzk0ODRmZWE3ODM4NDU0ZWM2MC5zZXRDb250ZW50KGh0bWxfN2M2N2E4ZWU1MGVlNDIwNWI3Yjg3NTc4ODViZWJmYWQpOwogICAgICAgIAoKICAgICAgICBjaXJjbGVfbWFya2VyX2M2MTUwMjZkZWY1ODQ0OTM4ZmM3MDJmZDhkYjJhMDliLmJpbmRQb3B1cChwb3B1cF85ODU1M2Q3ZjA4ZGI0Mzk0ODRmZWE3ODM4NDU0ZWM2MCkKICAgICAgICA7CgogICAgICAgIAogICAgCiAgICAKICAgICAgICAgICAgdmFyIGNpcmNsZV9tYXJrZXJfNTk4OTU1YWI1Y2U3NGM2Y2I2MmI3NGU1NWI3NjIyYzMgPSBMLmNpcmNsZU1hcmtlcigKICAgICAgICAgICAgICAgIFs0My42MzY4NDcyLCAtNzkuNDI4MTkxNDAwMDAwMDJdLAogICAgICAgICAgICAgICAgeyJidWJibGluZ01vdXNlRXZlbnRzIjogdHJ1ZSwgImNvbG9yIjogImJsdWUiLCAiZGFzaEFycmF5IjogbnVsbCwgImRhc2hPZmZzZXQiOiBudWxsLCAiZmlsbCI6IHRydWUsICJmaWxsQ29sb3IiOiAiIzMxODZjYyIsICJmaWxsT3BhY2l0eSI6IDAuNywgImZpbGxSdWxlIjogImV2ZW5vZGQiLCAibGluZUNhcCI6ICJyb3VuZCIsICJsaW5lSm9pbiI6ICJyb3VuZCIsICJvcGFjaXR5IjogMS4wLCAicmFkaXVzIjogNSwgInN0cm9rZSI6IHRydWUsICJ3ZWlnaHQiOiAzfQogICAgICAgICAgICApLmFkZFRvKG1hcF83Njk1MjcyM2MxZWE0ZDJiYjVlOTgxZmRiYzI0MDAwYyk7CiAgICAgICAgCiAgICAKICAgICAgICB2YXIgcG9wdXBfNGFiYWZiMmE3MmEyNDI2M2IxMDlhNWVmMzY1ZTAxYWEgPSBMLnBvcHVwKHsibWF4V2lkdGgiOiAiMTAwJSJ9KTsKCiAgICAgICAgCiAgICAgICAgICAgIHZhciBodG1sX2YxZDg2ZjdhNzI0YjQ4OTNhZjJjOTM4OTQxMDBlMGYwID0gJChgPGRpdiBpZD0iaHRtbF9mMWQ4NmY3YTcyNGI0ODkzYWYyYzkzODk0MTAwZTBmMCIgc3R5bGU9IndpZHRoOiAxMDAuMCU7IGhlaWdodDogMTAwLjAlOyI+QnJvY2t0b24sIFBhcmtkYWxlIFZpbGxhZ2UsIEV4aGliaXRpb24gUGxhY2UsIFdlc3QgVG9yb250bzwvZGl2PmApWzBdOwogICAgICAgICAgICBwb3B1cF80YWJhZmIyYTcyYTI0MjYzYjEwOWE1ZWYzNjVlMDFhYS5zZXRDb250ZW50KGh0bWxfZjFkODZmN2E3MjRiNDg5M2FmMmM5Mzg5NDEwMGUwZjApOwogICAgICAgIAoKICAgICAgICBjaXJjbGVfbWFya2VyXzU5ODk1NWFiNWNlNzRjNmNiNjJiNzRlNTViNzYyMmMzLmJpbmRQb3B1cChwb3B1cF80YWJhZmIyYTcyYTI0MjYzYjEwOWE1ZWYzNjVlMDFhYSkKICAgICAgICA7CgogICAgICAgIAogICAgCiAgICAKICAgICAgICAgICAgdmFyIGNpcmNsZV9tYXJrZXJfNzE2NGUyOWUwNmJhNDNkY2JhYzI4ZGZlNGNlMGQ2ZTMgPSBMLmNpcmNsZU1hcmtlcigKICAgICAgICAgICAgICAgIFs0My42Njg5OTg1LCAtNzkuMzE1NTcxNTk5OTk5OThdLAogICAgICAgICAgICAgICAgeyJidWJibGluZ01vdXNlRXZlbnRzIjogdHJ1ZSwgImNvbG9yIjogImJsdWUiLCAiZGFzaEFycmF5IjogbnVsbCwgImRhc2hPZmZzZXQiOiBudWxsLCAiZmlsbCI6IHRydWUsICJmaWxsQ29sb3IiOiAiIzMxODZjYyIsICJmaWxsT3BhY2l0eSI6IDAuNywgImZpbGxSdWxlIjogImV2ZW5vZGQiLCAibGluZUNhcCI6ICJyb3VuZCIsICJsaW5lSm9pbiI6ICJyb3VuZCIsICJvcGFjaXR5IjogMS4wLCAicmFkaXVzIjogNSwgInN0cm9rZSI6IHRydWUsICJ3ZWlnaHQiOiAzfQogICAgICAgICAgICApLmFkZFRvKG1hcF83Njk1MjcyM2MxZWE0ZDJiYjVlOTgxZmRiYzI0MDAwYyk7CiAgICAgICAgCiAgICAKICAgICAgICB2YXIgcG9wdXBfZjg3NDk2N2EyOThkNDZkZDg5NWMwZjFhODYxOWFmNWQgPSBMLnBvcHVwKHsibWF4V2lkdGgiOiAiMTAwJSJ9KTsKCiAgICAgICAgCiAgICAgICAgICAgIHZhciBodG1sXzA1MzE5YzE1ZDg2ODQyMDRhZTBkNmEyZWI0YmRiN2VlID0gJChgPGRpdiBpZD0iaHRtbF8wNTMxOWMxNWQ4Njg0MjA0YWUwZDZhMmViNGJkYjdlZSIgc3R5bGU9IndpZHRoOiAxMDAuMCU7IGhlaWdodDogMTAwLjAlOyI+SW5kaWEgQmF6YWFyLCBUaGUgQmVhY2hlcyBXZXN0LCBFYXN0IFRvcm9udG88L2Rpdj5gKVswXTsKICAgICAgICAgICAgcG9wdXBfZjg3NDk2N2EyOThkNDZkZDg5NWMwZjFhODYxOWFmNWQuc2V0Q29udGVudChodG1sXzA1MzE5YzE1ZDg2ODQyMDRhZTBkNmEyZWI0YmRiN2VlKTsKICAgICAgICAKCiAgICAgICAgY2lyY2xlX21hcmtlcl83MTY0ZTI5ZTA2YmE0M2RjYmFjMjhkZmU0Y2UwZDZlMy5iaW5kUG9wdXAocG9wdXBfZjg3NDk2N2EyOThkNDZkZDg5NWMwZjFhODYxOWFmNWQpCiAgICAgICAgOwoKICAgICAgICAKICAgIAogICAgCiAgICAgICAgICAgIHZhciBjaXJjbGVfbWFya2VyX2Q5OGQ4ZTlhYjNiMzRjMTJiMzgxMDY2ZWJhYjU5ZGFmID0gTC5jaXJjbGVNYXJrZXIoCiAgICAgICAgICAgICAgICBbNDMuNjQ4MTk4NSwgLTc5LjM3OTgxNjkwMDAwMDAxXSwKICAgICAgICAgICAgICAgIHsiYnViYmxpbmdNb3VzZUV2ZW50cyI6IHRydWUsICJjb2xvciI6ICJibHVlIiwgImRhc2hBcnJheSI6IG51bGwsICJkYXNoT2Zmc2V0IjogbnVsbCwgImZpbGwiOiB0cnVlLCAiZmlsbENvbG9yIjogIiMzMTg2Y2MiLCAiZmlsbE9wYWNpdHkiOiAwLjcsICJmaWxsUnVsZSI6ICJldmVub2RkIiwgImxpbmVDYXAiOiAicm91bmQiLCAibGluZUpvaW4iOiAicm91bmQiLCAib3BhY2l0eSI6IDEuMCwgInJhZGl1cyI6IDUsICJzdHJva2UiOiB0cnVlLCAid2VpZ2h0IjogM30KICAgICAgICAgICAgKS5hZGRUbyhtYXBfNzY5NTI3MjNjMWVhNGQyYmI1ZTk4MWZkYmMyNDAwMGMpOwogICAgICAgIAogICAgCiAgICAgICAgdmFyIHBvcHVwX2YyMTUzMmUzYzUyYzQxZjRhMjc2YzY5ODY2NzM0MmNkID0gTC5wb3B1cCh7Im1heFdpZHRoIjogIjEwMCUifSk7CgogICAgICAgIAogICAgICAgICAgICB2YXIgaHRtbF9iZjM1MDA5NmZmMjk0N2EzOWNiMmY4YTc1ZmQzNzhkNyA9ICQoYDxkaXYgaWQ9Imh0bWxfYmYzNTAwOTZmZjI5NDdhMzljYjJmOGE3NWZkMzc4ZDciIHN0eWxlPSJ3aWR0aDogMTAwLjAlOyBoZWlnaHQ6IDEwMC4wJTsiPkNvbW1lcmNlIENvdXJ0LCBWaWN0b3JpYSBIb3RlbCwgRG93bnRvd24gVG9yb250bzwvZGl2PmApWzBdOwogICAgICAgICAgICBwb3B1cF9mMjE1MzJlM2M1MmM0MWY0YTI3NmM2OTg2NjczNDJjZC5zZXRDb250ZW50KGh0bWxfYmYzNTAwOTZmZjI5NDdhMzljYjJmOGE3NWZkMzc4ZDcpOwogICAgICAgIAoKICAgICAgICBjaXJjbGVfbWFya2VyX2Q5OGQ4ZTlhYjNiMzRjMTJiMzgxMDY2ZWJhYjU5ZGFmLmJpbmRQb3B1cChwb3B1cF9mMjE1MzJlM2M1MmM0MWY0YTI3NmM2OTg2NjczNDJjZCkKICAgICAgICA7CgogICAgICAgIAogICAgCiAgICAKICAgICAgICAgICAgdmFyIGNpcmNsZV9tYXJrZXJfNzQwNDg3NWI1NGRhNDQxNjkzN2FhMDFkNTY0YTAxNWQgPSBMLmNpcmNsZU1hcmtlcigKICAgICAgICAgICAgICAgIFs0My42NTk1MjU1LCAtNzkuMzQwOTIzXSwKICAgICAgICAgICAgICAgIHsiYnViYmxpbmdNb3VzZUV2ZW50cyI6IHRydWUsICJjb2xvciI6ICJibHVlIiwgImRhc2hBcnJheSI6IG51bGwsICJkYXNoT2Zmc2V0IjogbnVsbCwgImZpbGwiOiB0cnVlLCAiZmlsbENvbG9yIjogIiMzMTg2Y2MiLCAiZmlsbE9wYWNpdHkiOiAwLjcsICJmaWxsUnVsZSI6ICJldmVub2RkIiwgImxpbmVDYXAiOiAicm91bmQiLCAibGluZUpvaW4iOiAicm91bmQiLCAib3BhY2l0eSI6IDEuMCwgInJhZGl1cyI6IDUsICJzdHJva2UiOiB0cnVlLCAid2VpZ2h0IjogM30KICAgICAgICAgICAgKS5hZGRUbyhtYXBfNzY5NTI3MjNjMWVhNGQyYmI1ZTk4MWZkYmMyNDAwMGMpOwogICAgICAgIAogICAgCiAgICAgICAgdmFyIHBvcHVwXzY2YmIyZTk4NTVlZTQ0YmJiODE2ZmY3MzYxOWM1NjUzID0gTC5wb3B1cCh7Im1heFdpZHRoIjogIjEwMCUifSk7CgogICAgICAgIAogICAgICAgICAgICB2YXIgaHRtbF82YTcwMWNjNTgxZDM0MWQ4ODk5Njk0NmM1NWVmMWY1MiA9ICQoYDxkaXYgaWQ9Imh0bWxfNmE3MDFjYzU4MWQzNDFkODg5OTY5NDZjNTVlZjFmNTIiIHN0eWxlPSJ3aWR0aDogMTAwLjAlOyBoZWlnaHQ6IDEwMC4wJTsiPlN0dWRpbyBEaXN0cmljdCwgRWFzdCBUb3JvbnRvPC9kaXY+YClbMF07CiAgICAgICAgICAgIHBvcHVwXzY2YmIyZTk4NTVlZTQ0YmJiODE2ZmY3MzYxOWM1NjUzLnNldENvbnRlbnQoaHRtbF82YTcwMWNjNTgxZDM0MWQ4ODk5Njk0NmM1NWVmMWY1Mik7CiAgICAgICAgCgogICAgICAgIGNpcmNsZV9tYXJrZXJfNzQwNDg3NWI1NGRhNDQxNjkzN2FhMDFkNTY0YTAxNWQuYmluZFBvcHVwKHBvcHVwXzY2YmIyZTk4NTVlZTQ0YmJiODE2ZmY3MzYxOWM1NjUzKQogICAgICAgIDsKCiAgICAgICAgCiAgICAKICAgIAogICAgICAgICAgICB2YXIgY2lyY2xlX21hcmtlcl8xODI4MGVhM2U4NmU0MGM4YTU1ZTAxMmI5NjMyMzBkNiA9IEwuY2lyY2xlTWFya2VyKAogICAgICAgICAgICAgICAgWzQzLjcyODAyMDUsIC03OS4zODg3OTAxXSwKICAgICAgICAgICAgICAgIHsiYnViYmxpbmdNb3VzZUV2ZW50cyI6IHRydWUsICJjb2xvciI6ICJibHVlIiwgImRhc2hBcnJheSI6IG51bGwsICJkYXNoT2Zmc2V0IjogbnVsbCwgImZpbGwiOiB0cnVlLCAiZmlsbENvbG9yIjogIiMzMTg2Y2MiLCAiZmlsbE9wYWNpdHkiOiAwLjcsICJmaWxsUnVsZSI6ICJldmVub2RkIiwgImxpbmVDYXAiOiAicm91bmQiLCAibGluZUpvaW4iOiAicm91bmQiLCAib3BhY2l0eSI6IDEuMCwgInJhZGl1cyI6IDUsICJzdHJva2UiOiB0cnVlLCAid2VpZ2h0IjogM30KICAgICAgICAgICAgKS5hZGRUbyhtYXBfNzY5NTI3MjNjMWVhNGQyYmI1ZTk4MWZkYmMyNDAwMGMpOwogICAgICAgIAogICAgCiAgICAgICAgdmFyIHBvcHVwXzUwOWYzZWU4NWQ5NDRhYzVhMDg2OTBiZDQxMThhNGQ2ID0gTC5wb3B1cCh7Im1heFdpZHRoIjogIjEwMCUifSk7CgogICAgICAgIAogICAgICAgICAgICB2YXIgaHRtbF80ODczZDViODY0NzY0ODRhODU3OGQ2M2Y4NjBjMTAxOCA9ICQoYDxkaXYgaWQ9Imh0bWxfNDg3M2Q1Yjg2NDc2NDg0YTg1NzhkNjNmODYwYzEwMTgiIHN0eWxlPSJ3aWR0aDogMTAwLjAlOyBoZWlnaHQ6IDEwMC4wJTsiPkxhd3JlbmNlIFBhcmssIENlbnRyYWwgVG9yb250bzwvZGl2PmApWzBdOwogICAgICAgICAgICBwb3B1cF81MDlmM2VlODVkOTQ0YWM1YTA4NjkwYmQ0MTE4YTRkNi5zZXRDb250ZW50KGh0bWxfNDg3M2Q1Yjg2NDc2NDg0YTg1NzhkNjNmODYwYzEwMTgpOwogICAgICAgIAoKICAgICAgICBjaXJjbGVfbWFya2VyXzE4MjgwZWEzZTg2ZTQwYzhhNTVlMDEyYjk2MzIzMGQ2LmJpbmRQb3B1cChwb3B1cF81MDlmM2VlODVkOTQ0YWM1YTA4NjkwYmQ0MTE4YTRkNikKICAgICAgICA7CgogICAgICAgIAogICAgCiAgICAKICAgICAgICAgICAgdmFyIGNpcmNsZV9tYXJrZXJfMDI2YjgwZWNmZGM3NDI0ZDk4ZTc2MzgyZTU2MzhhMDEgPSBMLmNpcmNsZU1hcmtlcigKICAgICAgICAgICAgICAgIFs0My43MTE2OTQ4LCAtNzkuNDE2OTM1NTk5OTk5OTldLAogICAgICAgICAgICAgICAgeyJidWJibGluZ01vdXNlRXZlbnRzIjogdHJ1ZSwgImNvbG9yIjogImJsdWUiLCAiZGFzaEFycmF5IjogbnVsbCwgImRhc2hPZmZzZXQiOiBudWxsLCAiZmlsbCI6IHRydWUsICJmaWxsQ29sb3IiOiAiIzMxODZjYyIsICJmaWxsT3BhY2l0eSI6IDAuNywgImZpbGxSdWxlIjogImV2ZW5vZGQiLCAibGluZUNhcCI6ICJyb3VuZCIsICJsaW5lSm9pbiI6ICJyb3VuZCIsICJvcGFjaXR5IjogMS4wLCAicmFkaXVzIjogNSwgInN0cm9rZSI6IHRydWUsICJ3ZWlnaHQiOiAzfQogICAgICAgICAgICApLmFkZFRvKG1hcF83Njk1MjcyM2MxZWE0ZDJiYjVlOTgxZmRiYzI0MDAwYyk7CiAgICAgICAgCiAgICAKICAgICAgICB2YXIgcG9wdXBfZGFkODE3ZTcwYTdiNGRjYjhjYWI2NDBmZWY3YTJhMGQgPSBMLnBvcHVwKHsibWF4V2lkdGgiOiAiMTAwJSJ9KTsKCiAgICAgICAgCiAgICAgICAgICAgIHZhciBodG1sXzlmOGVkZDAwOGJkMzQ5YWE4ZmVhMmFlNjg0YjM4YThiID0gJChgPGRpdiBpZD0iaHRtbF85ZjhlZGQwMDhiZDM0OWFhOGZlYTJhZTY4NGIzOGE4YiIgc3R5bGU9IndpZHRoOiAxMDAuMCU7IGhlaWdodDogMTAwLjAlOyI+Um9zZWxhd24sIENlbnRyYWwgVG9yb250bzwvZGl2PmApWzBdOwogICAgICAgICAgICBwb3B1cF9kYWQ4MTdlNzBhN2I0ZGNiOGNhYjY0MGZlZjdhMmEwZC5zZXRDb250ZW50KGh0bWxfOWY4ZWRkMDA4YmQzNDlhYThmZWEyYWU2ODRiMzhhOGIpOwogICAgICAgIAoKICAgICAgICBjaXJjbGVfbWFya2VyXzAyNmI4MGVjZmRjNzQyNGQ5OGU3NjM4MmU1NjM4YTAxLmJpbmRQb3B1cChwb3B1cF9kYWQ4MTdlNzBhN2I0ZGNiOGNhYjY0MGZlZjdhMmEwZCkKICAgICAgICA7CgogICAgICAgIAogICAgCiAgICAKICAgICAgICAgICAgdmFyIGNpcmNsZV9tYXJrZXJfNTE4NGYxMjEzYmYxNDBkZjkzZmI1ZGE0ZGE1NDg2NjQgPSBMLmNpcmNsZU1hcmtlcigKICAgICAgICAgICAgICAgIFs0My43MTI3NTExLCAtNzkuMzkwMTk3NV0sCiAgICAgICAgICAgICAgICB7ImJ1YmJsaW5nTW91c2VFdmVudHMiOiB0cnVlLCAiY29sb3IiOiAiYmx1ZSIsICJkYXNoQXJyYXkiOiBudWxsLCAiZGFzaE9mZnNldCI6IG51bGwsICJmaWxsIjogdHJ1ZSwgImZpbGxDb2xvciI6ICIjMzE4NmNjIiwgImZpbGxPcGFjaXR5IjogMC43LCAiZmlsbFJ1bGUiOiAiZXZlbm9kZCIsICJsaW5lQ2FwIjogInJvdW5kIiwgImxpbmVKb2luIjogInJvdW5kIiwgIm9wYWNpdHkiOiAxLjAsICJyYWRpdXMiOiA1LCAic3Ryb2tlIjogdHJ1ZSwgIndlaWdodCI6IDN9CiAgICAgICAgICAgICkuYWRkVG8obWFwXzc2OTUyNzIzYzFlYTRkMmJiNWU5ODFmZGJjMjQwMDBjKTsKICAgICAgICAKICAgIAogICAgICAgIHZhciBwb3B1cF8wMDAwYjUyYzg1ZmE0OGEwYTMxMzU1MzYwMzdiNjM4MSA9IEwucG9wdXAoeyJtYXhXaWR0aCI6ICIxMDAlIn0pOwoKICAgICAgICAKICAgICAgICAgICAgdmFyIGh0bWxfZDJlNzZlOTY4YjgyNDdlYjk5NDY2MDNjMmY2YmExYzcgPSAkKGA8ZGl2IGlkPSJodG1sX2QyZTc2ZTk2OGI4MjQ3ZWI5OTQ2NjAzYzJmNmJhMWM3IiBzdHlsZT0id2lkdGg6IDEwMC4wJTsgaGVpZ2h0OiAxMDAuMCU7Ij5EYXZpc3ZpbGxlIE5vcnRoLCBDZW50cmFsIFRvcm9udG88L2Rpdj5gKVswXTsKICAgICAgICAgICAgcG9wdXBfMDAwMGI1MmM4NWZhNDhhMGEzMTM1NTM2MDM3YjYzODEuc2V0Q29udGVudChodG1sX2QyZTc2ZTk2OGI4MjQ3ZWI5OTQ2NjAzYzJmNmJhMWM3KTsKICAgICAgICAKCiAgICAgICAgY2lyY2xlX21hcmtlcl81MTg0ZjEyMTNiZjE0MGRmOTNmYjVkYTRkYTU0ODY2NC5iaW5kUG9wdXAocG9wdXBfMDAwMGI1MmM4NWZhNDhhMGEzMTM1NTM2MDM3YjYzODEpCiAgICAgICAgOwoKICAgICAgICAKICAgIAogICAgCiAgICAgICAgICAgIHZhciBjaXJjbGVfbWFya2VyXzZkNmU5MzU5NzE3ZjQyODBiZTU4YmMwZTk1OWQxMGE5ID0gTC5jaXJjbGVNYXJrZXIoCiAgICAgICAgICAgICAgICBbNDMuNjk2OTQ3NiwgLTc5LjQxMTMwNzIwMDAwMDAxXSwKICAgICAgICAgICAgICAgIHsiYnViYmxpbmdNb3VzZUV2ZW50cyI6IHRydWUsICJjb2xvciI6ICJibHVlIiwgImRhc2hBcnJheSI6IG51bGwsICJkYXNoT2Zmc2V0IjogbnVsbCwgImZpbGwiOiB0cnVlLCAiZmlsbENvbG9yIjogIiMzMTg2Y2MiLCAiZmlsbE9wYWNpdHkiOiAwLjcsICJmaWxsUnVsZSI6ICJldmVub2RkIiwgImxpbmVDYXAiOiAicm91bmQiLCAibGluZUpvaW4iOiAicm91bmQiLCAib3BhY2l0eSI6IDEuMCwgInJhZGl1cyI6IDUsICJzdHJva2UiOiB0cnVlLCAid2VpZ2h0IjogM30KICAgICAgICAgICAgKS5hZGRUbyhtYXBfNzY5NTI3MjNjMWVhNGQyYmI1ZTk4MWZkYmMyNDAwMGMpOwogICAgICAgIAogICAgCiAgICAgICAgdmFyIHBvcHVwXzc2OWMzMzJlNWY5MzQwYmRhOTA4ODBhNGMyYTViZmE4ID0gTC5wb3B1cCh7Im1heFdpZHRoIjogIjEwMCUifSk7CgogICAgICAgIAogICAgICAgICAgICB2YXIgaHRtbF8yYTU0NjdiZWM2M2Q0NjFjOTQ4NDE5OWY5M2U4MzQ5NCA9ICQoYDxkaXYgaWQ9Imh0bWxfMmE1NDY3YmVjNjNkNDYxYzk0ODQxOTlmOTNlODM0OTQiIHN0eWxlPSJ3aWR0aDogMTAwLjAlOyBoZWlnaHQ6IDEwMC4wJTsiPkZvcmVzdCBIaWxsIE5vcnRoICZhbXA7IFdlc3QsIEZvcmVzdCBIaWxsIFJvYWQgUGFyaywgQ2VudHJhbCBUb3JvbnRvPC9kaXY+YClbMF07CiAgICAgICAgICAgIHBvcHVwXzc2OWMzMzJlNWY5MzQwYmRhOTA4ODBhNGMyYTViZmE4LnNldENvbnRlbnQoaHRtbF8yYTU0NjdiZWM2M2Q0NjFjOTQ4NDE5OWY5M2U4MzQ5NCk7CiAgICAgICAgCgogICAgICAgIGNpcmNsZV9tYXJrZXJfNmQ2ZTkzNTk3MTdmNDI4MGJlNThiYzBlOTU5ZDEwYTkuYmluZFBvcHVwKHBvcHVwXzc2OWMzMzJlNWY5MzQwYmRhOTA4ODBhNGMyYTViZmE4KQogICAgICAgIDsKCiAgICAgICAgCiAgICAKICAgIAogICAgICAgICAgICB2YXIgY2lyY2xlX21hcmtlcl8yNzkyYjUzYjI2ZmM0MjlkYmJiNmJhYTZlMzNiNjJkYyA9IEwuY2lyY2xlTWFya2VyKAogICAgICAgICAgICAgICAgWzQzLjY2MTYwODMsIC03OS40NjQ3NjMyOTk5OTk5OV0sCiAgICAgICAgICAgICAgICB7ImJ1YmJsaW5nTW91c2VFdmVudHMiOiB0cnVlLCAiY29sb3IiOiAiYmx1ZSIsICJkYXNoQXJyYXkiOiBudWxsLCAiZGFzaE9mZnNldCI6IG51bGwsICJmaWxsIjogdHJ1ZSwgImZpbGxDb2xvciI6ICIjMzE4NmNjIiwgImZpbGxPcGFjaXR5IjogMC43LCAiZmlsbFJ1bGUiOiAiZXZlbm9kZCIsICJsaW5lQ2FwIjogInJvdW5kIiwgImxpbmVKb2luIjogInJvdW5kIiwgIm9wYWNpdHkiOiAxLjAsICJyYWRpdXMiOiA1LCAic3Ryb2tlIjogdHJ1ZSwgIndlaWdodCI6IDN9CiAgICAgICAgICAgICkuYWRkVG8obWFwXzc2OTUyNzIzYzFlYTRkMmJiNWU5ODFmZGJjMjQwMDBjKTsKICAgICAgICAKICAgIAogICAgICAgIHZhciBwb3B1cF9jNDI2MGJkYmMyOWE0NjFkOGQ2N2VlNjM1NjEyODdhOSA9IEwucG9wdXAoeyJtYXhXaWR0aCI6ICIxMDAlIn0pOwoKICAgICAgICAKICAgICAgICAgICAgdmFyIGh0bWxfNzc3MTc5NjUyYjVmNDRmZDk4MjBhZWY1NjU1YzdkZDkgPSAkKGA8ZGl2IGlkPSJodG1sXzc3NzE3OTY1MmI1ZjQ0ZmQ5ODIwYWVmNTY1NWM3ZGQ5IiBzdHlsZT0id2lkdGg6IDEwMC4wJTsgaGVpZ2h0OiAxMDAuMCU7Ij5IaWdoIFBhcmssIFRoZSBKdW5jdGlvbiBTb3V0aCwgV2VzdCBUb3JvbnRvPC9kaXY+YClbMF07CiAgICAgICAgICAgIHBvcHVwX2M0MjYwYmRiYzI5YTQ2MWQ4ZDY3ZWU2MzU2MTI4N2E5LnNldENvbnRlbnQoaHRtbF83NzcxNzk2NTJiNWY0NGZkOTgyMGFlZjU2NTVjN2RkOSk7CiAgICAgICAgCgogICAgICAgIGNpcmNsZV9tYXJrZXJfMjc5MmI1M2IyNmZjNDI5ZGJiYjZiYWE2ZTMzYjYyZGMuYmluZFBvcHVwKHBvcHVwX2M0MjYwYmRiYzI5YTQ2MWQ4ZDY3ZWU2MzU2MTI4N2E5KQogICAgICAgIDsKCiAgICAgICAgCiAgICAKICAgIAogICAgICAgICAgICB2YXIgY2lyY2xlX21hcmtlcl8xYjg0MDJhOWNhNzA0MWIwOTgzZDA1OTk2ZTYwMzU1NSA9IEwuY2lyY2xlTWFya2VyKAogICAgICAgICAgICAgICAgWzQzLjcxNTM4MzQsIC03OS40MDU2Nzg0MDAwMDAwMV0sCiAgICAgICAgICAgICAgICB7ImJ1YmJsaW5nTW91c2VFdmVudHMiOiB0cnVlLCAiY29sb3IiOiAiYmx1ZSIsICJkYXNoQXJyYXkiOiBudWxsLCAiZGFzaE9mZnNldCI6IG51bGwsICJmaWxsIjogdHJ1ZSwgImZpbGxDb2xvciI6ICIjMzE4NmNjIiwgImZpbGxPcGFjaXR5IjogMC43LCAiZmlsbFJ1bGUiOiAiZXZlbm9kZCIsICJsaW5lQ2FwIjogInJvdW5kIiwgImxpbmVKb2luIjogInJvdW5kIiwgIm9wYWNpdHkiOiAxLjAsICJyYWRpdXMiOiA1LCAic3Ryb2tlIjogdHJ1ZSwgIndlaWdodCI6IDN9CiAgICAgICAgICAgICkuYWRkVG8obWFwXzc2OTUyNzIzYzFlYTRkMmJiNWU5ODFmZGJjMjQwMDBjKTsKICAgICAgICAKICAgIAogICAgICAgIHZhciBwb3B1cF80ZjkxZDNlYjJlNmY0MzQ3Yjg5NjczYWRlYjlhYmJkZCA9IEwucG9wdXAoeyJtYXhXaWR0aCI6ICIxMDAlIn0pOwoKICAgICAgICAKICAgICAgICAgICAgdmFyIGh0bWxfNTY4NzQ0OGI2MWQyNDAzNTg0ZmE1MjViNGE0ZDMwYTIgPSAkKGA8ZGl2IGlkPSJodG1sXzU2ODc0NDhiNjFkMjQwMzU4NGZhNTI1YjRhNGQzMGEyIiBzdHlsZT0id2lkdGg6IDEwMC4wJTsgaGVpZ2h0OiAxMDAuMCU7Ij5Ob3J0aCBUb3JvbnRvIFdlc3QsIExhd3JlbmNlIFBhcmssIENlbnRyYWwgVG9yb250bzwvZGl2PmApWzBdOwogICAgICAgICAgICBwb3B1cF80ZjkxZDNlYjJlNmY0MzQ3Yjg5NjczYWRlYjlhYmJkZC5zZXRDb250ZW50KGh0bWxfNTY4NzQ0OGI2MWQyNDAzNTg0ZmE1MjViNGE0ZDMwYTIpOwogICAgICAgIAoKICAgICAgICBjaXJjbGVfbWFya2VyXzFiODQwMmE5Y2E3MDQxYjA5ODNkMDU5OTZlNjAzNTU1LmJpbmRQb3B1cChwb3B1cF80ZjkxZDNlYjJlNmY0MzQ3Yjg5NjczYWRlYjlhYmJkZCkKICAgICAgICA7CgogICAgICAgIAogICAgCiAgICAKICAgICAgICAgICAgdmFyIGNpcmNsZV9tYXJrZXJfMjE0ZjNiNjg5NzE0NDExYWJmNTEzZjUwMWVlM2YwMzQgPSBMLmNpcmNsZU1hcmtlcigKICAgICAgICAgICAgICAgIFs0My42NzI3MDk3LCAtNzkuNDA1Njc4NDAwMDAwMDFdLAogICAgICAgICAgICAgICAgeyJidWJibGluZ01vdXNlRXZlbnRzIjogdHJ1ZSwgImNvbG9yIjogImJsdWUiLCAiZGFzaEFycmF5IjogbnVsbCwgImRhc2hPZmZzZXQiOiBudWxsLCAiZmlsbCI6IHRydWUsICJmaWxsQ29sb3IiOiAiIzMxODZjYyIsICJmaWxsT3BhY2l0eSI6IDAuNywgImZpbGxSdWxlIjogImV2ZW5vZGQiLCAibGluZUNhcCI6ICJyb3VuZCIsICJsaW5lSm9pbiI6ICJyb3VuZCIsICJvcGFjaXR5IjogMS4wLCAicmFkaXVzIjogNSwgInN0cm9rZSI6IHRydWUsICJ3ZWlnaHQiOiAzfQogICAgICAgICAgICApLmFkZFRvKG1hcF83Njk1MjcyM2MxZWE0ZDJiYjVlOTgxZmRiYzI0MDAwYyk7CiAgICAgICAgCiAgICAKICAgICAgICB2YXIgcG9wdXBfNmFjYjc1MjdmYWRjNDg3NzliMTU1MzdlMzNlMmE0YjYgPSBMLnBvcHVwKHsibWF4V2lkdGgiOiAiMTAwJSJ9KTsKCiAgICAgICAgCiAgICAgICAgICAgIHZhciBodG1sXzY3MDYxNTc5ZGY3ZjQ2ZGM4Y2YwNWJhMTMzOTY0ZWZlID0gJChgPGRpdiBpZD0iaHRtbF82NzA2MTU3OWRmN2Y0NmRjOGNmMDViYTEzMzk2NGVmZSIgc3R5bGU9IndpZHRoOiAxMDAuMCU7IGhlaWdodDogMTAwLjAlOyI+VGhlIEFubmV4LCBOb3J0aCBNaWR0b3duLCBZb3JrdmlsbGUsIENlbnRyYWwgVG9yb250bzwvZGl2PmApWzBdOwogICAgICAgICAgICBwb3B1cF82YWNiNzUyN2ZhZGM0ODc3OWIxNTUzN2UzM2UyYTRiNi5zZXRDb250ZW50KGh0bWxfNjcwNjE1NzlkZjdmNDZkYzhjZjA1YmExMzM5NjRlZmUpOwogICAgICAgIAoKICAgICAgICBjaXJjbGVfbWFya2VyXzIxNGYzYjY4OTcxNDQxMWFiZjUxM2Y1MDFlZTNmMDM0LmJpbmRQb3B1cChwb3B1cF82YWNiNzUyN2ZhZGM0ODc3OWIxNTUzN2UzM2UyYTRiNikKICAgICAgICA7CgogICAgICAgIAogICAgCiAgICAKICAgICAgICAgICAgdmFyIGNpcmNsZV9tYXJrZXJfMDM5YjA4NGQ5ZjlmNGVkNGFkZTE2YzRhZTFhOGMxYTUgPSBMLmNpcmNsZU1hcmtlcigKICAgICAgICAgICAgICAgIFs0My42NDg5NTk3LCAtNzkuNDU2MzI1XSwKICAgICAgICAgICAgICAgIHsiYnViYmxpbmdNb3VzZUV2ZW50cyI6IHRydWUsICJjb2xvciI6ICJibHVlIiwgImRhc2hBcnJheSI6IG51bGwsICJkYXNoT2Zmc2V0IjogbnVsbCwgImZpbGwiOiB0cnVlLCAiZmlsbENvbG9yIjogIiMzMTg2Y2MiLCAiZmlsbE9wYWNpdHkiOiAwLjcsICJmaWxsUnVsZSI6ICJldmVub2RkIiwgImxpbmVDYXAiOiAicm91bmQiLCAibGluZUpvaW4iOiAicm91bmQiLCAib3BhY2l0eSI6IDEuMCwgInJhZGl1cyI6IDUsICJzdHJva2UiOiB0cnVlLCAid2VpZ2h0IjogM30KICAgICAgICAgICAgKS5hZGRUbyhtYXBfNzY5NTI3MjNjMWVhNGQyYmI1ZTk4MWZkYmMyNDAwMGMpOwogICAgICAgIAogICAgCiAgICAgICAgdmFyIHBvcHVwXzY1ODU4NzdlZTExMzRlMjM5MDdjOGY1YzI0NzhiNzYxID0gTC5wb3B1cCh7Im1heFdpZHRoIjogIjEwMCUifSk7CgogICAgICAgIAogICAgICAgICAgICB2YXIgaHRtbF9jM2UxNTRiOGU4ZTk0YWYzOWVhNGJmOWQ0NGYxOTk5OCA9ICQoYDxkaXYgaWQ9Imh0bWxfYzNlMTU0YjhlOGU5NGFmMzllYTRiZjlkNDRmMTk5OTgiIHN0eWxlPSJ3aWR0aDogMTAwLjAlOyBoZWlnaHQ6IDEwMC4wJTsiPlBhcmtkYWxlLCBSb25jZXN2YWxsZXMsIFdlc3QgVG9yb250bzwvZGl2PmApWzBdOwogICAgICAgICAgICBwb3B1cF82NTg1ODc3ZWUxMTM0ZTIzOTA3YzhmNWMyNDc4Yjc2MS5zZXRDb250ZW50KGh0bWxfYzNlMTU0YjhlOGU5NGFmMzllYTRiZjlkNDRmMTk5OTgpOwogICAgICAgIAoKICAgICAgICBjaXJjbGVfbWFya2VyXzAzOWIwODRkOWY5ZjRlZDRhZGUxNmM0YWUxYThjMWE1LmJpbmRQb3B1cChwb3B1cF82NTg1ODc3ZWUxMTM0ZTIzOTA3YzhmNWMyNDc4Yjc2MSkKICAgICAgICA7CgogICAgICAgIAogICAgCiAgICAKICAgICAgICAgICAgdmFyIGNpcmNsZV9tYXJrZXJfMTViOTkxNzRjOWRmNGM4YjhiOTIzMzg5NTU4YTFlNzggPSBMLmNpcmNsZU1hcmtlcigKICAgICAgICAgICAgICAgIFs0My43MDQzMjQ0LCAtNzkuMzg4NzkwMV0sCiAgICAgICAgICAgICAgICB7ImJ1YmJsaW5nTW91c2VFdmVudHMiOiB0cnVlLCAiY29sb3IiOiAiYmx1ZSIsICJkYXNoQXJyYXkiOiBudWxsLCAiZGFzaE9mZnNldCI6IG51bGwsICJmaWxsIjogdHJ1ZSwgImZpbGxDb2xvciI6ICIjMzE4NmNjIiwgImZpbGxPcGFjaXR5IjogMC43LCAiZmlsbFJ1bGUiOiAiZXZlbm9kZCIsICJsaW5lQ2FwIjogInJvdW5kIiwgImxpbmVKb2luIjogInJvdW5kIiwgIm9wYWNpdHkiOiAxLjAsICJyYWRpdXMiOiA1LCAic3Ryb2tlIjogdHJ1ZSwgIndlaWdodCI6IDN9CiAgICAgICAgICAgICkuYWRkVG8obWFwXzc2OTUyNzIzYzFlYTRkMmJiNWU5ODFmZGJjMjQwMDBjKTsKICAgICAgICAKICAgIAogICAgICAgIHZhciBwb3B1cF8zYmRmMjI1N2QzZTU0ZmIxYTU5MDFiMzdiOTRjM2EzNiA9IEwucG9wdXAoeyJtYXhXaWR0aCI6ICIxMDAlIn0pOwoKICAgICAgICAKICAgICAgICAgICAgdmFyIGh0bWxfN2NkMjViMjEyN2JmNGMyM2I0ODhjNGJkMTE3M2QyMTcgPSAkKGA8ZGl2IGlkPSJodG1sXzdjZDI1YjIxMjdiZjRjMjNiNDg4YzRiZDExNzNkMjE3IiBzdHlsZT0id2lkdGg6IDEwMC4wJTsgaGVpZ2h0OiAxMDAuMCU7Ij5EYXZpc3ZpbGxlLCBDZW50cmFsIFRvcm9udG88L2Rpdj5gKVswXTsKICAgICAgICAgICAgcG9wdXBfM2JkZjIyNTdkM2U1NGZiMWE1OTAxYjM3Yjk0YzNhMzYuc2V0Q29udGVudChodG1sXzdjZDI1YjIxMjdiZjRjMjNiNDg4YzRiZDExNzNkMjE3KTsKICAgICAgICAKCiAgICAgICAgY2lyY2xlX21hcmtlcl8xNWI5OTE3NGM5ZGY0YzhiOGI5MjMzODk1NThhMWU3OC5iaW5kUG9wdXAocG9wdXBfM2JkZjIyNTdkM2U1NGZiMWE1OTAxYjM3Yjk0YzNhMzYpCiAgICAgICAgOwoKICAgICAgICAKICAgIAogICAgCiAgICAgICAgICAgIHZhciBjaXJjbGVfbWFya2VyX2Y5NzdiNTZiOWU1ZjQwNGY4MTQ4OGM2MjhlZGJjZDYxID0gTC5jaXJjbGVNYXJrZXIoCiAgICAgICAgICAgICAgICBbNDMuNjYyNjk1NiwgLTc5LjQwMDA0OTNdLAogICAgICAgICAgICAgICAgeyJidWJibGluZ01vdXNlRXZlbnRzIjogdHJ1ZSwgImNvbG9yIjogImJsdWUiLCAiZGFzaEFycmF5IjogbnVsbCwgImRhc2hPZmZzZXQiOiBudWxsLCAiZmlsbCI6IHRydWUsICJmaWxsQ29sb3IiOiAiIzMxODZjYyIsICJmaWxsT3BhY2l0eSI6IDAuNywgImZpbGxSdWxlIjogImV2ZW5vZGQiLCAibGluZUNhcCI6ICJyb3VuZCIsICJsaW5lSm9pbiI6ICJyb3VuZCIsICJvcGFjaXR5IjogMS4wLCAicmFkaXVzIjogNSwgInN0cm9rZSI6IHRydWUsICJ3ZWlnaHQiOiAzfQogICAgICAgICAgICApLmFkZFRvKG1hcF83Njk1MjcyM2MxZWE0ZDJiYjVlOTgxZmRiYzI0MDAwYyk7CiAgICAgICAgCiAgICAKICAgICAgICB2YXIgcG9wdXBfMzUyYzhiMmRjNzgxNDM3MWE3NGI3ODJmODg5NDM3OGQgPSBMLnBvcHVwKHsibWF4V2lkdGgiOiAiMTAwJSJ9KTsKCiAgICAgICAgCiAgICAgICAgICAgIHZhciBodG1sX2ZlODkzYzk0NDU2OTRhZTc5NzcyZGQyNmEyZWY1MGQxID0gJChgPGRpdiBpZD0iaHRtbF9mZTg5M2M5NDQ1Njk0YWU3OTc3MmRkMjZhMmVmNTBkMSIgc3R5bGU9IndpZHRoOiAxMDAuMCU7IGhlaWdodDogMTAwLjAlOyI+VW5pdmVyc2l0eSBvZiBUb3JvbnRvLCBIYXJib3JkLCBEb3dudG93biBUb3JvbnRvPC9kaXY+YClbMF07CiAgICAgICAgICAgIHBvcHVwXzM1MmM4YjJkYzc4MTQzNzFhNzRiNzgyZjg4OTQzNzhkLnNldENvbnRlbnQoaHRtbF9mZTg5M2M5NDQ1Njk0YWU3OTc3MmRkMjZhMmVmNTBkMSk7CiAgICAgICAgCgogICAgICAgIGNpcmNsZV9tYXJrZXJfZjk3N2I1NmI5ZTVmNDA0ZjgxNDg4YzYyOGVkYmNkNjEuYmluZFBvcHVwKHBvcHVwXzM1MmM4YjJkYzc4MTQzNzFhNzRiNzgyZjg4OTQzNzhkKQogICAgICAgIDsKCiAgICAgICAgCiAgICAKICAgIAogICAgICAgICAgICB2YXIgY2lyY2xlX21hcmtlcl85NDFhYTc2YmRjMzU0NDlhODdhODAxZDk0M2UzOGM0YyA9IEwuY2lyY2xlTWFya2VyKAogICAgICAgICAgICAgICAgWzQzLjY1MTU3MDYsIC03OS40ODQ0NDk5XSwKICAgICAgICAgICAgICAgIHsiYnViYmxpbmdNb3VzZUV2ZW50cyI6IHRydWUsICJjb2xvciI6ICJibHVlIiwgImRhc2hBcnJheSI6IG51bGwsICJkYXNoT2Zmc2V0IjogbnVsbCwgImZpbGwiOiB0cnVlLCAiZmlsbENvbG9yIjogIiMzMTg2Y2MiLCAiZmlsbE9wYWNpdHkiOiAwLjcsICJmaWxsUnVsZSI6ICJldmVub2RkIiwgImxpbmVDYXAiOiAicm91bmQiLCAibGluZUpvaW4iOiAicm91bmQiLCAib3BhY2l0eSI6IDEuMCwgInJhZGl1cyI6IDUsICJzdHJva2UiOiB0cnVlLCAid2VpZ2h0IjogM30KICAgICAgICAgICAgKS5hZGRUbyhtYXBfNzY5NTI3MjNjMWVhNGQyYmI1ZTk4MWZkYmMyNDAwMGMpOwogICAgICAgIAogICAgCiAgICAgICAgdmFyIHBvcHVwX2I1NDAyYWJlNGJlZjQ3MzU5Y2M3ZTJmNDEwODEwYmJiID0gTC5wb3B1cCh7Im1heFdpZHRoIjogIjEwMCUifSk7CgogICAgICAgIAogICAgICAgICAgICB2YXIgaHRtbF9mZjM1OGE3ODI5OGM0NGViYWQxN2YyMTkzODkxY2U2NiA9ICQoYDxkaXYgaWQ9Imh0bWxfZmYzNThhNzgyOThjNDRlYmFkMTdmMjE5Mzg5MWNlNjYiIHN0eWxlPSJ3aWR0aDogMTAwLjAlOyBoZWlnaHQ6IDEwMC4wJTsiPlJ1bm55bWVkZSwgU3dhbnNlYSwgV2VzdCBUb3JvbnRvPC9kaXY+YClbMF07CiAgICAgICAgICAgIHBvcHVwX2I1NDAyYWJlNGJlZjQ3MzU5Y2M3ZTJmNDEwODEwYmJiLnNldENvbnRlbnQoaHRtbF9mZjM1OGE3ODI5OGM0NGViYWQxN2YyMTkzODkxY2U2Nik7CiAgICAgICAgCgogICAgICAgIGNpcmNsZV9tYXJrZXJfOTQxYWE3NmJkYzM1NDQ5YTg3YTgwMWQ5NDNlMzhjNGMuYmluZFBvcHVwKHBvcHVwX2I1NDAyYWJlNGJlZjQ3MzU5Y2M3ZTJmNDEwODEwYmJiKQogICAgICAgIDsKCiAgICAgICAgCiAgICAKICAgIAogICAgICAgICAgICB2YXIgY2lyY2xlX21hcmtlcl8xNTIxNmY1ZTE5ZGQ0Yjk4YjVmNmNlZTgyMWFhNzIwMSA9IEwuY2lyY2xlTWFya2VyKAogICAgICAgICAgICAgICAgWzQzLjY4OTU3NDMsIC03OS4zODMxNTk5MDAwMDAwMV0sCiAgICAgICAgICAgICAgICB7ImJ1YmJsaW5nTW91c2VFdmVudHMiOiB0cnVlLCAiY29sb3IiOiAiYmx1ZSIsICJkYXNoQXJyYXkiOiBudWxsLCAiZGFzaE9mZnNldCI6IG51bGwsICJmaWxsIjogdHJ1ZSwgImZpbGxDb2xvciI6ICIjMzE4NmNjIiwgImZpbGxPcGFjaXR5IjogMC43LCAiZmlsbFJ1bGUiOiAiZXZlbm9kZCIsICJsaW5lQ2FwIjogInJvdW5kIiwgImxpbmVKb2luIjogInJvdW5kIiwgIm9wYWNpdHkiOiAxLjAsICJyYWRpdXMiOiA1LCAic3Ryb2tlIjogdHJ1ZSwgIndlaWdodCI6IDN9CiAgICAgICAgICAgICkuYWRkVG8obWFwXzc2OTUyNzIzYzFlYTRkMmJiNWU5ODFmZGJjMjQwMDBjKTsKICAgICAgICAKICAgIAogICAgICAgIHZhciBwb3B1cF83NmUzZTQxYjE3NzE0MmE5OGMyMjFlOTk4OGNmYTgyMyA9IEwucG9wdXAoeyJtYXhXaWR0aCI6ICIxMDAlIn0pOwoKICAgICAgICAKICAgICAgICAgICAgdmFyIGh0bWxfZjc3MGZlZWQyZTQzNDk0OWFkZGM2Y2U4NzRiNGRmMjUgPSAkKGA8ZGl2IGlkPSJodG1sX2Y3NzBmZWVkMmU0MzQ5NDlhZGRjNmNlODc0YjRkZjI1IiBzdHlsZT0id2lkdGg6IDEwMC4wJTsgaGVpZ2h0OiAxMDAuMCU7Ij5Nb29yZSBQYXJrLCBTdW1tZXJoaWxsIEVhc3QsIENlbnRyYWwgVG9yb250bzwvZGl2PmApWzBdOwogICAgICAgICAgICBwb3B1cF83NmUzZTQxYjE3NzE0MmE5OGMyMjFlOTk4OGNmYTgyMy5zZXRDb250ZW50KGh0bWxfZjc3MGZlZWQyZTQzNDk0OWFkZGM2Y2U4NzRiNGRmMjUpOwogICAgICAgIAoKICAgICAgICBjaXJjbGVfbWFya2VyXzE1MjE2ZjVlMTlkZDRiOThiNWY2Y2VlODIxYWE3MjAxLmJpbmRQb3B1cChwb3B1cF83NmUzZTQxYjE3NzE0MmE5OGMyMjFlOTk4OGNmYTgyMykKICAgICAgICA7CgogICAgICAgIAogICAgCiAgICAKICAgICAgICAgICAgdmFyIGNpcmNsZV9tYXJrZXJfMWVjYTMzMGQxMzA4NDJhNjlmODBjNGRkNWU3MmE5YjcgPSBMLmNpcmNsZU1hcmtlcigKICAgICAgICAgICAgICAgIFs0My42NTMyMDU3LCAtNzkuNDAwMDQ5M10sCiAgICAgICAgICAgICAgICB7ImJ1YmJsaW5nTW91c2VFdmVudHMiOiB0cnVlLCAiY29sb3IiOiAiYmx1ZSIsICJkYXNoQXJyYXkiOiBudWxsLCAiZGFzaE9mZnNldCI6IG51bGwsICJmaWxsIjogdHJ1ZSwgImZpbGxDb2xvciI6ICIjMzE4NmNjIiwgImZpbGxPcGFjaXR5IjogMC43LCAiZmlsbFJ1bGUiOiAiZXZlbm9kZCIsICJsaW5lQ2FwIjogInJvdW5kIiwgImxpbmVKb2luIjogInJvdW5kIiwgIm9wYWNpdHkiOiAxLjAsICJyYWRpdXMiOiA1LCAic3Ryb2tlIjogdHJ1ZSwgIndlaWdodCI6IDN9CiAgICAgICAgICAgICkuYWRkVG8obWFwXzc2OTUyNzIzYzFlYTRkMmJiNWU5ODFmZGJjMjQwMDBjKTsKICAgICAgICAKICAgIAogICAgICAgIHZhciBwb3B1cF8wZDljMWFhZWEwN2U0MGY1YjlmODhkY2E3NmI4N2Y2MCA9IEwucG9wdXAoeyJtYXhXaWR0aCI6ICIxMDAlIn0pOwoKICAgICAgICAKICAgICAgICAgICAgdmFyIGh0bWxfNmI5YmI0NGRkMzVmNDIzOGI4MzFkNGU5YzA3NTY5OWEgPSAkKGA8ZGl2IGlkPSJodG1sXzZiOWJiNDRkZDM1ZjQyMzhiODMxZDRlOWMwNzU2OTlhIiBzdHlsZT0id2lkdGg6IDEwMC4wJTsgaGVpZ2h0OiAxMDAuMCU7Ij5LZW5zaW5ndG9uIE1hcmtldCwgQ2hpbmF0b3duLCBHcmFuZ2UgUGFyaywgRG93bnRvd24gVG9yb250bzwvZGl2PmApWzBdOwogICAgICAgICAgICBwb3B1cF8wZDljMWFhZWEwN2U0MGY1YjlmODhkY2E3NmI4N2Y2MC5zZXRDb250ZW50KGh0bWxfNmI5YmI0NGRkMzVmNDIzOGI4MzFkNGU5YzA3NTY5OWEpOwogICAgICAgIAoKICAgICAgICBjaXJjbGVfbWFya2VyXzFlY2EzMzBkMTMwODQyYTY5ZjgwYzRkZDVlNzJhOWI3LmJpbmRQb3B1cChwb3B1cF8wZDljMWFhZWEwN2U0MGY1YjlmODhkY2E3NmI4N2Y2MCkKICAgICAgICA7CgogICAgICAgIAogICAgCiAgICAKICAgICAgICAgICAgdmFyIGNpcmNsZV9tYXJrZXJfMzA5NDdkZTVkZDE5NDA5MDg2MDE0Mjk2Y2FmNTVmMjQgPSBMLmNpcmNsZU1hcmtlcigKICAgICAgICAgICAgICAgIFs0My42ODY0MTIyOTk5OTk5OSwgLTc5LjQwMDA0OTNdLAogICAgICAgICAgICAgICAgeyJidWJibGluZ01vdXNlRXZlbnRzIjogdHJ1ZSwgImNvbG9yIjogImJsdWUiLCAiZGFzaEFycmF5IjogbnVsbCwgImRhc2hPZmZzZXQiOiBudWxsLCAiZmlsbCI6IHRydWUsICJmaWxsQ29sb3IiOiAiIzMxODZjYyIsICJmaWxsT3BhY2l0eSI6IDAuNywgImZpbGxSdWxlIjogImV2ZW5vZGQiLCAibGluZUNhcCI6ICJyb3VuZCIsICJsaW5lSm9pbiI6ICJyb3VuZCIsICJvcGFjaXR5IjogMS4wLCAicmFkaXVzIjogNSwgInN0cm9rZSI6IHRydWUsICJ3ZWlnaHQiOiAzfQogICAgICAgICAgICApLmFkZFRvKG1hcF83Njk1MjcyM2MxZWE0ZDJiYjVlOTgxZmRiYzI0MDAwYyk7CiAgICAgICAgCiAgICAKICAgICAgICB2YXIgcG9wdXBfY2YyOGFiMDZhM2U0NGNjMDg0YzQzZDI1YjhhMGYwNGMgPSBMLnBvcHVwKHsibWF4V2lkdGgiOiAiMTAwJSJ9KTsKCiAgICAgICAgCiAgICAgICAgICAgIHZhciBodG1sXzk4NTkxZWQ2ZDc5MzQ3OTg5OWIwODZmNWFlNjk0NzE1ID0gJChgPGRpdiBpZD0iaHRtbF85ODU5MWVkNmQ3OTM0Nzk4OTliMDg2ZjVhZTY5NDcxNSIgc3R5bGU9IndpZHRoOiAxMDAuMCU7IGhlaWdodDogMTAwLjAlOyI+U3VtbWVyaGlsbCBXZXN0LCBSYXRobmVsbHksIFNvdXRoIEhpbGwsIEZvcmVzdCBIaWxsIFNFLCBEZWVyIFBhcmssIENlbnRyYWwgVG9yb250bzwvZGl2PmApWzBdOwogICAgICAgICAgICBwb3B1cF9jZjI4YWIwNmEzZTQ0Y2MwODRjNDNkMjViOGEwZjA0Yy5zZXRDb250ZW50KGh0bWxfOTg1OTFlZDZkNzkzNDc5ODk5YjA4NmY1YWU2OTQ3MTUpOwogICAgICAgIAoKICAgICAgICBjaXJjbGVfbWFya2VyXzMwOTQ3ZGU1ZGQxOTQwOTA4NjAxNDI5NmNhZjU1ZjI0LmJpbmRQb3B1cChwb3B1cF9jZjI4YWIwNmEzZTQ0Y2MwODRjNDNkMjViOGEwZjA0YykKICAgICAgICA7CgogICAgICAgIAogICAgCiAgICAKICAgICAgICAgICAgdmFyIGNpcmNsZV9tYXJrZXJfNmEwNjBkMTI5MjI5NDY1ZWI4YzZiNzFlYzVlNDg1OTIgPSBMLmNpcmNsZU1hcmtlcigKICAgICAgICAgICAgICAgIFs0My42Mjg5NDY3LCAtNzkuMzk0NDE5OV0sCiAgICAgICAgICAgICAgICB7ImJ1YmJsaW5nTW91c2VFdmVudHMiOiB0cnVlLCAiY29sb3IiOiAiYmx1ZSIsICJkYXNoQXJyYXkiOiBudWxsLCAiZGFzaE9mZnNldCI6IG51bGwsICJmaWxsIjogdHJ1ZSwgImZpbGxDb2xvciI6ICIjMzE4NmNjIiwgImZpbGxPcGFjaXR5IjogMC43LCAiZmlsbFJ1bGUiOiAiZXZlbm9kZCIsICJsaW5lQ2FwIjogInJvdW5kIiwgImxpbmVKb2luIjogInJvdW5kIiwgIm9wYWNpdHkiOiAxLjAsICJyYWRpdXMiOiA1LCAic3Ryb2tlIjogdHJ1ZSwgIndlaWdodCI6IDN9CiAgICAgICAgICAgICkuYWRkVG8obWFwXzc2OTUyNzIzYzFlYTRkMmJiNWU5ODFmZGJjMjQwMDBjKTsKICAgICAgICAKICAgIAogICAgICAgIHZhciBwb3B1cF8zYTlmNjRjNzFjZWU0MzcyYjI4ZmMyM2EwZWVhYzdiZiA9IEwucG9wdXAoeyJtYXhXaWR0aCI6ICIxMDAlIn0pOwoKICAgICAgICAKICAgICAgICAgICAgdmFyIGh0bWxfZmFlOTQ3YmJjZGJlNDk3YmEyZTQzODI4YTZmN2RlNTIgPSAkKGA8ZGl2IGlkPSJodG1sX2ZhZTk0N2JiY2RiZTQ5N2JhMmU0MzgyOGE2ZjdkZTUyIiBzdHlsZT0id2lkdGg6IDEwMC4wJTsgaGVpZ2h0OiAxMDAuMCU7Ij5DTiBUb3dlciwgS2luZyBhbmQgU3BhZGluYSwgUmFpbHdheSBMYW5kcywgSGFyYm91cmZyb250IFdlc3QsIEJhdGh1cnN0IFF1YXksIFNvdXRoIE5pYWdhcmEsIElzbGFuZCBhaXJwb3J0LCBEb3dudG93biBUb3JvbnRvPC9kaXY+YClbMF07CiAgICAgICAgICAgIHBvcHVwXzNhOWY2NGM3MWNlZTQzNzJiMjhmYzIzYTBlZWFjN2JmLnNldENvbnRlbnQoaHRtbF9mYWU5NDdiYmNkYmU0OTdiYTJlNDM4MjhhNmY3ZGU1Mik7CiAgICAgICAgCgogICAgICAgIGNpcmNsZV9tYXJrZXJfNmEwNjBkMTI5MjI5NDY1ZWI4YzZiNzFlYzVlNDg1OTIuYmluZFBvcHVwKHBvcHVwXzNhOWY2NGM3MWNlZTQzNzJiMjhmYzIzYTBlZWFjN2JmKQogICAgICAgIDsKCiAgICAgICAgCiAgICAKICAgIAogICAgICAgICAgICB2YXIgY2lyY2xlX21hcmtlcl85ZDAyMTI4ZTlmMGI0NDcxOTM3ZTJlMmNjNDIxMmI2YiA9IEwuY2lyY2xlTWFya2VyKAogICAgICAgICAgICAgICAgWzQzLjY3OTU2MjYsIC03OS4zNzc1Mjk0MDAwMDAwMV0sCiAgICAgICAgICAgICAgICB7ImJ1YmJsaW5nTW91c2VFdmVudHMiOiB0cnVlLCAiY29sb3IiOiAiYmx1ZSIsICJkYXNoQXJyYXkiOiBudWxsLCAiZGFzaE9mZnNldCI6IG51bGwsICJmaWxsIjogdHJ1ZSwgImZpbGxDb2xvciI6ICIjMzE4NmNjIiwgImZpbGxPcGFjaXR5IjogMC43LCAiZmlsbFJ1bGUiOiAiZXZlbm9kZCIsICJsaW5lQ2FwIjogInJvdW5kIiwgImxpbmVKb2luIjogInJvdW5kIiwgIm9wYWNpdHkiOiAxLjAsICJyYWRpdXMiOiA1LCAic3Ryb2tlIjogdHJ1ZSwgIndlaWdodCI6IDN9CiAgICAgICAgICAgICkuYWRkVG8obWFwXzc2OTUyNzIzYzFlYTRkMmJiNWU5ODFmZGJjMjQwMDBjKTsKICAgICAgICAKICAgIAogICAgICAgIHZhciBwb3B1cF9kYzBmM2NiYzllZjE0ZDljODNiNGE5Mjk4YmI5NDZkMyA9IEwucG9wdXAoeyJtYXhXaWR0aCI6ICIxMDAlIn0pOwoKICAgICAgICAKICAgICAgICAgICAgdmFyIGh0bWxfNzRkYjY2ZmQyNzdjNDA4MzgzOWM1ZjU1ODNmMDUxM2IgPSAkKGA8ZGl2IGlkPSJodG1sXzc0ZGI2NmZkMjc3YzQwODM4MzljNWY1NTgzZjA1MTNiIiBzdHlsZT0id2lkdGg6IDEwMC4wJTsgaGVpZ2h0OiAxMDAuMCU7Ij5Sb3NlZGFsZSwgRG93bnRvd24gVG9yb250bzwvZGl2PmApWzBdOwogICAgICAgICAgICBwb3B1cF9kYzBmM2NiYzllZjE0ZDljODNiNGE5Mjk4YmI5NDZkMy5zZXRDb250ZW50KGh0bWxfNzRkYjY2ZmQyNzdjNDA4MzgzOWM1ZjU1ODNmMDUxM2IpOwogICAgICAgIAoKICAgICAgICBjaXJjbGVfbWFya2VyXzlkMDIxMjhlOWYwYjQ0NzE5MzdlMmUyY2M0MjEyYjZiLmJpbmRQb3B1cChwb3B1cF9kYzBmM2NiYzllZjE0ZDljODNiNGE5Mjk4YmI5NDZkMykKICAgICAgICA7CgogICAgICAgIAogICAgCiAgICAKICAgICAgICAgICAgdmFyIGNpcmNsZV9tYXJrZXJfMTk4ZDdiMWM2OTFhNGQxYzg3YmM1NTkwNzVjNmMwODYgPSBMLmNpcmNsZU1hcmtlcigKICAgICAgICAgICAgICAgIFs0My42NDY0MzUyLCAtNzkuMzc0ODQ1OTk5OTk5OTldLAogICAgICAgICAgICAgICAgeyJidWJibGluZ01vdXNlRXZlbnRzIjogdHJ1ZSwgImNvbG9yIjogImJsdWUiLCAiZGFzaEFycmF5IjogbnVsbCwgImRhc2hPZmZzZXQiOiBudWxsLCAiZmlsbCI6IHRydWUsICJmaWxsQ29sb3IiOiAiIzMxODZjYyIsICJmaWxsT3BhY2l0eSI6IDAuNywgImZpbGxSdWxlIjogImV2ZW5vZGQiLCAibGluZUNhcCI6ICJyb3VuZCIsICJsaW5lSm9pbiI6ICJyb3VuZCIsICJvcGFjaXR5IjogMS4wLCAicmFkaXVzIjogNSwgInN0cm9rZSI6IHRydWUsICJ3ZWlnaHQiOiAzfQogICAgICAgICAgICApLmFkZFRvKG1hcF83Njk1MjcyM2MxZWE0ZDJiYjVlOTgxZmRiYzI0MDAwYyk7CiAgICAgICAgCiAgICAKICAgICAgICB2YXIgcG9wdXBfNDQ2NmI5NmQ1Njg2NDdkOGI2ODA5N2RmZTM0ODA1MGEgPSBMLnBvcHVwKHsibWF4V2lkdGgiOiAiMTAwJSJ9KTsKCiAgICAgICAgCiAgICAgICAgICAgIHZhciBodG1sXzZkZmM1NTM0ZTdiNzQxZjY4MDQzMzhhMTJmOGMwNjlkID0gJChgPGRpdiBpZD0iaHRtbF82ZGZjNTUzNGU3Yjc0MWY2ODA0MzM4YTEyZjhjMDY5ZCIgc3R5bGU9IndpZHRoOiAxMDAuMCU7IGhlaWdodDogMTAwLjAlOyI+U3RuIEEgUE8gQm94ZXMsIERvd250b3duIFRvcm9udG88L2Rpdj5gKVswXTsKICAgICAgICAgICAgcG9wdXBfNDQ2NmI5NmQ1Njg2NDdkOGI2ODA5N2RmZTM0ODA1MGEuc2V0Q29udGVudChodG1sXzZkZmM1NTM0ZTdiNzQxZjY4MDQzMzhhMTJmOGMwNjlkKTsKICAgICAgICAKCiAgICAgICAgY2lyY2xlX21hcmtlcl8xOThkN2IxYzY5MWE0ZDFjODdiYzU1OTA3NWM2YzA4Ni5iaW5kUG9wdXAocG9wdXBfNDQ2NmI5NmQ1Njg2NDdkOGI2ODA5N2RmZTM0ODA1MGEpCiAgICAgICAgOwoKICAgICAgICAKICAgIAogICAgCiAgICAgICAgICAgIHZhciBjaXJjbGVfbWFya2VyXzM1ODU0MDNmOTk4NzRlMGFhMTUzZDk4OGRlMTU2Y2M5ID0gTC5jaXJjbGVNYXJrZXIoCiAgICAgICAgICAgICAgICBbNDMuNjY3OTY3LCAtNzkuMzY3Njc1M10sCiAgICAgICAgICAgICAgICB7ImJ1YmJsaW5nTW91c2VFdmVudHMiOiB0cnVlLCAiY29sb3IiOiAiYmx1ZSIsICJkYXNoQXJyYXkiOiBudWxsLCAiZGFzaE9mZnNldCI6IG51bGwsICJmaWxsIjogdHJ1ZSwgImZpbGxDb2xvciI6ICIjMzE4NmNjIiwgImZpbGxPcGFjaXR5IjogMC43LCAiZmlsbFJ1bGUiOiAiZXZlbm9kZCIsICJsaW5lQ2FwIjogInJvdW5kIiwgImxpbmVKb2luIjogInJvdW5kIiwgIm9wYWNpdHkiOiAxLjAsICJyYWRpdXMiOiA1LCAic3Ryb2tlIjogdHJ1ZSwgIndlaWdodCI6IDN9CiAgICAgICAgICAgICkuYWRkVG8obWFwXzc2OTUyNzIzYzFlYTRkMmJiNWU5ODFmZGJjMjQwMDBjKTsKICAgICAgICAKICAgIAogICAgICAgIHZhciBwb3B1cF8yNWNmZmJmOGM2M2Q0YzU3OWFjNWYwNDZhZGViNmU1YSA9IEwucG9wdXAoeyJtYXhXaWR0aCI6ICIxMDAlIn0pOwoKICAgICAgICAKICAgICAgICAgICAgdmFyIGh0bWxfZjFiM2I5NDg1YTVjNDQ4NDljYjgxOGQ5MDE0YjE1MWEgPSAkKGA8ZGl2IGlkPSJodG1sX2YxYjNiOTQ4NWE1YzQ0ODQ5Y2I4MThkOTAxNGIxNTFhIiBzdHlsZT0id2lkdGg6IDEwMC4wJTsgaGVpZ2h0OiAxMDAuMCU7Ij5TdC4gSmFtZXMgVG93biwgQ2FiYmFnZXRvd24sIERvd250b3duIFRvcm9udG88L2Rpdj5gKVswXTsKICAgICAgICAgICAgcG9wdXBfMjVjZmZiZjhjNjNkNGM1NzlhYzVmMDQ2YWRlYjZlNWEuc2V0Q29udGVudChodG1sX2YxYjNiOTQ4NWE1YzQ0ODQ5Y2I4MThkOTAxNGIxNTFhKTsKICAgICAgICAKCiAgICAgICAgY2lyY2xlX21hcmtlcl8zNTg1NDAzZjk5ODc0ZTBhYTE1M2Q5ODhkZTE1NmNjOS5iaW5kUG9wdXAocG9wdXBfMjVjZmZiZjhjNjNkNGM1NzlhYzVmMDQ2YWRlYjZlNWEpCiAgICAgICAgOwoKICAgICAgICAKICAgIAogICAgCiAgICAgICAgICAgIHZhciBjaXJjbGVfbWFya2VyX2M2NDlhMDZiYzVjNjRmNmU5NGU4NmM0MmI2MzhkNDlmID0gTC5jaXJjbGVNYXJrZXIoCiAgICAgICAgICAgICAgICBbNDMuNjQ4NDI5MiwgLTc5LjM4MjI4MDJdLAogICAgICAgICAgICAgICAgeyJidWJibGluZ01vdXNlRXZlbnRzIjogdHJ1ZSwgImNvbG9yIjogImJsdWUiLCAiZGFzaEFycmF5IjogbnVsbCwgImRhc2hPZmZzZXQiOiBudWxsLCAiZmlsbCI6IHRydWUsICJmaWxsQ29sb3IiOiAiIzMxODZjYyIsICJmaWxsT3BhY2l0eSI6IDAuNywgImZpbGxSdWxlIjogImV2ZW5vZGQiLCAibGluZUNhcCI6ICJyb3VuZCIsICJsaW5lSm9pbiI6ICJyb3VuZCIsICJvcGFjaXR5IjogMS4wLCAicmFkaXVzIjogNSwgInN0cm9rZSI6IHRydWUsICJ3ZWlnaHQiOiAzfQogICAgICAgICAgICApLmFkZFRvKG1hcF83Njk1MjcyM2MxZWE0ZDJiYjVlOTgxZmRiYzI0MDAwYyk7CiAgICAgICAgCiAgICAKICAgICAgICB2YXIgcG9wdXBfZGY3OGU5ZmU5OTE5NDUwMDg3YTQzMjkwM2JjMTY2YWUgPSBMLnBvcHVwKHsibWF4V2lkdGgiOiAiMTAwJSJ9KTsKCiAgICAgICAgCiAgICAgICAgICAgIHZhciBodG1sXzBiYTdlMmE4MTBkNjRmNDE5MmMwNmQyMzYzOWJmNjY4ID0gJChgPGRpdiBpZD0iaHRtbF8wYmE3ZTJhODEwZDY0ZjQxOTJjMDZkMjM2MzliZjY2OCIgc3R5bGU9IndpZHRoOiAxMDAuMCU7IGhlaWdodDogMTAwLjAlOyI+Rmlyc3QgQ2FuYWRpYW4gUGxhY2UsIFVuZGVyZ3JvdW5kIGNpdHksIERvd250b3duIFRvcm9udG88L2Rpdj5gKVswXTsKICAgICAgICAgICAgcG9wdXBfZGY3OGU5ZmU5OTE5NDUwMDg3YTQzMjkwM2JjMTY2YWUuc2V0Q29udGVudChodG1sXzBiYTdlMmE4MTBkNjRmNDE5MmMwNmQyMzYzOWJmNjY4KTsKICAgICAgICAKCiAgICAgICAgY2lyY2xlX21hcmtlcl9jNjQ5YTA2YmM1YzY0ZjZlOTRlODZjNDJiNjM4ZDQ5Zi5iaW5kUG9wdXAocG9wdXBfZGY3OGU5ZmU5OTE5NDUwMDg3YTQzMjkwM2JjMTY2YWUpCiAgICAgICAgOwoKICAgICAgICAKICAgIAogICAgCiAgICAgICAgICAgIHZhciBjaXJjbGVfbWFya2VyXzllNDJkYTA5MDVjZDQxYmE4MzI0NjhjMTRjNDlkZDIwID0gTC5jaXJjbGVNYXJrZXIoCiAgICAgICAgICAgICAgICBbNDMuNjY1ODU5OSwgLTc5LjM4MzE1OTkwMDAwMDAxXSwKICAgICAgICAgICAgICAgIHsiYnViYmxpbmdNb3VzZUV2ZW50cyI6IHRydWUsICJjb2xvciI6ICJibHVlIiwgImRhc2hBcnJheSI6IG51bGwsICJkYXNoT2Zmc2V0IjogbnVsbCwgImZpbGwiOiB0cnVlLCAiZmlsbENvbG9yIjogIiMzMTg2Y2MiLCAiZmlsbE9wYWNpdHkiOiAwLjcsICJmaWxsUnVsZSI6ICJldmVub2RkIiwgImxpbmVDYXAiOiAicm91bmQiLCAibGluZUpvaW4iOiAicm91bmQiLCAib3BhY2l0eSI6IDEuMCwgInJhZGl1cyI6IDUsICJzdHJva2UiOiB0cnVlLCAid2VpZ2h0IjogM30KICAgICAgICAgICAgKS5hZGRUbyhtYXBfNzY5NTI3MjNjMWVhNGQyYmI1ZTk4MWZkYmMyNDAwMGMpOwogICAgICAgIAogICAgCiAgICAgICAgdmFyIHBvcHVwXzlhN2Y2MGExNWFlMTQ3ZWI5MWU4MDI0ODY4ZGFjMTM2ID0gTC5wb3B1cCh7Im1heFdpZHRoIjogIjEwMCUifSk7CgogICAgICAgIAogICAgICAgICAgICB2YXIgaHRtbF85MDUyNjliZmI4NWE0MmFkODExZmU5MDAwMTVjZDllNiA9ICQoYDxkaXYgaWQ9Imh0bWxfOTA1MjY5YmZiODVhNDJhZDgxMWZlOTAwMDE1Y2Q5ZTYiIHN0eWxlPSJ3aWR0aDogMTAwLjAlOyBoZWlnaHQ6IDEwMC4wJTsiPkNodXJjaCBhbmQgV2VsbGVzbGV5LCBEb3dudG93biBUb3JvbnRvPC9kaXY+YClbMF07CiAgICAgICAgICAgIHBvcHVwXzlhN2Y2MGExNWFlMTQ3ZWI5MWU4MDI0ODY4ZGFjMTM2LnNldENvbnRlbnQoaHRtbF85MDUyNjliZmI4NWE0MmFkODExZmU5MDAwMTVjZDllNik7CiAgICAgICAgCgogICAgICAgIGNpcmNsZV9tYXJrZXJfOWU0MmRhMDkwNWNkNDFiYTgzMjQ2OGMxNGM0OWRkMjAuYmluZFBvcHVwKHBvcHVwXzlhN2Y2MGExNWFlMTQ3ZWI5MWU4MDI0ODY4ZGFjMTM2KQogICAgICAgIDsKCiAgICAgICAgCiAgICAKICAgIAogICAgICAgICAgICB2YXIgY2lyY2xlX21hcmtlcl9jODFiYzIzMjQyM2E0ODY1OWU5NDM1NDk5OTE5YjBmMCA9IEwuY2lyY2xlTWFya2VyKAogICAgICAgICAgICAgICAgWzQzLjY2Mjc0MzksIC03OS4zMjE1NThdLAogICAgICAgICAgICAgICAgeyJidWJibGluZ01vdXNlRXZlbnRzIjogdHJ1ZSwgImNvbG9yIjogImJsdWUiLCAiZGFzaEFycmF5IjogbnVsbCwgImRhc2hPZmZzZXQiOiBudWxsLCAiZmlsbCI6IHRydWUsICJmaWxsQ29sb3IiOiAiIzMxODZjYyIsICJmaWxsT3BhY2l0eSI6IDAuNywgImZpbGxSdWxlIjogImV2ZW5vZGQiLCAibGluZUNhcCI6ICJyb3VuZCIsICJsaW5lSm9pbiI6ICJyb3VuZCIsICJvcGFjaXR5IjogMS4wLCAicmFkaXVzIjogNSwgInN0cm9rZSI6IHRydWUsICJ3ZWlnaHQiOiAzfQogICAgICAgICAgICApLmFkZFRvKG1hcF83Njk1MjcyM2MxZWE0ZDJiYjVlOTgxZmRiYzI0MDAwYyk7CiAgICAgICAgCiAgICAKICAgICAgICB2YXIgcG9wdXBfYzg5MzM2NTE1ZmY1NGM0Zjk2MGQ3OWJkMWExOWMxNDAgPSBMLnBvcHVwKHsibWF4V2lkdGgiOiAiMTAwJSJ9KTsKCiAgICAgICAgCiAgICAgICAgICAgIHZhciBodG1sXzllNDI0YWJkNmY5NDRhMDI5ZTQ5Y2FjOGNlZmQ2ZjliID0gJChgPGRpdiBpZD0iaHRtbF85ZTQyNGFiZDZmOTQ0YTAyOWU0OWNhYzhjZWZkNmY5YiIgc3R5bGU9IndpZHRoOiAxMDAuMCU7IGhlaWdodDogMTAwLjAlOyI+QnVzaW5lc3MgcmVwbHkgbWFpbCBQcm9jZXNzaW5nIENlbnRyZSwgU291dGggQ2VudHJhbCBMZXR0ZXIgUHJvY2Vzc2luZyBQbGFudCBUb3JvbnRvLCBFYXN0IFRvcm9udG88L2Rpdj5gKVswXTsKICAgICAgICAgICAgcG9wdXBfYzg5MzM2NTE1ZmY1NGM0Zjk2MGQ3OWJkMWExOWMxNDAuc2V0Q29udGVudChodG1sXzllNDI0YWJkNmY5NDRhMDI5ZTQ5Y2FjOGNlZmQ2ZjliKTsKICAgICAgICAKCiAgICAgICAgY2lyY2xlX21hcmtlcl9jODFiYzIzMjQyM2E0ODY1OWU5NDM1NDk5OTE5YjBmMC5iaW5kUG9wdXAocG9wdXBfYzg5MzM2NTE1ZmY1NGM0Zjk2MGQ3OWJkMWExOWMxNDApCiAgICAgICAgOwoKICAgICAgICAKICAgIAo8L3NjcmlwdD4= onload=\"this.contentDocument.open();this.contentDocument.write(atob(this.getAttribute('data-html')));this.contentDocument.close();\" allowfullscreen webkitallowfullscreen mozallowfullscreen></iframe></div></div>"
      ],
      "text/plain": [
       "<folium.folium.Map at 0x2a86e9ccac8>"
      ]
     },
     "execution_count": 15,
     "metadata": {},
     "output_type": "execute_result"
    }
   ],
   "source": [
    "# create map of New York using latitude and longitude values\n",
    "map_newyork = folium.Map(location=[latitude, longitude], zoom_start=11)\n",
    "\n",
    "# add markers to map\n",
    "for lat, lng, borough, neighborhood in zip(df_Toronto['Latitude'], \n",
    "                                           df_Toronto['Longitude'], df_Toronto['Borough'], df_Toronto['Neighborhood']):\n",
    "    label = '{}, {}'.format(neighborhood, borough)\n",
    "    label = folium.Popup(label, parse_html=True)\n",
    "    folium.CircleMarker(\n",
    "        [lat, lng],\n",
    "        radius=5,\n",
    "        popup=label,\n",
    "        color='blue',\n",
    "        fill=True,\n",
    "        fill_color='#3186cc',\n",
    "        fill_opacity=0.7,\n",
    "        parse_html=False).add_to(map_newyork)  \n",
    "    \n",
    "map_newyork"
   ]
  },
  {
   "cell_type": "markdown",
   "metadata": {},
   "source": [
    "Since Folium was used to generate the map, it was verified that the map does not appear on Github. So the map will be willing as follow.\n",
    "\n",
    "![Selected Neighborhoods](Neighborhoods_selected.png)"
   ]
  },
  {
   "cell_type": "markdown",
   "metadata": {},
   "source": [
    "Defining Foursquare Credentials and Version"
   ]
  },
  {
   "cell_type": "code",
   "execution_count": 16,
   "metadata": {},
   "outputs": [],
   "source": [
    "CLIENT_ID = 'DJRZXO3LNK3CFTC45R4Y100OKQLV010RFO455LMWYUQBWDKN' # your Foursquare ID\n",
    "CLIENT_SECRET = 'U2D1AD452QTRPENFVKJCYQW15BVSJGLKAXYZ4VNTSTRPF4ZW' # your Foursquare Secret\n",
    "VERSION = '20180605' # Foursquare API version\n",
    "\n"
   ]
  },
  {
   "cell_type": "markdown",
   "metadata": {},
   "source": [
    "Defining a function to explore de venues in all the neighborhoods selected in Toronto"
   ]
  },
  {
   "cell_type": "code",
   "execution_count": 17,
   "metadata": {},
   "outputs": [],
   "source": [
    "def getNearbyVenues(names, latitudes, longitudes, radius=500):\n",
    "    \n",
    "    venues_list=[]\n",
    "    for name, lat, lng in zip(names, latitudes, longitudes):\n",
    "        #print(name)\n",
    "            \n",
    "        # create the API request URL\n",
    "        url = 'https://api.foursquare.com/v2/venues/explore?&client_id={}&client_secret={}&v={}&ll={},{}&radius={}&limit={}'.format(\n",
    "            CLIENT_ID, \n",
    "            CLIENT_SECRET, \n",
    "            VERSION, \n",
    "            lat, \n",
    "            lng, \n",
    "            radius, \n",
    "            LIMIT)\n",
    "            \n",
    "        # make the GET request\n",
    "        results = requests.get(url).json()[\"response\"]['groups'][0]['items']\n",
    "        \n",
    "        # return only relevant information for each nearby venue\n",
    "        venues_list.append([(\n",
    "            name, \n",
    "            lat, \n",
    "            lng, \n",
    "            v['venue']['name'], \n",
    "            v['venue']['location']['lat'], \n",
    "            v['venue']['location']['lng'],  \n",
    "            v['venue']['categories'][0]['name']) for v in results])\n",
    "\n",
    "    nearby_venues = pd.DataFrame([item for venue_list in venues_list for item in venue_list])\n",
    "    nearby_venues.columns = ['Neighborhood', \n",
    "                  'Neighborhood Latitude', \n",
    "                  'Neighborhood Longitude', \n",
    "                  'Venue', \n",
    "                  'Venue Latitude', \n",
    "                  'Venue Longitude', \n",
    "                  'Venue Category']\n",
    "    \n",
    "    return(nearby_venues)"
   ]
  },
  {
   "cell_type": "markdown",
   "metadata": {},
   "source": [
    "Runing the above function on each neighborhood, with limit = 50 and radius = 500"
   ]
  },
  {
   "cell_type": "code",
   "execution_count": 18,
   "metadata": {},
   "outputs": [],
   "source": [
    "LIMIT = 50\n",
    "radius = 500\n",
    "\n",
    "toronto_venues = getNearbyVenues(names=df_Toronto['Neighborhood'],\n",
    "                                   latitudes=df_Toronto['Latitude'],\n",
    "                                   longitudes=df_Toronto['Longitude']\n",
    "                                  )"
   ]
  },
  {
   "cell_type": "code",
   "execution_count": 19,
   "metadata": {},
   "outputs": [
    {
     "name": "stdout",
     "output_type": "stream",
     "text": [
      "Sixe of the resulting dataframe:  (1190, 7)\n"
     ]
    },
    {
     "data": {
      "text/html": [
       "<div>\n",
       "<style scoped>\n",
       "    .dataframe tbody tr th:only-of-type {\n",
       "        vertical-align: middle;\n",
       "    }\n",
       "\n",
       "    .dataframe tbody tr th {\n",
       "        vertical-align: top;\n",
       "    }\n",
       "\n",
       "    .dataframe thead th {\n",
       "        text-align: right;\n",
       "    }\n",
       "</style>\n",
       "<table border=\"1\" class=\"dataframe\">\n",
       "  <thead>\n",
       "    <tr style=\"text-align: right;\">\n",
       "      <th></th>\n",
       "      <th>Neighborhood</th>\n",
       "      <th>Neighborhood Latitude</th>\n",
       "      <th>Neighborhood Longitude</th>\n",
       "      <th>Venue</th>\n",
       "      <th>Venue Latitude</th>\n",
       "      <th>Venue Longitude</th>\n",
       "      <th>Venue Category</th>\n",
       "    </tr>\n",
       "  </thead>\n",
       "  <tbody>\n",
       "    <tr>\n",
       "      <th>0</th>\n",
       "      <td>Regent Park, Harbourfront</td>\n",
       "      <td>43.65426</td>\n",
       "      <td>-79.360636</td>\n",
       "      <td>Roselle Desserts</td>\n",
       "      <td>43.653447</td>\n",
       "      <td>-79.362017</td>\n",
       "      <td>Bakery</td>\n",
       "    </tr>\n",
       "    <tr>\n",
       "      <th>1</th>\n",
       "      <td>Regent Park, Harbourfront</td>\n",
       "      <td>43.65426</td>\n",
       "      <td>-79.360636</td>\n",
       "      <td>Tandem Coffee</td>\n",
       "      <td>43.653559</td>\n",
       "      <td>-79.361809</td>\n",
       "      <td>Coffee Shop</td>\n",
       "    </tr>\n",
       "    <tr>\n",
       "      <th>2</th>\n",
       "      <td>Regent Park, Harbourfront</td>\n",
       "      <td>43.65426</td>\n",
       "      <td>-79.360636</td>\n",
       "      <td>Morning Glory Cafe</td>\n",
       "      <td>43.653947</td>\n",
       "      <td>-79.361149</td>\n",
       "      <td>Breakfast Spot</td>\n",
       "    </tr>\n",
       "    <tr>\n",
       "      <th>3</th>\n",
       "      <td>Regent Park, Harbourfront</td>\n",
       "      <td>43.65426</td>\n",
       "      <td>-79.360636</td>\n",
       "      <td>Cooper Koo Family YMCA</td>\n",
       "      <td>43.653249</td>\n",
       "      <td>-79.358008</td>\n",
       "      <td>Distribution Center</td>\n",
       "    </tr>\n",
       "    <tr>\n",
       "      <th>4</th>\n",
       "      <td>Regent Park, Harbourfront</td>\n",
       "      <td>43.65426</td>\n",
       "      <td>-79.360636</td>\n",
       "      <td>Body Blitz Spa East</td>\n",
       "      <td>43.654735</td>\n",
       "      <td>-79.359874</td>\n",
       "      <td>Spa</td>\n",
       "    </tr>\n",
       "  </tbody>\n",
       "</table>\n",
       "</div>"
      ],
      "text/plain": [
       "                Neighborhood  Neighborhood Latitude  Neighborhood Longitude  \\\n",
       "0  Regent Park, Harbourfront               43.65426              -79.360636   \n",
       "1  Regent Park, Harbourfront               43.65426              -79.360636   \n",
       "2  Regent Park, Harbourfront               43.65426              -79.360636   \n",
       "3  Regent Park, Harbourfront               43.65426              -79.360636   \n",
       "4  Regent Park, Harbourfront               43.65426              -79.360636   \n",
       "\n",
       "                    Venue  Venue Latitude  Venue Longitude  \\\n",
       "0        Roselle Desserts       43.653447       -79.362017   \n",
       "1           Tandem Coffee       43.653559       -79.361809   \n",
       "2      Morning Glory Cafe       43.653947       -79.361149   \n",
       "3  Cooper Koo Family YMCA       43.653249       -79.358008   \n",
       "4     Body Blitz Spa East       43.654735       -79.359874   \n",
       "\n",
       "        Venue Category  \n",
       "0               Bakery  \n",
       "1          Coffee Shop  \n",
       "2       Breakfast Spot  \n",
       "3  Distribution Center  \n",
       "4                  Spa  "
      ]
     },
     "execution_count": 19,
     "metadata": {},
     "output_type": "execute_result"
    }
   ],
   "source": [
    "print(\"Sixe of the resulting dataframe: \", toronto_venues.shape)\n",
    "toronto_venues.head()"
   ]
  },
  {
   "cell_type": "markdown",
   "metadata": {},
   "source": [
    "Let's check how many venues returned for each neighborhood"
   ]
  },
  {
   "cell_type": "code",
   "execution_count": 84,
   "metadata": {
    "scrolled": true
   },
   "outputs": [
    {
     "data": {
      "text/html": [
       "<div>\n",
       "<style scoped>\n",
       "    .dataframe tbody tr th:only-of-type {\n",
       "        vertical-align: middle;\n",
       "    }\n",
       "\n",
       "    .dataframe tbody tr th {\n",
       "        vertical-align: top;\n",
       "    }\n",
       "\n",
       "    .dataframe thead th {\n",
       "        text-align: right;\n",
       "    }\n",
       "</style>\n",
       "<table border=\"1\" class=\"dataframe\">\n",
       "  <thead>\n",
       "    <tr style=\"text-align: right;\">\n",
       "      <th></th>\n",
       "      <th>Neighborhood Latitude</th>\n",
       "      <th>Neighborhood Longitude</th>\n",
       "      <th>Venue</th>\n",
       "      <th>Venue Latitude</th>\n",
       "      <th>Venue Longitude</th>\n",
       "      <th>Venue Category</th>\n",
       "    </tr>\n",
       "    <tr>\n",
       "      <th>Neighborhood</th>\n",
       "      <th></th>\n",
       "      <th></th>\n",
       "      <th></th>\n",
       "      <th></th>\n",
       "      <th></th>\n",
       "      <th></th>\n",
       "    </tr>\n",
       "  </thead>\n",
       "  <tbody>\n",
       "    <tr>\n",
       "      <th>Berczy Park</th>\n",
       "      <td>50</td>\n",
       "      <td>50</td>\n",
       "      <td>50</td>\n",
       "      <td>50</td>\n",
       "      <td>50</td>\n",
       "      <td>50</td>\n",
       "    </tr>\n",
       "    <tr>\n",
       "      <th>Brockton, Parkdale Village, Exhibition Place</th>\n",
       "      <td>23</td>\n",
       "      <td>23</td>\n",
       "      <td>23</td>\n",
       "      <td>23</td>\n",
       "      <td>23</td>\n",
       "      <td>23</td>\n",
       "    </tr>\n",
       "    <tr>\n",
       "      <th>Business reply mail Processing Centre, South Central Letter Processing Plant Toronto</th>\n",
       "      <td>17</td>\n",
       "      <td>17</td>\n",
       "      <td>17</td>\n",
       "      <td>17</td>\n",
       "      <td>17</td>\n",
       "      <td>17</td>\n",
       "    </tr>\n",
       "    <tr>\n",
       "      <th>CN Tower, King and Spadina, Railway Lands, Harbourfront West, Bathurst Quay, South Niagara, Island airport</th>\n",
       "      <td>15</td>\n",
       "      <td>15</td>\n",
       "      <td>15</td>\n",
       "      <td>15</td>\n",
       "      <td>15</td>\n",
       "      <td>15</td>\n",
       "    </tr>\n",
       "    <tr>\n",
       "      <th>Central Bay Street</th>\n",
       "      <td>50</td>\n",
       "      <td>50</td>\n",
       "      <td>50</td>\n",
       "      <td>50</td>\n",
       "      <td>50</td>\n",
       "      <td>50</td>\n",
       "    </tr>\n",
       "  </tbody>\n",
       "</table>\n",
       "</div>"
      ],
      "text/plain": [
       "                                                    Neighborhood Latitude  \\\n",
       "Neighborhood                                                                \n",
       "Berczy Park                                                            50   \n",
       "Brockton, Parkdale Village, Exhibition Place                           23   \n",
       "Business reply mail Processing Centre, South Ce...                     17   \n",
       "CN Tower, King and Spadina, Railway Lands, Harb...                     15   \n",
       "Central Bay Street                                                     50   \n",
       "\n",
       "                                                    Neighborhood Longitude  \\\n",
       "Neighborhood                                                                 \n",
       "Berczy Park                                                             50   \n",
       "Brockton, Parkdale Village, Exhibition Place                            23   \n",
       "Business reply mail Processing Centre, South Ce...                      17   \n",
       "CN Tower, King and Spadina, Railway Lands, Harb...                      15   \n",
       "Central Bay Street                                                      50   \n",
       "\n",
       "                                                    Venue  Venue Latitude  \\\n",
       "Neighborhood                                                                \n",
       "Berczy Park                                            50              50   \n",
       "Brockton, Parkdale Village, Exhibition Place           23              23   \n",
       "Business reply mail Processing Centre, South Ce...     17              17   \n",
       "CN Tower, King and Spadina, Railway Lands, Harb...     15              15   \n",
       "Central Bay Street                                     50              50   \n",
       "\n",
       "                                                    Venue Longitude  \\\n",
       "Neighborhood                                                          \n",
       "Berczy Park                                                      50   \n",
       "Brockton, Parkdale Village, Exhibition Place                     23   \n",
       "Business reply mail Processing Centre, South Ce...               17   \n",
       "CN Tower, King and Spadina, Railway Lands, Harb...               15   \n",
       "Central Bay Street                                               50   \n",
       "\n",
       "                                                    Venue Category  \n",
       "Neighborhood                                                        \n",
       "Berczy Park                                                     50  \n",
       "Brockton, Parkdale Village, Exhibition Place                    23  \n",
       "Business reply mail Processing Centre, South Ce...              17  \n",
       "CN Tower, King and Spadina, Railway Lands, Harb...              15  \n",
       "Central Bay Street                                              50  "
      ]
     },
     "execution_count": 84,
     "metadata": {},
     "output_type": "execute_result"
    }
   ],
   "source": [
    "toronto_venues.groupby('Neighborhood').count().head()"
   ]
  },
  {
   "cell_type": "markdown",
   "metadata": {},
   "source": [
    "Finding out how many unique categories can be curated from all the returned venues"
   ]
  },
  {
   "cell_type": "code",
   "execution_count": 21,
   "metadata": {},
   "outputs": [
    {
     "name": "stdout",
     "output_type": "stream",
     "text": [
      "There are 224 uniques categories.\n"
     ]
    }
   ],
   "source": [
    "print('There are {} uniques categories.'.format(len(toronto_venues['Venue Category'].unique())))"
   ]
  },
  {
   "cell_type": "markdown",
   "metadata": {},
   "source": [
    "Analyzing each Neighborhood"
   ]
  },
  {
   "cell_type": "code",
   "execution_count": 22,
   "metadata": {},
   "outputs": [
    {
     "data": {
      "text/html": [
       "<div>\n",
       "<style scoped>\n",
       "    .dataframe tbody tr th:only-of-type {\n",
       "        vertical-align: middle;\n",
       "    }\n",
       "\n",
       "    .dataframe tbody tr th {\n",
       "        vertical-align: top;\n",
       "    }\n",
       "\n",
       "    .dataframe thead th {\n",
       "        text-align: right;\n",
       "    }\n",
       "</style>\n",
       "<table border=\"1\" class=\"dataframe\">\n",
       "  <thead>\n",
       "    <tr style=\"text-align: right;\">\n",
       "      <th></th>\n",
       "      <th>Yoga Studio</th>\n",
       "      <th>Airport</th>\n",
       "      <th>Airport Food Court</th>\n",
       "      <th>Airport Gate</th>\n",
       "      <th>Airport Lounge</th>\n",
       "      <th>Airport Service</th>\n",
       "      <th>Airport Terminal</th>\n",
       "      <th>American Restaurant</th>\n",
       "      <th>Antique Shop</th>\n",
       "      <th>Aquarium</th>\n",
       "      <th>...</th>\n",
       "      <th>Toy / Game Store</th>\n",
       "      <th>Trail</th>\n",
       "      <th>Train Station</th>\n",
       "      <th>Transportation Service</th>\n",
       "      <th>Vegetarian / Vegan Restaurant</th>\n",
       "      <th>Video Game Store</th>\n",
       "      <th>Vietnamese Restaurant</th>\n",
       "      <th>Wine Bar</th>\n",
       "      <th>Wine Shop</th>\n",
       "      <th>Wings Joint</th>\n",
       "    </tr>\n",
       "  </thead>\n",
       "  <tbody>\n",
       "    <tr>\n",
       "      <th>0</th>\n",
       "      <td>0</td>\n",
       "      <td>0</td>\n",
       "      <td>0</td>\n",
       "      <td>0</td>\n",
       "      <td>0</td>\n",
       "      <td>0</td>\n",
       "      <td>0</td>\n",
       "      <td>0</td>\n",
       "      <td>0</td>\n",
       "      <td>0</td>\n",
       "      <td>...</td>\n",
       "      <td>0</td>\n",
       "      <td>0</td>\n",
       "      <td>0</td>\n",
       "      <td>0</td>\n",
       "      <td>0</td>\n",
       "      <td>0</td>\n",
       "      <td>0</td>\n",
       "      <td>0</td>\n",
       "      <td>0</td>\n",
       "      <td>0</td>\n",
       "    </tr>\n",
       "    <tr>\n",
       "      <th>1</th>\n",
       "      <td>0</td>\n",
       "      <td>0</td>\n",
       "      <td>0</td>\n",
       "      <td>0</td>\n",
       "      <td>0</td>\n",
       "      <td>0</td>\n",
       "      <td>0</td>\n",
       "      <td>0</td>\n",
       "      <td>0</td>\n",
       "      <td>0</td>\n",
       "      <td>...</td>\n",
       "      <td>0</td>\n",
       "      <td>0</td>\n",
       "      <td>0</td>\n",
       "      <td>0</td>\n",
       "      <td>0</td>\n",
       "      <td>0</td>\n",
       "      <td>0</td>\n",
       "      <td>0</td>\n",
       "      <td>0</td>\n",
       "      <td>0</td>\n",
       "    </tr>\n",
       "    <tr>\n",
       "      <th>2</th>\n",
       "      <td>0</td>\n",
       "      <td>0</td>\n",
       "      <td>0</td>\n",
       "      <td>0</td>\n",
       "      <td>0</td>\n",
       "      <td>0</td>\n",
       "      <td>0</td>\n",
       "      <td>0</td>\n",
       "      <td>0</td>\n",
       "      <td>0</td>\n",
       "      <td>...</td>\n",
       "      <td>0</td>\n",
       "      <td>0</td>\n",
       "      <td>0</td>\n",
       "      <td>0</td>\n",
       "      <td>0</td>\n",
       "      <td>0</td>\n",
       "      <td>0</td>\n",
       "      <td>0</td>\n",
       "      <td>0</td>\n",
       "      <td>0</td>\n",
       "    </tr>\n",
       "    <tr>\n",
       "      <th>3</th>\n",
       "      <td>0</td>\n",
       "      <td>0</td>\n",
       "      <td>0</td>\n",
       "      <td>0</td>\n",
       "      <td>0</td>\n",
       "      <td>0</td>\n",
       "      <td>0</td>\n",
       "      <td>0</td>\n",
       "      <td>0</td>\n",
       "      <td>0</td>\n",
       "      <td>...</td>\n",
       "      <td>0</td>\n",
       "      <td>0</td>\n",
       "      <td>0</td>\n",
       "      <td>0</td>\n",
       "      <td>0</td>\n",
       "      <td>0</td>\n",
       "      <td>0</td>\n",
       "      <td>0</td>\n",
       "      <td>0</td>\n",
       "      <td>0</td>\n",
       "    </tr>\n",
       "    <tr>\n",
       "      <th>4</th>\n",
       "      <td>0</td>\n",
       "      <td>0</td>\n",
       "      <td>0</td>\n",
       "      <td>0</td>\n",
       "      <td>0</td>\n",
       "      <td>0</td>\n",
       "      <td>0</td>\n",
       "      <td>0</td>\n",
       "      <td>0</td>\n",
       "      <td>0</td>\n",
       "      <td>...</td>\n",
       "      <td>0</td>\n",
       "      <td>0</td>\n",
       "      <td>0</td>\n",
       "      <td>0</td>\n",
       "      <td>0</td>\n",
       "      <td>0</td>\n",
       "      <td>0</td>\n",
       "      <td>0</td>\n",
       "      <td>0</td>\n",
       "      <td>0</td>\n",
       "    </tr>\n",
       "  </tbody>\n",
       "</table>\n",
       "<p>5 rows × 224 columns</p>\n",
       "</div>"
      ],
      "text/plain": [
       "   Yoga Studio  Airport  Airport Food Court  Airport Gate  Airport Lounge  \\\n",
       "0            0        0                   0             0               0   \n",
       "1            0        0                   0             0               0   \n",
       "2            0        0                   0             0               0   \n",
       "3            0        0                   0             0               0   \n",
       "4            0        0                   0             0               0   \n",
       "\n",
       "   Airport Service  Airport Terminal  American Restaurant  Antique Shop  \\\n",
       "0                0                 0                    0             0   \n",
       "1                0                 0                    0             0   \n",
       "2                0                 0                    0             0   \n",
       "3                0                 0                    0             0   \n",
       "4                0                 0                    0             0   \n",
       "\n",
       "   Aquarium     ...       Toy / Game Store  Trail  Train Station  \\\n",
       "0         0     ...                      0      0              0   \n",
       "1         0     ...                      0      0              0   \n",
       "2         0     ...                      0      0              0   \n",
       "3         0     ...                      0      0              0   \n",
       "4         0     ...                      0      0              0   \n",
       "\n",
       "   Transportation Service  Vegetarian / Vegan Restaurant  Video Game Store  \\\n",
       "0                       0                              0                 0   \n",
       "1                       0                              0                 0   \n",
       "2                       0                              0                 0   \n",
       "3                       0                              0                 0   \n",
       "4                       0                              0                 0   \n",
       "\n",
       "   Vietnamese Restaurant  Wine Bar  Wine Shop  Wings Joint  \n",
       "0                      0         0          0            0  \n",
       "1                      0         0          0            0  \n",
       "2                      0         0          0            0  \n",
       "3                      0         0          0            0  \n",
       "4                      0         0          0            0  \n",
       "\n",
       "[5 rows x 224 columns]"
      ]
     },
     "execution_count": 22,
     "metadata": {},
     "output_type": "execute_result"
    }
   ],
   "source": [
    "# one hot encoding\n",
    "toronto_onehot = pd.get_dummies(toronto_venues[['Venue Category']], prefix=\"\", prefix_sep=\"\")\n",
    "\n",
    "# add neighborhood column back to dataframe\n",
    "toronto_onehot['Neighborhood'] = toronto_venues['Neighborhood'] \n",
    "\n",
    "# move neighborhood column to the first column\n",
    "fixed_columns = [toronto_onehot.columns[-1]] + list(toronto_onehot.columns[:-1])\n",
    "toronto_onehot = toronto_onehot[fixed_columns]\n",
    "\n",
    "toronto_onehot.head()"
   ]
  },
  {
   "cell_type": "markdown",
   "metadata": {},
   "source": [
    "Examining the new dataframe size"
   ]
  },
  {
   "cell_type": "code",
   "execution_count": 23,
   "metadata": {},
   "outputs": [
    {
     "data": {
      "text/plain": [
       "(1190, 224)"
      ]
     },
     "execution_count": 23,
     "metadata": {},
     "output_type": "execute_result"
    }
   ],
   "source": [
    "toronto_onehot.shape"
   ]
  },
  {
   "cell_type": "markdown",
   "metadata": {},
   "source": [
    "Grouping rows by neighborhood and taking the mean of the frequency of occurence of each categgory"
   ]
  },
  {
   "cell_type": "code",
   "execution_count": 85,
   "metadata": {},
   "outputs": [
    {
     "data": {
      "text/html": [
       "<div>\n",
       "<style scoped>\n",
       "    .dataframe tbody tr th:only-of-type {\n",
       "        vertical-align: middle;\n",
       "    }\n",
       "\n",
       "    .dataframe tbody tr th {\n",
       "        vertical-align: top;\n",
       "    }\n",
       "\n",
       "    .dataframe thead th {\n",
       "        text-align: right;\n",
       "    }\n",
       "</style>\n",
       "<table border=\"1\" class=\"dataframe\">\n",
       "  <thead>\n",
       "    <tr style=\"text-align: right;\">\n",
       "      <th></th>\n",
       "      <th>Neighborhood</th>\n",
       "      <th>Yoga Studio</th>\n",
       "      <th>Airport</th>\n",
       "      <th>Airport Food Court</th>\n",
       "      <th>Airport Gate</th>\n",
       "      <th>Airport Lounge</th>\n",
       "      <th>Airport Service</th>\n",
       "      <th>Airport Terminal</th>\n",
       "      <th>American Restaurant</th>\n",
       "      <th>Antique Shop</th>\n",
       "      <th>...</th>\n",
       "      <th>Toy / Game Store</th>\n",
       "      <th>Trail</th>\n",
       "      <th>Train Station</th>\n",
       "      <th>Transportation Service</th>\n",
       "      <th>Vegetarian / Vegan Restaurant</th>\n",
       "      <th>Video Game Store</th>\n",
       "      <th>Vietnamese Restaurant</th>\n",
       "      <th>Wine Bar</th>\n",
       "      <th>Wine Shop</th>\n",
       "      <th>Wings Joint</th>\n",
       "    </tr>\n",
       "  </thead>\n",
       "  <tbody>\n",
       "    <tr>\n",
       "      <th>0</th>\n",
       "      <td>Berczy Park</td>\n",
       "      <td>0.00</td>\n",
       "      <td>0.000000</td>\n",
       "      <td>0.000000</td>\n",
       "      <td>0.000000</td>\n",
       "      <td>0.000000</td>\n",
       "      <td>0.0</td>\n",
       "      <td>0.000000</td>\n",
       "      <td>0.0</td>\n",
       "      <td>0.0</td>\n",
       "      <td>...</td>\n",
       "      <td>0.0</td>\n",
       "      <td>0.0</td>\n",
       "      <td>0.0</td>\n",
       "      <td>0.0</td>\n",
       "      <td>0.02</td>\n",
       "      <td>0.0</td>\n",
       "      <td>0.0</td>\n",
       "      <td>0.0</td>\n",
       "      <td>0.0</td>\n",
       "      <td>0.0</td>\n",
       "    </tr>\n",
       "    <tr>\n",
       "      <th>1</th>\n",
       "      <td>Brockton, Parkdale Village, Exhibition Place</td>\n",
       "      <td>0.00</td>\n",
       "      <td>0.000000</td>\n",
       "      <td>0.000000</td>\n",
       "      <td>0.000000</td>\n",
       "      <td>0.000000</td>\n",
       "      <td>0.0</td>\n",
       "      <td>0.000000</td>\n",
       "      <td>0.0</td>\n",
       "      <td>0.0</td>\n",
       "      <td>...</td>\n",
       "      <td>0.0</td>\n",
       "      <td>0.0</td>\n",
       "      <td>0.0</td>\n",
       "      <td>0.0</td>\n",
       "      <td>0.00</td>\n",
       "      <td>0.0</td>\n",
       "      <td>0.0</td>\n",
       "      <td>0.0</td>\n",
       "      <td>0.0</td>\n",
       "      <td>0.0</td>\n",
       "    </tr>\n",
       "    <tr>\n",
       "      <th>2</th>\n",
       "      <td>Business reply mail Processing Centre, South C...</td>\n",
       "      <td>0.00</td>\n",
       "      <td>0.000000</td>\n",
       "      <td>0.000000</td>\n",
       "      <td>0.000000</td>\n",
       "      <td>0.000000</td>\n",
       "      <td>0.0</td>\n",
       "      <td>0.000000</td>\n",
       "      <td>0.0</td>\n",
       "      <td>0.0</td>\n",
       "      <td>...</td>\n",
       "      <td>0.0</td>\n",
       "      <td>0.0</td>\n",
       "      <td>0.0</td>\n",
       "      <td>0.0</td>\n",
       "      <td>0.00</td>\n",
       "      <td>0.0</td>\n",
       "      <td>0.0</td>\n",
       "      <td>0.0</td>\n",
       "      <td>0.0</td>\n",
       "      <td>0.0</td>\n",
       "    </tr>\n",
       "    <tr>\n",
       "      <th>3</th>\n",
       "      <td>CN Tower, King and Spadina, Railway Lands, Har...</td>\n",
       "      <td>0.00</td>\n",
       "      <td>0.066667</td>\n",
       "      <td>0.066667</td>\n",
       "      <td>0.066667</td>\n",
       "      <td>0.133333</td>\n",
       "      <td>0.2</td>\n",
       "      <td>0.066667</td>\n",
       "      <td>0.0</td>\n",
       "      <td>0.0</td>\n",
       "      <td>...</td>\n",
       "      <td>0.0</td>\n",
       "      <td>0.0</td>\n",
       "      <td>0.0</td>\n",
       "      <td>0.0</td>\n",
       "      <td>0.00</td>\n",
       "      <td>0.0</td>\n",
       "      <td>0.0</td>\n",
       "      <td>0.0</td>\n",
       "      <td>0.0</td>\n",
       "      <td>0.0</td>\n",
       "    </tr>\n",
       "    <tr>\n",
       "      <th>4</th>\n",
       "      <td>Central Bay Street</td>\n",
       "      <td>0.02</td>\n",
       "      <td>0.000000</td>\n",
       "      <td>0.000000</td>\n",
       "      <td>0.000000</td>\n",
       "      <td>0.000000</td>\n",
       "      <td>0.0</td>\n",
       "      <td>0.000000</td>\n",
       "      <td>0.0</td>\n",
       "      <td>0.0</td>\n",
       "      <td>...</td>\n",
       "      <td>0.0</td>\n",
       "      <td>0.0</td>\n",
       "      <td>0.0</td>\n",
       "      <td>0.0</td>\n",
       "      <td>0.02</td>\n",
       "      <td>0.0</td>\n",
       "      <td>0.0</td>\n",
       "      <td>0.0</td>\n",
       "      <td>0.0</td>\n",
       "      <td>0.0</td>\n",
       "    </tr>\n",
       "  </tbody>\n",
       "</table>\n",
       "<p>5 rows × 224 columns</p>\n",
       "</div>"
      ],
      "text/plain": [
       "                                        Neighborhood  Yoga Studio   Airport  \\\n",
       "0                                        Berczy Park         0.00  0.000000   \n",
       "1       Brockton, Parkdale Village, Exhibition Place         0.00  0.000000   \n",
       "2  Business reply mail Processing Centre, South C...         0.00  0.000000   \n",
       "3  CN Tower, King and Spadina, Railway Lands, Har...         0.00  0.066667   \n",
       "4                                 Central Bay Street         0.02  0.000000   \n",
       "\n",
       "   Airport Food Court  Airport Gate  Airport Lounge  Airport Service  \\\n",
       "0            0.000000      0.000000        0.000000              0.0   \n",
       "1            0.000000      0.000000        0.000000              0.0   \n",
       "2            0.000000      0.000000        0.000000              0.0   \n",
       "3            0.066667      0.066667        0.133333              0.2   \n",
       "4            0.000000      0.000000        0.000000              0.0   \n",
       "\n",
       "   Airport Terminal  American Restaurant  Antique Shop     ...       \\\n",
       "0          0.000000                  0.0           0.0     ...        \n",
       "1          0.000000                  0.0           0.0     ...        \n",
       "2          0.000000                  0.0           0.0     ...        \n",
       "3          0.066667                  0.0           0.0     ...        \n",
       "4          0.000000                  0.0           0.0     ...        \n",
       "\n",
       "   Toy / Game Store  Trail  Train Station  Transportation Service  \\\n",
       "0               0.0    0.0            0.0                     0.0   \n",
       "1               0.0    0.0            0.0                     0.0   \n",
       "2               0.0    0.0            0.0                     0.0   \n",
       "3               0.0    0.0            0.0                     0.0   \n",
       "4               0.0    0.0            0.0                     0.0   \n",
       "\n",
       "   Vegetarian / Vegan Restaurant  Video Game Store  Vietnamese Restaurant  \\\n",
       "0                           0.02               0.0                    0.0   \n",
       "1                           0.00               0.0                    0.0   \n",
       "2                           0.00               0.0                    0.0   \n",
       "3                           0.00               0.0                    0.0   \n",
       "4                           0.02               0.0                    0.0   \n",
       "\n",
       "   Wine Bar  Wine Shop  Wings Joint  \n",
       "0       0.0        0.0          0.0  \n",
       "1       0.0        0.0          0.0  \n",
       "2       0.0        0.0          0.0  \n",
       "3       0.0        0.0          0.0  \n",
       "4       0.0        0.0          0.0  \n",
       "\n",
       "[5 rows x 224 columns]"
      ]
     },
     "execution_count": 85,
     "metadata": {},
     "output_type": "execute_result"
    }
   ],
   "source": [
    "toronto_grouped = toronto_onehot.groupby('Neighborhood').mean().reset_index()\n",
    "toronto_grouped.head()"
   ]
  },
  {
   "cell_type": "markdown",
   "metadata": {},
   "source": [
    "Confirming the new size"
   ]
  },
  {
   "cell_type": "code",
   "execution_count": 25,
   "metadata": {},
   "outputs": [
    {
     "data": {
      "text/plain": [
       "(39, 224)"
      ]
     },
     "execution_count": 25,
     "metadata": {},
     "output_type": "execute_result"
    }
   ],
   "source": [
    "toronto_grouped.shape"
   ]
  },
  {
   "cell_type": "markdown",
   "metadata": {},
   "source": [
    "Creating a new dataframe and displaying the top 10 venues for each neighborshood"
   ]
  },
  {
   "cell_type": "code",
   "execution_count": 26,
   "metadata": {},
   "outputs": [
    {
     "data": {
      "text/html": [
       "<div>\n",
       "<style scoped>\n",
       "    .dataframe tbody tr th:only-of-type {\n",
       "        vertical-align: middle;\n",
       "    }\n",
       "\n",
       "    .dataframe tbody tr th {\n",
       "        vertical-align: top;\n",
       "    }\n",
       "\n",
       "    .dataframe thead th {\n",
       "        text-align: right;\n",
       "    }\n",
       "</style>\n",
       "<table border=\"1\" class=\"dataframe\">\n",
       "  <thead>\n",
       "    <tr style=\"text-align: right;\">\n",
       "      <th></th>\n",
       "      <th>Neighborhood</th>\n",
       "      <th>1st Most Common Venue</th>\n",
       "      <th>2nd Most Common Venue</th>\n",
       "      <th>3rd Most Common Venue</th>\n",
       "      <th>4th Most Common Venue</th>\n",
       "      <th>5th Most Common Venue</th>\n",
       "      <th>6th Most Common Venue</th>\n",
       "      <th>7th Most Common Venue</th>\n",
       "      <th>8th Most Common Venue</th>\n",
       "      <th>9th Most Common Venue</th>\n",
       "      <th>10th Most Common Venue</th>\n",
       "    </tr>\n",
       "  </thead>\n",
       "  <tbody>\n",
       "    <tr>\n",
       "      <th>0</th>\n",
       "      <td>Berczy Park</td>\n",
       "      <td>Coffee Shop</td>\n",
       "      <td>Cocktail Bar</td>\n",
       "      <td>Restaurant</td>\n",
       "      <td>Cheese Shop</td>\n",
       "      <td>Seafood Restaurant</td>\n",
       "      <td>Beer Bar</td>\n",
       "      <td>Bakery</td>\n",
       "      <td>Café</td>\n",
       "      <td>Basketball Stadium</td>\n",
       "      <td>Park</td>\n",
       "    </tr>\n",
       "    <tr>\n",
       "      <th>1</th>\n",
       "      <td>Brockton, Parkdale Village, Exhibition Place</td>\n",
       "      <td>Café</td>\n",
       "      <td>Coffee Shop</td>\n",
       "      <td>Nightclub</td>\n",
       "      <td>Breakfast Spot</td>\n",
       "      <td>Stadium</td>\n",
       "      <td>Bakery</td>\n",
       "      <td>Restaurant</td>\n",
       "      <td>Intersection</td>\n",
       "      <td>Italian Restaurant</td>\n",
       "      <td>Climbing Gym</td>\n",
       "    </tr>\n",
       "    <tr>\n",
       "      <th>2</th>\n",
       "      <td>Business reply mail Processing Centre, South C...</td>\n",
       "      <td>Light Rail Station</td>\n",
       "      <td>Smoke Shop</td>\n",
       "      <td>Auto Workshop</td>\n",
       "      <td>Brewery</td>\n",
       "      <td>Spa</td>\n",
       "      <td>Burrito Place</td>\n",
       "      <td>Farmers Market</td>\n",
       "      <td>Fast Food Restaurant</td>\n",
       "      <td>Restaurant</td>\n",
       "      <td>Butcher</td>\n",
       "    </tr>\n",
       "    <tr>\n",
       "      <th>3</th>\n",
       "      <td>CN Tower, King and Spadina, Railway Lands, Har...</td>\n",
       "      <td>Airport Service</td>\n",
       "      <td>Airport Lounge</td>\n",
       "      <td>Boat or Ferry</td>\n",
       "      <td>Airport</td>\n",
       "      <td>Airport Food Court</td>\n",
       "      <td>Airport Gate</td>\n",
       "      <td>Airport Terminal</td>\n",
       "      <td>Sculpture Garden</td>\n",
       "      <td>Bar</td>\n",
       "      <td>Coffee Shop</td>\n",
       "    </tr>\n",
       "    <tr>\n",
       "      <th>4</th>\n",
       "      <td>Central Bay Street</td>\n",
       "      <td>Coffee Shop</td>\n",
       "      <td>Sandwich Place</td>\n",
       "      <td>Italian Restaurant</td>\n",
       "      <td>Burger Joint</td>\n",
       "      <td>Bubble Tea Shop</td>\n",
       "      <td>Café</td>\n",
       "      <td>Ice Cream Shop</td>\n",
       "      <td>Indian Restaurant</td>\n",
       "      <td>Bar</td>\n",
       "      <td>Spa</td>\n",
       "    </tr>\n",
       "  </tbody>\n",
       "</table>\n",
       "</div>"
      ],
      "text/plain": [
       "                                        Neighborhood 1st Most Common Venue  \\\n",
       "0                                        Berczy Park           Coffee Shop   \n",
       "1       Brockton, Parkdale Village, Exhibition Place                  Café   \n",
       "2  Business reply mail Processing Centre, South C...    Light Rail Station   \n",
       "3  CN Tower, King and Spadina, Railway Lands, Har...       Airport Service   \n",
       "4                                 Central Bay Street           Coffee Shop   \n",
       "\n",
       "  2nd Most Common Venue 3rd Most Common Venue 4th Most Common Venue  \\\n",
       "0          Cocktail Bar            Restaurant           Cheese Shop   \n",
       "1           Coffee Shop             Nightclub        Breakfast Spot   \n",
       "2            Smoke Shop         Auto Workshop               Brewery   \n",
       "3        Airport Lounge         Boat or Ferry               Airport   \n",
       "4        Sandwich Place    Italian Restaurant          Burger Joint   \n",
       "\n",
       "  5th Most Common Venue 6th Most Common Venue 7th Most Common Venue  \\\n",
       "0    Seafood Restaurant              Beer Bar                Bakery   \n",
       "1               Stadium                Bakery            Restaurant   \n",
       "2                   Spa         Burrito Place        Farmers Market   \n",
       "3    Airport Food Court          Airport Gate      Airport Terminal   \n",
       "4       Bubble Tea Shop                  Café        Ice Cream Shop   \n",
       "\n",
       "  8th Most Common Venue 9th Most Common Venue 10th Most Common Venue  \n",
       "0                  Café    Basketball Stadium                   Park  \n",
       "1          Intersection    Italian Restaurant           Climbing Gym  \n",
       "2  Fast Food Restaurant            Restaurant                Butcher  \n",
       "3      Sculpture Garden                   Bar            Coffee Shop  \n",
       "4     Indian Restaurant                   Bar                    Spa  "
      ]
     },
     "execution_count": 26,
     "metadata": {},
     "output_type": "execute_result"
    }
   ],
   "source": [
    "num_top_venues = 10\n",
    "\n",
    "indicators = ['st', 'nd', 'rd']\n",
    "\n",
    "#Function to sort the venues in descending order\n",
    "def return_most_common_venues(row, num_top_venues):\n",
    "    row_categories = row.iloc[1:]\n",
    "    row_categories_sorted = row_categories.sort_values(ascending=False)\n",
    "    \n",
    "    return row_categories_sorted.index.values[0:num_top_venues]\n",
    "\n",
    "\n",
    "# create columns according to number of top venues\n",
    "columns = ['Neighborhood']\n",
    "for ind in np.arange(num_top_venues):\n",
    "    try:\n",
    "        columns.append('{}{} Most Common Venue'.format(ind+1, indicators[ind]))\n",
    "    except:\n",
    "        columns.append('{}th Most Common Venue'.format(ind+1))\n",
    "\n",
    "# create a new dataframe\n",
    "toronto_venues_sorted = pd.DataFrame(columns=columns)\n",
    "toronto_venues_sorted['Neighborhood'] = toronto_grouped['Neighborhood']\n",
    "\n",
    "for ind in np.arange(toronto_grouped.shape[0]):\n",
    "    toronto_venues_sorted.iloc[ind, 1:] = return_most_common_venues(toronto_grouped.iloc[ind, :], num_top_venues)\n",
    "\n",
    "toronto_venues_sorted.head()"
   ]
  },
  {
   "cell_type": "markdown",
   "metadata": {},
   "source": [
    "### Cluster Neighborhoods"
   ]
  },
  {
   "cell_type": "markdown",
   "metadata": {},
   "source": [
    "Running k-means to cluster the neighborhood into 5 clusters."
   ]
  },
  {
   "cell_type": "code",
   "execution_count": 27,
   "metadata": {},
   "outputs": [
    {
     "data": {
      "text/plain": [
       "array([0, 0, 0, 0, 0, 0, 0, 0, 0, 0])"
      ]
     },
     "execution_count": 27,
     "metadata": {},
     "output_type": "execute_result"
    }
   ],
   "source": [
    "# set number of clusters\n",
    "kclusters = 5\n",
    "\n",
    "toronto_grouped_clustering = toronto_grouped.drop('Neighborhood', 1)\n",
    "\n",
    "# run k-means clustering\n",
    "kmeans = KMeans(n_clusters=kclusters, random_state=0).fit(toronto_grouped_clustering)\n",
    "\n",
    "# check cluster labels generated for each row in the dataframe\n",
    "kmeans.labels_[0:10] "
   ]
  },
  {
   "cell_type": "markdown",
   "metadata": {},
   "source": [
    "Creating a new dataframe that inlcudes the cluster as well as the top 10 venues for each neighborhood"
   ]
  },
  {
   "cell_type": "code",
   "execution_count": 28,
   "metadata": {},
   "outputs": [
    {
     "data": {
      "text/html": [
       "<div>\n",
       "<style scoped>\n",
       "    .dataframe tbody tr th:only-of-type {\n",
       "        vertical-align: middle;\n",
       "    }\n",
       "\n",
       "    .dataframe tbody tr th {\n",
       "        vertical-align: top;\n",
       "    }\n",
       "\n",
       "    .dataframe thead th {\n",
       "        text-align: right;\n",
       "    }\n",
       "</style>\n",
       "<table border=\"1\" class=\"dataframe\">\n",
       "  <thead>\n",
       "    <tr style=\"text-align: right;\">\n",
       "      <th></th>\n",
       "      <th>Postal Code</th>\n",
       "      <th>Borough</th>\n",
       "      <th>Neighborhood</th>\n",
       "      <th>Latitude</th>\n",
       "      <th>Longitude</th>\n",
       "      <th>Cluster Labels</th>\n",
       "      <th>1st Most Common Venue</th>\n",
       "      <th>2nd Most Common Venue</th>\n",
       "      <th>3rd Most Common Venue</th>\n",
       "      <th>4th Most Common Venue</th>\n",
       "      <th>5th Most Common Venue</th>\n",
       "      <th>6th Most Common Venue</th>\n",
       "      <th>7th Most Common Venue</th>\n",
       "      <th>8th Most Common Venue</th>\n",
       "      <th>9th Most Common Venue</th>\n",
       "      <th>10th Most Common Venue</th>\n",
       "    </tr>\n",
       "  </thead>\n",
       "  <tbody>\n",
       "    <tr>\n",
       "      <th>2</th>\n",
       "      <td>M5A</td>\n",
       "      <td>Downtown Toronto</td>\n",
       "      <td>Regent Park, Harbourfront</td>\n",
       "      <td>43.654260</td>\n",
       "      <td>-79.360636</td>\n",
       "      <td>0</td>\n",
       "      <td>Coffee Shop</td>\n",
       "      <td>Park</td>\n",
       "      <td>Bakery</td>\n",
       "      <td>Pub</td>\n",
       "      <td>Breakfast Spot</td>\n",
       "      <td>Restaurant</td>\n",
       "      <td>Café</td>\n",
       "      <td>Theater</td>\n",
       "      <td>Mexican Restaurant</td>\n",
       "      <td>Shoe Store</td>\n",
       "    </tr>\n",
       "    <tr>\n",
       "      <th>4</th>\n",
       "      <td>M7A</td>\n",
       "      <td>Downtown Toronto</td>\n",
       "      <td>Queen's Park, Ontario Provincial Government</td>\n",
       "      <td>43.662301</td>\n",
       "      <td>-79.389494</td>\n",
       "      <td>0</td>\n",
       "      <td>Coffee Shop</td>\n",
       "      <td>Wings Joint</td>\n",
       "      <td>Creperie</td>\n",
       "      <td>Park</td>\n",
       "      <td>Mexican Restaurant</td>\n",
       "      <td>Italian Restaurant</td>\n",
       "      <td>Hobby Shop</td>\n",
       "      <td>Gym</td>\n",
       "      <td>Fried Chicken Joint</td>\n",
       "      <td>Distribution Center</td>\n",
       "    </tr>\n",
       "    <tr>\n",
       "      <th>9</th>\n",
       "      <td>M5B</td>\n",
       "      <td>Downtown Toronto</td>\n",
       "      <td>Garden District, Ryerson</td>\n",
       "      <td>43.657162</td>\n",
       "      <td>-79.378937</td>\n",
       "      <td>0</td>\n",
       "      <td>Café</td>\n",
       "      <td>Middle Eastern Restaurant</td>\n",
       "      <td>Ramen Restaurant</td>\n",
       "      <td>Cosmetics Shop</td>\n",
       "      <td>Restaurant</td>\n",
       "      <td>Bookstore</td>\n",
       "      <td>Coffee Shop</td>\n",
       "      <td>Theater</td>\n",
       "      <td>Clothing Store</td>\n",
       "      <td>Tea Room</td>\n",
       "    </tr>\n",
       "    <tr>\n",
       "      <th>15</th>\n",
       "      <td>M5C</td>\n",
       "      <td>Downtown Toronto</td>\n",
       "      <td>St. James Town</td>\n",
       "      <td>43.651494</td>\n",
       "      <td>-79.375418</td>\n",
       "      <td>0</td>\n",
       "      <td>Café</td>\n",
       "      <td>Coffee Shop</td>\n",
       "      <td>Gastropub</td>\n",
       "      <td>Cosmetics Shop</td>\n",
       "      <td>Creperie</td>\n",
       "      <td>American Restaurant</td>\n",
       "      <td>Cocktail Bar</td>\n",
       "      <td>Restaurant</td>\n",
       "      <td>Beer Bar</td>\n",
       "      <td>Hotel</td>\n",
       "    </tr>\n",
       "    <tr>\n",
       "      <th>19</th>\n",
       "      <td>M4E</td>\n",
       "      <td>East Toronto</td>\n",
       "      <td>The Beaches</td>\n",
       "      <td>43.676357</td>\n",
       "      <td>-79.293031</td>\n",
       "      <td>2</td>\n",
       "      <td>Trail</td>\n",
       "      <td>Pub</td>\n",
       "      <td>Health Food Store</td>\n",
       "      <td>Wings Joint</td>\n",
       "      <td>Cupcake Shop</td>\n",
       "      <td>Dumpling Restaurant</td>\n",
       "      <td>Donut Shop</td>\n",
       "      <td>Doner Restaurant</td>\n",
       "      <td>Dog Run</td>\n",
       "      <td>Distribution Center</td>\n",
       "    </tr>\n",
       "  </tbody>\n",
       "</table>\n",
       "</div>"
      ],
      "text/plain": [
       "   Postal Code           Borough                                 Neighborhood  \\\n",
       "2          M5A  Downtown Toronto                    Regent Park, Harbourfront   \n",
       "4          M7A  Downtown Toronto  Queen's Park, Ontario Provincial Government   \n",
       "9          M5B  Downtown Toronto                     Garden District, Ryerson   \n",
       "15         M5C  Downtown Toronto                               St. James Town   \n",
       "19         M4E      East Toronto                                  The Beaches   \n",
       "\n",
       "     Latitude  Longitude  Cluster Labels 1st Most Common Venue  \\\n",
       "2   43.654260 -79.360636               0           Coffee Shop   \n",
       "4   43.662301 -79.389494               0           Coffee Shop   \n",
       "9   43.657162 -79.378937               0                  Café   \n",
       "15  43.651494 -79.375418               0                  Café   \n",
       "19  43.676357 -79.293031               2                 Trail   \n",
       "\n",
       "        2nd Most Common Venue 3rd Most Common Venue 4th Most Common Venue  \\\n",
       "2                        Park                Bakery                   Pub   \n",
       "4                 Wings Joint              Creperie                  Park   \n",
       "9   Middle Eastern Restaurant      Ramen Restaurant        Cosmetics Shop   \n",
       "15                Coffee Shop             Gastropub        Cosmetics Shop   \n",
       "19                        Pub     Health Food Store           Wings Joint   \n",
       "\n",
       "   5th Most Common Venue 6th Most Common Venue 7th Most Common Venue  \\\n",
       "2         Breakfast Spot            Restaurant                  Café   \n",
       "4     Mexican Restaurant    Italian Restaurant            Hobby Shop   \n",
       "9             Restaurant             Bookstore           Coffee Shop   \n",
       "15              Creperie   American Restaurant          Cocktail Bar   \n",
       "19          Cupcake Shop   Dumpling Restaurant            Donut Shop   \n",
       "\n",
       "   8th Most Common Venue 9th Most Common Venue 10th Most Common Venue  \n",
       "2                Theater    Mexican Restaurant             Shoe Store  \n",
       "4                    Gym   Fried Chicken Joint    Distribution Center  \n",
       "9                Theater        Clothing Store               Tea Room  \n",
       "15            Restaurant              Beer Bar                  Hotel  \n",
       "19      Doner Restaurant               Dog Run    Distribution Center  "
      ]
     },
     "execution_count": 28,
     "metadata": {},
     "output_type": "execute_result"
    }
   ],
   "source": [
    "# add clustering labels\n",
    "toronto_venues_sorted.insert(0, 'Cluster Labels', kmeans.labels_)\n",
    "\n",
    "toronto_merged = df_Toronto\n",
    "\n",
    "# merge toronto_grouped with toronto_data to add latitude/longitude for each neighborhood\n",
    "toronto_merged = toronto_merged.join(toronto_venues_sorted.set_index('Neighborhood'), on='Neighborhood')\n",
    "\n",
    "toronto_merged.head() # check the last columns!"
   ]
  },
  {
   "cell_type": "markdown",
   "metadata": {},
   "source": [
    "Visualizing the resulting clusters"
   ]
  },
  {
   "cell_type": "code",
   "execution_count": 29,
   "metadata": {},
   "outputs": [
    {
     "data": {
      "text/html": [
       "<div style=\"width:100%;\"><div style=\"position:relative;width:100%;height:0;padding-bottom:60%;\"><span style=\"color:#565656\">Make this Notebook Trusted to load map: File -> Trust Notebook</span><iframe src=\"about:blank\" style=\"position:absolute;width:100%;height:100%;left:0;top:0;border:none !important;\" data-html=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 onload=\"this.contentDocument.open();this.contentDocument.write(atob(this.getAttribute('data-html')));this.contentDocument.close();\" allowfullscreen webkitallowfullscreen mozallowfullscreen></iframe></div></div>"
      ],
      "text/plain": [
       "<folium.folium.Map at 0x2a86eb228d0>"
      ]
     },
     "execution_count": 29,
     "metadata": {},
     "output_type": "execute_result"
    }
   ],
   "source": [
    "# create map\n",
    "map_clusters = folium.Map(location=[latitude, longitude], zoom_start=11)\n",
    "\n",
    "# set color scheme for the clusters\n",
    "x = np.arange(kclusters)\n",
    "ys = [i + x + (i*x)**2 for i in range(kclusters)]\n",
    "colors_array = cm.rainbow(np.linspace(0, 1, len(ys)))\n",
    "rainbow = [colors.rgb2hex(i) for i in colors_array]\n",
    "\n",
    "# add markers to the map\n",
    "markers_colors = []\n",
    "for lat, lon, poi, cluster in zip(toronto_merged['Latitude'], \n",
    "                                  toronto_merged['Longitude'], \n",
    "                                  toronto_merged['Neighborhood'], \n",
    "                                  toronto_merged['Cluster Labels']):\n",
    "    label = folium.Popup(str(poi) + ' Cluster ' + str(cluster), parse_html=True)\n",
    "    folium.CircleMarker(\n",
    "        [lat, lon],\n",
    "        radius=5,\n",
    "        popup=label,\n",
    "        color=\"#070000\",\n",
    "        fill=True,\n",
    "        fill_color=rainbow[cluster-1],\n",
    "        fill_opacity=0.7).add_to(map_clusters)\n",
    "       \n",
    "map_clusters"
   ]
  },
  {
   "cell_type": "markdown",
   "metadata": {},
   "source": [
    "Since Folium was used to generate the map, it was verified that the map does not appear on Github. So the map will be willing as follow.\n",
    "\n",
    "![Clustered Neighborhoods](Neighborhoods_clustered.png)"
   ]
  },
  {
   "cell_type": "markdown",
   "metadata": {},
   "source": [
    "### Examining Clusters"
   ]
  },
  {
   "cell_type": "markdown",
   "metadata": {},
   "source": [
    "#### Cluster 0"
   ]
  },
  {
   "cell_type": "code",
   "execution_count": 30,
   "metadata": {},
   "outputs": [
    {
     "data": {
      "text/html": [
       "<div>\n",
       "<style scoped>\n",
       "    .dataframe tbody tr th:only-of-type {\n",
       "        vertical-align: middle;\n",
       "    }\n",
       "\n",
       "    .dataframe tbody tr th {\n",
       "        vertical-align: top;\n",
       "    }\n",
       "\n",
       "    .dataframe thead th {\n",
       "        text-align: right;\n",
       "    }\n",
       "</style>\n",
       "<table border=\"1\" class=\"dataframe\">\n",
       "  <thead>\n",
       "    <tr style=\"text-align: right;\">\n",
       "      <th></th>\n",
       "      <th>Borough</th>\n",
       "      <th>Cluster Labels</th>\n",
       "      <th>1st Most Common Venue</th>\n",
       "      <th>2nd Most Common Venue</th>\n",
       "      <th>3rd Most Common Venue</th>\n",
       "      <th>4th Most Common Venue</th>\n",
       "      <th>5th Most Common Venue</th>\n",
       "      <th>6th Most Common Venue</th>\n",
       "      <th>7th Most Common Venue</th>\n",
       "      <th>8th Most Common Venue</th>\n",
       "      <th>9th Most Common Venue</th>\n",
       "      <th>10th Most Common Venue</th>\n",
       "    </tr>\n",
       "  </thead>\n",
       "  <tbody>\n",
       "    <tr>\n",
       "      <th>2</th>\n",
       "      <td>Downtown Toronto</td>\n",
       "      <td>0</td>\n",
       "      <td>Coffee Shop</td>\n",
       "      <td>Park</td>\n",
       "      <td>Bakery</td>\n",
       "      <td>Pub</td>\n",
       "      <td>Breakfast Spot</td>\n",
       "      <td>Restaurant</td>\n",
       "      <td>Café</td>\n",
       "      <td>Theater</td>\n",
       "      <td>Mexican Restaurant</td>\n",
       "      <td>Shoe Store</td>\n",
       "    </tr>\n",
       "    <tr>\n",
       "      <th>4</th>\n",
       "      <td>Downtown Toronto</td>\n",
       "      <td>0</td>\n",
       "      <td>Coffee Shop</td>\n",
       "      <td>Wings Joint</td>\n",
       "      <td>Creperie</td>\n",
       "      <td>Park</td>\n",
       "      <td>Mexican Restaurant</td>\n",
       "      <td>Italian Restaurant</td>\n",
       "      <td>Hobby Shop</td>\n",
       "      <td>Gym</td>\n",
       "      <td>Fried Chicken Joint</td>\n",
       "      <td>Distribution Center</td>\n",
       "    </tr>\n",
       "    <tr>\n",
       "      <th>9</th>\n",
       "      <td>Downtown Toronto</td>\n",
       "      <td>0</td>\n",
       "      <td>Café</td>\n",
       "      <td>Middle Eastern Restaurant</td>\n",
       "      <td>Ramen Restaurant</td>\n",
       "      <td>Cosmetics Shop</td>\n",
       "      <td>Restaurant</td>\n",
       "      <td>Bookstore</td>\n",
       "      <td>Coffee Shop</td>\n",
       "      <td>Theater</td>\n",
       "      <td>Clothing Store</td>\n",
       "      <td>Tea Room</td>\n",
       "    </tr>\n",
       "    <tr>\n",
       "      <th>15</th>\n",
       "      <td>Downtown Toronto</td>\n",
       "      <td>0</td>\n",
       "      <td>Café</td>\n",
       "      <td>Coffee Shop</td>\n",
       "      <td>Gastropub</td>\n",
       "      <td>Cosmetics Shop</td>\n",
       "      <td>Creperie</td>\n",
       "      <td>American Restaurant</td>\n",
       "      <td>Cocktail Bar</td>\n",
       "      <td>Restaurant</td>\n",
       "      <td>Beer Bar</td>\n",
       "      <td>Hotel</td>\n",
       "    </tr>\n",
       "    <tr>\n",
       "      <th>20</th>\n",
       "      <td>Downtown Toronto</td>\n",
       "      <td>0</td>\n",
       "      <td>Coffee Shop</td>\n",
       "      <td>Cocktail Bar</td>\n",
       "      <td>Restaurant</td>\n",
       "      <td>Cheese Shop</td>\n",
       "      <td>Seafood Restaurant</td>\n",
       "      <td>Beer Bar</td>\n",
       "      <td>Bakery</td>\n",
       "      <td>Café</td>\n",
       "      <td>Basketball Stadium</td>\n",
       "      <td>Park</td>\n",
       "    </tr>\n",
       "  </tbody>\n",
       "</table>\n",
       "</div>"
      ],
      "text/plain": [
       "             Borough  Cluster Labels 1st Most Common Venue  \\\n",
       "2   Downtown Toronto               0           Coffee Shop   \n",
       "4   Downtown Toronto               0           Coffee Shop   \n",
       "9   Downtown Toronto               0                  Café   \n",
       "15  Downtown Toronto               0                  Café   \n",
       "20  Downtown Toronto               0           Coffee Shop   \n",
       "\n",
       "        2nd Most Common Venue 3rd Most Common Venue 4th Most Common Venue  \\\n",
       "2                        Park                Bakery                   Pub   \n",
       "4                 Wings Joint              Creperie                  Park   \n",
       "9   Middle Eastern Restaurant      Ramen Restaurant        Cosmetics Shop   \n",
       "15                Coffee Shop             Gastropub        Cosmetics Shop   \n",
       "20               Cocktail Bar            Restaurant           Cheese Shop   \n",
       "\n",
       "   5th Most Common Venue 6th Most Common Venue 7th Most Common Venue  \\\n",
       "2         Breakfast Spot            Restaurant                  Café   \n",
       "4     Mexican Restaurant    Italian Restaurant            Hobby Shop   \n",
       "9             Restaurant             Bookstore           Coffee Shop   \n",
       "15              Creperie   American Restaurant          Cocktail Bar   \n",
       "20    Seafood Restaurant              Beer Bar                Bakery   \n",
       "\n",
       "   8th Most Common Venue 9th Most Common Venue 10th Most Common Venue  \n",
       "2                Theater    Mexican Restaurant             Shoe Store  \n",
       "4                    Gym   Fried Chicken Joint    Distribution Center  \n",
       "9                Theater        Clothing Store               Tea Room  \n",
       "15            Restaurant              Beer Bar                  Hotel  \n",
       "20                  Café    Basketball Stadium                   Park  "
      ]
     },
     "execution_count": 30,
     "metadata": {},
     "output_type": "execute_result"
    }
   ],
   "source": [
    "clus0 = toronto_merged.loc[toronto_merged['Cluster Labels'] == 0, toronto_merged.columns[[1] + list(range(5, toronto_merged.shape[1]))]]\n",
    "clus0.head()"
   ]
  },
  {
   "cell_type": "code",
   "execution_count": 31,
   "metadata": {},
   "outputs": [
    {
     "name": "stdout",
     "output_type": "stream",
     "text": [
      "Number of neighborhoods in Cluster 0:  33\n"
     ]
    }
   ],
   "source": [
    "# How many neighborhood there are in this cluster\n",
    "print(\"Number of neighborhoods in Cluster 0: \",clus0.shape[0])"
   ]
  },
  {
   "cell_type": "code",
   "execution_count": 76,
   "metadata": {},
   "outputs": [
    {
     "data": {
      "text/html": [
       "<div>\n",
       "<style scoped>\n",
       "    .dataframe tbody tr th:only-of-type {\n",
       "        vertical-align: middle;\n",
       "    }\n",
       "\n",
       "    .dataframe tbody tr th {\n",
       "        vertical-align: top;\n",
       "    }\n",
       "\n",
       "    .dataframe thead th {\n",
       "        text-align: right;\n",
       "    }\n",
       "</style>\n",
       "<table border=\"1\" class=\"dataframe\">\n",
       "  <thead>\n",
       "    <tr style=\"text-align: right;\">\n",
       "      <th></th>\n",
       "      <th>Venues</th>\n",
       "      <th>Freq</th>\n",
       "    </tr>\n",
       "  </thead>\n",
       "  <tbody>\n",
       "    <tr>\n",
       "      <th>38</th>\n",
       "      <td>Coffee Shop</td>\n",
       "      <td>26</td>\n",
       "    </tr>\n",
       "    <tr>\n",
       "      <th>29</th>\n",
       "      <td>Café</td>\n",
       "      <td>24</td>\n",
       "    </tr>\n",
       "    <tr>\n",
       "      <th>100</th>\n",
       "      <td>Restaurant</td>\n",
       "      <td>20</td>\n",
       "    </tr>\n",
       "    <tr>\n",
       "      <th>76</th>\n",
       "      <td>Italian Restaurant</td>\n",
       "      <td>11</td>\n",
       "    </tr>\n",
       "    <tr>\n",
       "      <th>15</th>\n",
       "      <td>Bakery</td>\n",
       "      <td>11</td>\n",
       "    </tr>\n",
       "    <tr>\n",
       "      <th>90</th>\n",
       "      <td>Park</td>\n",
       "      <td>8</td>\n",
       "    </tr>\n",
       "    <tr>\n",
       "      <th>17</th>\n",
       "      <td>Bar</td>\n",
       "      <td>7</td>\n",
       "    </tr>\n",
       "    <tr>\n",
       "      <th>71</th>\n",
       "      <td>Hotel</td>\n",
       "      <td>7</td>\n",
       "    </tr>\n",
       "    <tr>\n",
       "      <th>103</th>\n",
       "      <td>Seafood Restaurant</td>\n",
       "      <td>6</td>\n",
       "    </tr>\n",
       "    <tr>\n",
       "      <th>66</th>\n",
       "      <td>Gym</td>\n",
       "      <td>6</td>\n",
       "    </tr>\n",
       "  </tbody>\n",
       "</table>\n",
       "</div>"
      ],
      "text/plain": [
       "                 Venues  Freq\n",
       "38          Coffee Shop    26\n",
       "29                 Café    24\n",
       "100          Restaurant    20\n",
       "76   Italian Restaurant    11\n",
       "15               Bakery    11\n",
       "90                 Park     8\n",
       "17                  Bar     7\n",
       "71                Hotel     7\n",
       "103  Seafood Restaurant     6\n",
       "66                  Gym     6"
      ]
     },
     "execution_count": 76,
     "metadata": {},
     "output_type": "execute_result"
    }
   ],
   "source": [
    "a = []\n",
    "for i in range(2,12):\n",
    "    a = a + list(clus0[clus0.columns[i]])\n",
    "\n",
    "counter = np.unique(a, return_counts = True)\n",
    "pd.DataFrame({'Venues': counter[0], 'Freq' : counter[1]} ).sort_values(by = ['Freq'], ascending = False).head(10)\n"
   ]
  },
  {
   "cell_type": "markdown",
   "metadata": {},
   "source": [
    "The cluster0 is compose for 33 neighborhoods and there are, predominantly, Coffee Shop and restaurants."
   ]
  },
  {
   "cell_type": "markdown",
   "metadata": {},
   "source": [
    "#### Cluster 1"
   ]
  },
  {
   "cell_type": "code",
   "execution_count": 71,
   "metadata": {},
   "outputs": [
    {
     "data": {
      "text/html": [
       "<div>\n",
       "<style scoped>\n",
       "    .dataframe tbody tr th:only-of-type {\n",
       "        vertical-align: middle;\n",
       "    }\n",
       "\n",
       "    .dataframe tbody tr th {\n",
       "        vertical-align: top;\n",
       "    }\n",
       "\n",
       "    .dataframe thead th {\n",
       "        text-align: right;\n",
       "    }\n",
       "</style>\n",
       "<table border=\"1\" class=\"dataframe\">\n",
       "  <thead>\n",
       "    <tr style=\"text-align: right;\">\n",
       "      <th></th>\n",
       "      <th>Borough</th>\n",
       "      <th>Cluster Labels</th>\n",
       "      <th>1st Most Common Venue</th>\n",
       "      <th>2nd Most Common Venue</th>\n",
       "      <th>3rd Most Common Venue</th>\n",
       "      <th>4th Most Common Venue</th>\n",
       "      <th>5th Most Common Venue</th>\n",
       "      <th>6th Most Common Venue</th>\n",
       "      <th>7th Most Common Venue</th>\n",
       "      <th>8th Most Common Venue</th>\n",
       "      <th>9th Most Common Venue</th>\n",
       "      <th>10th Most Common Venue</th>\n",
       "    </tr>\n",
       "  </thead>\n",
       "  <tbody>\n",
       "    <tr>\n",
       "      <th>62</th>\n",
       "      <td>Central Toronto</td>\n",
       "      <td>1</td>\n",
       "      <td>Pool</td>\n",
       "      <td>Garden</td>\n",
       "      <td>Wings Joint</td>\n",
       "      <td>Cupcake Shop</td>\n",
       "      <td>Dumpling Restaurant</td>\n",
       "      <td>Donut Shop</td>\n",
       "      <td>Doner Restaurant</td>\n",
       "      <td>Dog Run</td>\n",
       "      <td>Distribution Center</td>\n",
       "      <td>Discount Store</td>\n",
       "    </tr>\n",
       "  </tbody>\n",
       "</table>\n",
       "</div>"
      ],
      "text/plain": [
       "            Borough  Cluster Labels 1st Most Common Venue  \\\n",
       "62  Central Toronto               1                  Pool   \n",
       "\n",
       "   2nd Most Common Venue 3rd Most Common Venue 4th Most Common Venue  \\\n",
       "62                Garden           Wings Joint          Cupcake Shop   \n",
       "\n",
       "   5th Most Common Venue 6th Most Common Venue 7th Most Common Venue  \\\n",
       "62   Dumpling Restaurant            Donut Shop      Doner Restaurant   \n",
       "\n",
       "   8th Most Common Venue 9th Most Common Venue 10th Most Common Venue  \n",
       "62               Dog Run   Distribution Center         Discount Store  "
      ]
     },
     "execution_count": 71,
     "metadata": {},
     "output_type": "execute_result"
    }
   ],
   "source": [
    "clus1 = toronto_merged.loc[toronto_merged['Cluster Labels'] == 1, toronto_merged.columns[[1] + list(range(5, toronto_merged.shape[1]))]]\n",
    "clus1.head()"
   ]
  },
  {
   "cell_type": "code",
   "execution_count": 72,
   "metadata": {},
   "outputs": [
    {
     "name": "stdout",
     "output_type": "stream",
     "text": [
      "Number of neighborhoods in Cluster 1:  1\n"
     ]
    }
   ],
   "source": [
    "# How many neighborhood there are in this cluster\n",
    "print(\"Number of neighborhoods in Cluster 1: \",clus1.shape[0])"
   ]
  },
  {
   "cell_type": "markdown",
   "metadata": {},
   "source": [
    "The cluster1 is compose for 1 neighborhood and there is places to relax and spend a good time."
   ]
  },
  {
   "cell_type": "markdown",
   "metadata": {},
   "source": [
    "#### Cluster 2"
   ]
  },
  {
   "cell_type": "code",
   "execution_count": 73,
   "metadata": {},
   "outputs": [
    {
     "data": {
      "text/html": [
       "<div>\n",
       "<style scoped>\n",
       "    .dataframe tbody tr th:only-of-type {\n",
       "        vertical-align: middle;\n",
       "    }\n",
       "\n",
       "    .dataframe tbody tr th {\n",
       "        vertical-align: top;\n",
       "    }\n",
       "\n",
       "    .dataframe thead th {\n",
       "        text-align: right;\n",
       "    }\n",
       "</style>\n",
       "<table border=\"1\" class=\"dataframe\">\n",
       "  <thead>\n",
       "    <tr style=\"text-align: right;\">\n",
       "      <th></th>\n",
       "      <th>Borough</th>\n",
       "      <th>Cluster Labels</th>\n",
       "      <th>1st Most Common Venue</th>\n",
       "      <th>2nd Most Common Venue</th>\n",
       "      <th>3rd Most Common Venue</th>\n",
       "      <th>4th Most Common Venue</th>\n",
       "      <th>5th Most Common Venue</th>\n",
       "      <th>6th Most Common Venue</th>\n",
       "      <th>7th Most Common Venue</th>\n",
       "      <th>8th Most Common Venue</th>\n",
       "      <th>9th Most Common Venue</th>\n",
       "      <th>10th Most Common Venue</th>\n",
       "    </tr>\n",
       "  </thead>\n",
       "  <tbody>\n",
       "    <tr>\n",
       "      <th>19</th>\n",
       "      <td>East Toronto</td>\n",
       "      <td>2</td>\n",
       "      <td>Trail</td>\n",
       "      <td>Pub</td>\n",
       "      <td>Health Food Store</td>\n",
       "      <td>Wings Joint</td>\n",
       "      <td>Cupcake Shop</td>\n",
       "      <td>Dumpling Restaurant</td>\n",
       "      <td>Donut Shop</td>\n",
       "      <td>Doner Restaurant</td>\n",
       "      <td>Dog Run</td>\n",
       "      <td>Distribution Center</td>\n",
       "    </tr>\n",
       "    <tr>\n",
       "      <th>83</th>\n",
       "      <td>Central Toronto</td>\n",
       "      <td>2</td>\n",
       "      <td>Park</td>\n",
       "      <td>Playground</td>\n",
       "      <td>Summer Camp</td>\n",
       "      <td>Restaurant</td>\n",
       "      <td>College Rec Center</td>\n",
       "      <td>Cupcake Shop</td>\n",
       "      <td>Doner Restaurant</td>\n",
       "      <td>Dog Run</td>\n",
       "      <td>Distribution Center</td>\n",
       "      <td>Discount Store</td>\n",
       "    </tr>\n",
       "    <tr>\n",
       "      <th>91</th>\n",
       "      <td>Downtown Toronto</td>\n",
       "      <td>2</td>\n",
       "      <td>Park</td>\n",
       "      <td>Playground</td>\n",
       "      <td>Trail</td>\n",
       "      <td>Cupcake Shop</td>\n",
       "      <td>Dumpling Restaurant</td>\n",
       "      <td>Donut Shop</td>\n",
       "      <td>Doner Restaurant</td>\n",
       "      <td>Dog Run</td>\n",
       "      <td>Distribution Center</td>\n",
       "      <td>Discount Store</td>\n",
       "    </tr>\n",
       "  </tbody>\n",
       "</table>\n",
       "</div>"
      ],
      "text/plain": [
       "             Borough  Cluster Labels 1st Most Common Venue  \\\n",
       "19      East Toronto               2                 Trail   \n",
       "83   Central Toronto               2                  Park   \n",
       "91  Downtown Toronto               2                  Park   \n",
       "\n",
       "   2nd Most Common Venue 3rd Most Common Venue 4th Most Common Venue  \\\n",
       "19                   Pub     Health Food Store           Wings Joint   \n",
       "83            Playground           Summer Camp            Restaurant   \n",
       "91            Playground                 Trail          Cupcake Shop   \n",
       "\n",
       "   5th Most Common Venue 6th Most Common Venue 7th Most Common Venue  \\\n",
       "19          Cupcake Shop   Dumpling Restaurant            Donut Shop   \n",
       "83    College Rec Center          Cupcake Shop      Doner Restaurant   \n",
       "91   Dumpling Restaurant            Donut Shop      Doner Restaurant   \n",
       "\n",
       "   8th Most Common Venue 9th Most Common Venue 10th Most Common Venue  \n",
       "19      Doner Restaurant               Dog Run    Distribution Center  \n",
       "83               Dog Run   Distribution Center         Discount Store  \n",
       "91               Dog Run   Distribution Center         Discount Store  "
      ]
     },
     "execution_count": 73,
     "metadata": {},
     "output_type": "execute_result"
    }
   ],
   "source": [
    "clus2 = toronto_merged.loc[toronto_merged['Cluster Labels'] == 2, toronto_merged.columns[[1] + list(range(5, toronto_merged.shape[1]))]]\n",
    "clus2.head()"
   ]
  },
  {
   "cell_type": "code",
   "execution_count": 74,
   "metadata": {},
   "outputs": [
    {
     "name": "stdout",
     "output_type": "stream",
     "text": [
      "Number of neighborhoods in Cluster 2:  3\n"
     ]
    }
   ],
   "source": [
    "# How many neighborhood there are in this cluster\n",
    "print(\"Number of neighborhoods in Cluster 2: \",clus2.shape[0])"
   ]
  },
  {
   "cell_type": "code",
   "execution_count": 75,
   "metadata": {},
   "outputs": [
    {
     "data": {
      "text/html": [
       "<div>\n",
       "<style scoped>\n",
       "    .dataframe tbody tr th:only-of-type {\n",
       "        vertical-align: middle;\n",
       "    }\n",
       "\n",
       "    .dataframe tbody tr th {\n",
       "        vertical-align: top;\n",
       "    }\n",
       "\n",
       "    .dataframe thead th {\n",
       "        text-align: right;\n",
       "    }\n",
       "</style>\n",
       "<table border=\"1\" class=\"dataframe\">\n",
       "  <thead>\n",
       "    <tr style=\"text-align: right;\">\n",
       "      <th></th>\n",
       "      <th>Venues</th>\n",
       "      <th>Freq</th>\n",
       "    </tr>\n",
       "  </thead>\n",
       "  <tbody>\n",
       "    <tr>\n",
       "      <th>1</th>\n",
       "      <td>Cupcake Shop</td>\n",
       "      <td>3</td>\n",
       "    </tr>\n",
       "    <tr>\n",
       "      <th>3</th>\n",
       "      <td>Distribution Center</td>\n",
       "      <td>3</td>\n",
       "    </tr>\n",
       "    <tr>\n",
       "      <th>4</th>\n",
       "      <td>Dog Run</td>\n",
       "      <td>3</td>\n",
       "    </tr>\n",
       "    <tr>\n",
       "      <th>5</th>\n",
       "      <td>Doner Restaurant</td>\n",
       "      <td>3</td>\n",
       "    </tr>\n",
       "    <tr>\n",
       "      <th>2</th>\n",
       "      <td>Discount Store</td>\n",
       "      <td>2</td>\n",
       "    </tr>\n",
       "    <tr>\n",
       "      <th>6</th>\n",
       "      <td>Donut Shop</td>\n",
       "      <td>2</td>\n",
       "    </tr>\n",
       "    <tr>\n",
       "      <th>7</th>\n",
       "      <td>Dumpling Restaurant</td>\n",
       "      <td>2</td>\n",
       "    </tr>\n",
       "    <tr>\n",
       "      <th>9</th>\n",
       "      <td>Park</td>\n",
       "      <td>2</td>\n",
       "    </tr>\n",
       "    <tr>\n",
       "      <th>10</th>\n",
       "      <td>Playground</td>\n",
       "      <td>2</td>\n",
       "    </tr>\n",
       "    <tr>\n",
       "      <th>14</th>\n",
       "      <td>Trail</td>\n",
       "      <td>2</td>\n",
       "    </tr>\n",
       "  </tbody>\n",
       "</table>\n",
       "</div>"
      ],
      "text/plain": [
       "                 Venues  Freq\n",
       "1          Cupcake Shop     3\n",
       "3   Distribution Center     3\n",
       "4               Dog Run     3\n",
       "5      Doner Restaurant     3\n",
       "2        Discount Store     2\n",
       "6            Donut Shop     2\n",
       "7   Dumpling Restaurant     2\n",
       "9                  Park     2\n",
       "10           Playground     2\n",
       "14                Trail     2"
      ]
     },
     "execution_count": 75,
     "metadata": {},
     "output_type": "execute_result"
    }
   ],
   "source": [
    "a = []\n",
    "for i in range(2,12):\n",
    "    a = a + list(clus2[clus2.columns[i]])\n",
    "\n",
    "counter = np.unique(a, return_counts = True)\n",
    "pd.DataFrame({'Venues': counter[0], 'Freq' : counter[1]} ).sort_values(by = ['Freq'], ascending = False).head(10)\n"
   ]
  },
  {
   "cell_type": "markdown",
   "metadata": {},
   "source": [
    "The cluster2 is compose for 3 neighborhoods and there are Distribution Centers, restaurants and places to spend a good time"
   ]
  },
  {
   "cell_type": "markdown",
   "metadata": {},
   "source": [
    "#### Cluster 3"
   ]
  },
  {
   "cell_type": "code",
   "execution_count": 80,
   "metadata": {},
   "outputs": [
    {
     "data": {
      "text/html": [
       "<div>\n",
       "<style scoped>\n",
       "    .dataframe tbody tr th:only-of-type {\n",
       "        vertical-align: middle;\n",
       "    }\n",
       "\n",
       "    .dataframe tbody tr th {\n",
       "        vertical-align: top;\n",
       "    }\n",
       "\n",
       "    .dataframe thead th {\n",
       "        text-align: right;\n",
       "    }\n",
       "</style>\n",
       "<table border=\"1\" class=\"dataframe\">\n",
       "  <thead>\n",
       "    <tr style=\"text-align: right;\">\n",
       "      <th></th>\n",
       "      <th>Borough</th>\n",
       "      <th>Cluster Labels</th>\n",
       "      <th>1st Most Common Venue</th>\n",
       "      <th>2nd Most Common Venue</th>\n",
       "      <th>3rd Most Common Venue</th>\n",
       "      <th>4th Most Common Venue</th>\n",
       "      <th>5th Most Common Venue</th>\n",
       "      <th>6th Most Common Venue</th>\n",
       "      <th>7th Most Common Venue</th>\n",
       "      <th>8th Most Common Venue</th>\n",
       "      <th>9th Most Common Venue</th>\n",
       "      <th>10th Most Common Venue</th>\n",
       "    </tr>\n",
       "  </thead>\n",
       "  <tbody>\n",
       "    <tr>\n",
       "      <th>68</th>\n",
       "      <td>Central Toronto</td>\n",
       "      <td>3</td>\n",
       "      <td>Jewelry Store</td>\n",
       "      <td>Trail</td>\n",
       "      <td>Mexican Restaurant</td>\n",
       "      <td>Sushi Restaurant</td>\n",
       "      <td>Wings Joint</td>\n",
       "      <td>Deli / Bodega</td>\n",
       "      <td>Dumpling Restaurant</td>\n",
       "      <td>Donut Shop</td>\n",
       "      <td>Doner Restaurant</td>\n",
       "      <td>Dog Run</td>\n",
       "    </tr>\n",
       "  </tbody>\n",
       "</table>\n",
       "</div>"
      ],
      "text/plain": [
       "            Borough  Cluster Labels 1st Most Common Venue  \\\n",
       "68  Central Toronto               3         Jewelry Store   \n",
       "\n",
       "   2nd Most Common Venue 3rd Most Common Venue 4th Most Common Venue  \\\n",
       "68                 Trail    Mexican Restaurant      Sushi Restaurant   \n",
       "\n",
       "   5th Most Common Venue 6th Most Common Venue 7th Most Common Venue  \\\n",
       "68           Wings Joint         Deli / Bodega   Dumpling Restaurant   \n",
       "\n",
       "   8th Most Common Venue 9th Most Common Venue 10th Most Common Venue  \n",
       "68            Donut Shop      Doner Restaurant                Dog Run  "
      ]
     },
     "execution_count": 80,
     "metadata": {},
     "output_type": "execute_result"
    }
   ],
   "source": [
    "clus3 = toronto_merged.loc[toronto_merged['Cluster Labels'] == 3, toronto_merged.columns[[1] + list(range(5, toronto_merged.shape[1]))]]\n",
    "clus3.head()"
   ]
  },
  {
   "cell_type": "code",
   "execution_count": 81,
   "metadata": {},
   "outputs": [
    {
     "name": "stdout",
     "output_type": "stream",
     "text": [
      "Number of neighborhoods in Cluster 3:  1\n"
     ]
    }
   ],
   "source": [
    "# How many neighborhood there are in this cluster\n",
    "print(\"Number of neighborhoods in Cluster 3: \",clus3.shape[0])"
   ]
  },
  {
   "cell_type": "markdown",
   "metadata": {},
   "source": [
    "The cluster3 is compose for 1 neighborhood and there is some typical restaurants and a Jewelry Store"
   ]
  },
  {
   "cell_type": "markdown",
   "metadata": {},
   "source": [
    "### Cluster 4"
   ]
  },
  {
   "cell_type": "code",
   "execution_count": 82,
   "metadata": {},
   "outputs": [
    {
     "data": {
      "text/html": [
       "<div>\n",
       "<style scoped>\n",
       "    .dataframe tbody tr th:only-of-type {\n",
       "        vertical-align: middle;\n",
       "    }\n",
       "\n",
       "    .dataframe tbody tr th {\n",
       "        vertical-align: top;\n",
       "    }\n",
       "\n",
       "    .dataframe thead th {\n",
       "        text-align: right;\n",
       "    }\n",
       "</style>\n",
       "<table border=\"1\" class=\"dataframe\">\n",
       "  <thead>\n",
       "    <tr style=\"text-align: right;\">\n",
       "      <th></th>\n",
       "      <th>Borough</th>\n",
       "      <th>Cluster Labels</th>\n",
       "      <th>1st Most Common Venue</th>\n",
       "      <th>2nd Most Common Venue</th>\n",
       "      <th>3rd Most Common Venue</th>\n",
       "      <th>4th Most Common Venue</th>\n",
       "      <th>5th Most Common Venue</th>\n",
       "      <th>6th Most Common Venue</th>\n",
       "      <th>7th Most Common Venue</th>\n",
       "      <th>8th Most Common Venue</th>\n",
       "      <th>9th Most Common Venue</th>\n",
       "      <th>10th Most Common Venue</th>\n",
       "    </tr>\n",
       "  </thead>\n",
       "  <tbody>\n",
       "    <tr>\n",
       "      <th>61</th>\n",
       "      <td>Central Toronto</td>\n",
       "      <td>4</td>\n",
       "      <td>Park</td>\n",
       "      <td>Swim School</td>\n",
       "      <td>Bus Line</td>\n",
       "      <td>Wings Joint</td>\n",
       "      <td>Dance Studio</td>\n",
       "      <td>Dumpling Restaurant</td>\n",
       "      <td>Donut Shop</td>\n",
       "      <td>Doner Restaurant</td>\n",
       "      <td>Dog Run</td>\n",
       "      <td>Distribution Center</td>\n",
       "    </tr>\n",
       "  </tbody>\n",
       "</table>\n",
       "</div>"
      ],
      "text/plain": [
       "            Borough  Cluster Labels 1st Most Common Venue  \\\n",
       "61  Central Toronto               4                  Park   \n",
       "\n",
       "   2nd Most Common Venue 3rd Most Common Venue 4th Most Common Venue  \\\n",
       "61           Swim School              Bus Line           Wings Joint   \n",
       "\n",
       "   5th Most Common Venue 6th Most Common Venue 7th Most Common Venue  \\\n",
       "61          Dance Studio   Dumpling Restaurant            Donut Shop   \n",
       "\n",
       "   8th Most Common Venue 9th Most Common Venue 10th Most Common Venue  \n",
       "61      Doner Restaurant               Dog Run    Distribution Center  "
      ]
     },
     "execution_count": 82,
     "metadata": {},
     "output_type": "execute_result"
    }
   ],
   "source": [
    "clus4 = toronto_merged.loc[toronto_merged['Cluster Labels'] == 4, toronto_merged.columns[[1] + list(range(5, toronto_merged.shape[1]))]]\n",
    "clus4.head()"
   ]
  },
  {
   "cell_type": "code",
   "execution_count": 83,
   "metadata": {},
   "outputs": [
    {
     "name": "stdout",
     "output_type": "stream",
     "text": [
      "Number of neighborhoods in Cluster 4:  1\n"
     ]
    }
   ],
   "source": [
    "# How many neighborhood there are in this cluster\n",
    "print(\"Number of neighborhoods in Cluster 4: \",clus4.shape[0])"
   ]
  },
  {
   "cell_type": "markdown",
   "metadata": {},
   "source": [
    "The cluster4 is compose for 1 neighborhood and there is a Bus Line, some restaurants, a Swim School and others."
   ]
  },
  {
   "cell_type": "markdown",
   "metadata": {},
   "source": [
    "## Thank you"
   ]
  }
 ],
 "metadata": {
  "kernelspec": {
   "display_name": "Python 3",
   "language": "python",
   "name": "python3"
  },
  "language_info": {
   "codemirror_mode": {
    "name": "ipython",
    "version": 3
   },
   "file_extension": ".py",
   "mimetype": "text/x-python",
   "name": "python",
   "nbconvert_exporter": "python",
   "pygments_lexer": "ipython3",
   "version": "3.6.5"
  }
 },
 "nbformat": 4,
 "nbformat_minor": 4
}
